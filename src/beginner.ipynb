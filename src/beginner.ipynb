{
  "cells": [
    {
      "cell_type": "markdown",
      "metadata": {},
      "source": [
        "# # 第1章：Python入門\\n",
        "\\n",
        "## ## 1.1 Pythonとは？\\n",
        "\\n",
        "Python（パイソン）は、1991年にグイド・ヴァン・ロッサム氏によって開発されたプログラミング言語です。\\n",
        "読みやすく、書きやすい文法が特徴で、初心者からプロフェッショナルまで幅広く利用されています。\\n",
        "\\n",
        "****Pythonの哲学：****\\n",
        "Pythonには「The Zen of Python（Pythonの禅）」と呼ばれる設計思想があります。これは、コードの美しさやシンプルさを重視する考え方です。例えば、「複雑であるよりは単純であるほうがいい」「読みやすさは重要」といった指針が含まれています。\\n",
        "\\n",
        "****主な用途：****\\n",
        "Pythonはその汎用性の高さから、様々な分野で活用されています。\\n",
        "*   **ウェブ開発：** Django（ジャンゴ）やFlask（フラスク）といったフレームワークを使って、ウェブサイトやウェブアプリケーションのバックエンド（サーバー側）を構築できます。\\n",
        "*   **データサイエンス・機械学習・AI：** NumPy、Pandas、Scikit-learn、TensorFlow、PyTorchといった豊富なライブラリを利用して、データの分析、統計処理、機械学習モデルの構築、AI開発が行えます。\\n",
        "*   **業務自動化：** 日常的な繰り返し作業を自動化するスクリプトを作成するのにも適しています。"
      ]
    },
    {
      "cell_type": "markdown",
      "metadata": {},
      "source": [
        "### ### 練習問題 1.1\\n",
        "\\n",
        "あなたが考えるPythonの主な用途を2つ挙げ、それぞれ簡単に説明してください。"
      ]
    },
    {
      "cell_type": "markdown",
      "metadata": {},
      "source": [
        "ここに回答を記述してください。\\n",
        "1. 用途1：\\n",
        "   説明：\\n",
        "2. 用途2：\\n",
        "   説明："
      ]
    },
    {
      "cell_type": "markdown",
      "metadata": {
        "jupyter": {
          "source_hidden": true
        }
      },
      "source": [
        "---<details><summary>解答例 1.1</summary>\\n",
        "\\n",
        "1.  **ウェブアプリケーション開発**\\n",
        "    *   説明：InstagramやSpotifyのようなサービスのバックエンドに使われています。\\n",
        "2.  **データ分析**\\n",
        "    *   説明：大量のデータから意味のある情報を見つけ出すために使われます。\\n",
        "</details>"
      ]
    },
    {
      "cell_type": "markdown",
      "metadata": {},
      "source": [
        "## ## 1.2 なぜPythonを学ぶのか？\\n",
        "\\n",
        "Pythonを学ぶことには多くのメリットがあります。\\n",
        "*   **文法がシンプルで読みやすい：** プログラミング初心者にとって学習のハードルが低いです。\\n",
        "*   **大規模なコミュニティと豊富な情報：** 学習中に問題が発生しても、解決策を見つけやすいです。\\n",
        "*   **豊富なライブラリ：** 様々な用途に対応した質の高いプログラム部品が揃っています。\\n",
        "*   **汎用性が高く、様々な分野で使える：** ウェブ開発からAI開発まで幅広く活用できます。\\n",
        "*   **キャリア機会の拡大：** Pythonスキルを持つ人材の需要は高まっています。"
      ]
    },
    {
      "cell_type": "markdown",
      "metadata": {},
      "source": [
        "### ### 練習問題 1.2\\n",
        "\\n",
        "Pythonを学ぶことで、あなたの生活やキャリアにどのような良い影響があると思いますか？1つ具体的に記述してください。"
      ]
    },
    {
      "cell_type": "markdown",
      "metadata": {},
      "source": [
        "ここに回答を記述してください。"
      ]
    },
    {
      "cell_type": "markdown",
      "metadata": {
        "jupyter": {
          "source_hidden": true
        }
      },
      "source": [
        "---<details><summary>解答例 1.2</summary>\\n",
        "\\n",
        "*   例：新しいスキルが身につき、より専門的な仕事に挑戦できる可能性が広がる。／趣味でプログラムを作れるようになる。\\n",
        "</details>"
      ]
    },
    {
      "cell_type": "markdown",
      "metadata": {},
      "source": [
        "## ## 1.3 このColabノートブックの使い方\\n",
        "\\n",
        "このColaboratoryノートブックは、ウェブブラウザ上でPythonのコードを記述し、実行できる対話的な環境です。\\n",
        "*   **セル：** テキストセル（解説用）とコードセル（Pythonコード記述・実行用）があります。\\n",
        "*   **セルの実行：** コードセル左側の再生ボタン（▶）または `Shift + Enter` キーで実行します。\\n",
        "*   **対話的な学習：** 解説を読み、練習問題のコードセルに自分でコードを書き込み、実行して結果を確認しながら学習を進めます。\\n",
        "\\n",
        "さっそく、次の練習問題でコードセルを実行してみましょう。"
      ]
    },
    {
      "cell_type": "markdown",
      "metadata": {},
      "source": [
        "### ### 練習問題 1.3\\n",
        "\\n",
        "下のコードセルに `print(\"学習開始！\")` と入力し、実行（`Shift + Enter`）して出力結果を確認してください。"
      ]
    },
    {
      "cell_type": "code",
      "metadata": {},
      "source": [
        "def first_execution():\n",
        "  # [JP_PY_COMMENT_CH1_SEC3_EX_PH]\n",
        "  pass"
      ],
      "outputs": [],
      "execution_count": null
    },
    {
      "cell_type": "code",
      "metadata": {
        "jupyter": {
          "source_hidden": true
        }
      },
      "source": [
        "#@title [JP_CHECK_TITLE_CH1_SEC3_PH] { display-mode: \"form\" }\n",
        "try:\n",
        "    import io; import sys; captured_output = io.StringIO(); sys.stdout = captured_output\n",
        "    # Assuming first_execution is defined in the user's answer cell\n",
        "    # For this check to work, the user must have executed their answer cell first\n",
        "    if 'first_execution' in globals() and callable(globals()['first_execution']):\n",
        "        globals()['first_execution']()\n",
        "        output = captured_output.getvalue().strip()\n",
        "        if output == \"学習開始！\":\n",
        "            print(\"素晴らしい！正しく「学習開始！」と表示できました。\")\n",
        "        else:\n",
        "            print(f\"表示内容が異なります。「学習開始！」と表示されるように修正してみましょう。あなたの出力: '{output}'\")\n",
        "    else:\n",
        "        print(\"first_execution関数が定義されていないか、呼び出し可能ではありません。前のセルで定義・実行してください。\")\n",
        "    sys.stdout = sys.__stdout__\n",
        "except Exception as e:\n",
        "    sys.stdout = sys.__stdout__\n",
        "    print(f\"エラーが発生しました: {e}\")"
      ],
      "outputs": [],
      "execution_count": null
    },
    {
      "cell_type": "code",
      "metadata": {
        "jupyter": {
          "source_hidden": true
        }
      },
      "source": [
        "def first_execution():\n",
        "  print(\"学習開始！\")\n",
        "first_execution()"
      ],
      "outputs": [],
      "execution_count": null
    },
    {
      "cell_type": "markdown",
      "metadata": {},
      "source": [
        "# # 第2章：変数とデータ型\\n",
        "\\n",
        "プログラミングでは、「データ」を扱うことが基本です。データとは、数値、文字、真偽値（正しいか間違っているか）など、様々な種類の情報を指します。これらのデータを効率的に扱うために、「変数」と「データ型」という概念を理解することが重要です。\\n",
        "\\n",
        "## ## 2.1 変数とは？\\n",
        "\\n",
        "****変数 (Variable)**** とは、データ（値）を一時的に保存しておくための「名前が付いた箱」のようなものです。プログラムの中で何度も同じ値を使いたい場合や、計算結果を後で使いたい場合などに、その値を一度変数に保存しておけば、後は変数名を使って簡単にその値を参照したり、変更したりできます。\\n",
        "\\n",
        "**変数の目的：**\\n",
        "*   **データの再利用：** 一度計算した結果や入力された値を、後で何度も使えるようにします。\\n",
        "*   **プログラムの可読性向上：** データに意味のある名前を付けることで、プログラムが何をしているのか理解しやすくなります。（例：`price = 100` は、単に `100` と書くよりも意味が明確です。）\\n",
        "*   **データの管理：** プログラムの中で変化する値を追跡しやすくなります。\\n",
        "\\n",
        "**変数の命名規則：**\\n",
        "Pythonで変数名（箱の名前）を付ける際には、いくつかのルールがあります。\\n",
        "1.  使える文字：英字（小文字 `a-z`、大文字 `A-Z`）、数字（`0-9`）、アンダースコア（`_`）。\\n",
        "2.  最初の文字：数字で始めることはできません。必ず英字かアンダースコアで始めます。\\n",
        "    *   例： `my_variable` (OK), `_value` (OK), `2items` (NG)\\n",
        "3.  大文字と小文字の区別：Pythonでは、大文字と小文字は区別されます。つまり、`myvariable` と `MyVariable` は異なる変数として扱われます。\\n",
        "4.  予約語は使えない：「予約語（Keywords）」とは、Pythonの文法上、特別な意味を持つ単語のことです（例：`if`, `for`, `def`, `class` など）。これらは変数名として使えません。\\n",
        "5.  推奨される命名スタイル：一般的に、Pythonでは複数の単語からなる変数名の場合、単語間をアンダースコアでつなぐ「スネークケース（snake_case）」が推奨されます（例：`user_name`, `total_amount`）。"
      ]
    },
    {
      "cell_type": "markdown",
      "metadata": {},
      "source": [
        "### ### 練習問題 2.1\\n",
        "\\n",
        "3つの有効な（Pythonの命名規則に従った）変数名と、2つの無効な変数名を挙げてください。無効な変数名については、なぜ無効なのか理由も説明してください。"
      ]
    },
    {
      "cell_type": "markdown",
      "metadata": {},
      "source": [
        "ここに回答を記述してください。\\n",
        "\\n",
        "**有効な変数名：**\\n",
        "1. \\n",
        "2. \\n",
        "3. \\n",
        "\\n",
        "**無効な変数名と理由：**\\n",
        "1. 無効な変数名：\\n",
        "   理由：\\n",
        "2. 無効な変数名：\\n",
        "   理由："
      ]
    },
    {
      "cell_type": "markdown",
      "metadata": {
        "jupyter": {
          "source_hidden": true
        }
      },
      "source": [
        "---<details><summary>解答例 2.1</summary>\\n",
        "\\n",
        "**有効な変数名：**\\n",
        "1.  `user_age`\\n",
        "2.  `_calculation_result`\\n",
        "3.  `item_count_2`\\n",
        "\\n",
        "**無効な変数名と理由：**\\n",
        "1.  無効な変数名： `2_items`\\n",
        "    *   理由：変数名の最初の文字に数字は使えません。英字またはアンダースコアで始める必要があります。\\n",
        "2.  無効な変数名： `my-variable`\\n",
        "    *   理由：変数名にハイフン（`-`）は使えません。使える記号はアンダースコア（`_`）のみです。ハイフンは引き算の演算子と解釈されてしまいます。\\n",
        "</details>"
      ]
    },
    {
      "cell_type": "markdown",
      "metadata": {},
      "source": [
        "## ## 2.2 基本的なデータ型\\n",
        "\\n",
        "変数に格納するデータには、様々な「種類」があります。これを **データ型 (Data Type)** と呼びます。Pythonには多くの組み込みデータ型がありますが、まずは最も基本的なものを覚えましょう。\\n",
        "1.  **整数 (Integer / `int`)** (`int`): `0`, `100`, `-5` のような、小数点を含まない数値です。\\n",
        "2.  **浮動小数点数 (Floating-point number / `float`)** (`float`): `3.14`, `-0.001`, `2.0` のような、小数点を含む数値です。\\n",
        "3.  **文字列 (String / `str`)** (`str`): 「こんにちは」や「Python」のような、文字の並びです。シングルクォート（`'`）またはダブルクォート（`\"`）で囲んで表現します。\\n",
        "4.  **ブール値 (Boolean / `bool`)** (`bool`): `True`（真、正しい）または `False`（偽、間違っている）のどちらか一方の値しか取りません。\\n",
        "\\n",
        "変数がどのデータ型を持つかによって、その変数に対して行える操作が変わってきます。"
      ]
    },
    {
      "cell_type": "markdown",
      "metadata": {},
      "source": [
        "### ### 練習問題 2.2\\n",
        "\\n",
        "あなたの「名前（文字列型）」「年齢（整数型）」「好きな円周率の近似値（浮動小数点数型）」「プログラミング経験の有無（ブール値型）」を、それぞれ適切な名前の変数に格納し、それらの変数の値を `print()` 関数を使って表示してください。"
      ]
    },
    {
      "cell_type": "code",
      "metadata": {},
      "source": [
        "def my_profile_data():\n",
        "  # [JP_PY_COMMENT_CH2_SEC2_AS_PROMPT_PH]\n",
        "  # my_name = \"[JP_PY_COMMENT_CH2_SEC2_AS_NAME_PH]\"\n",
        "  # my_age = 0 # [JP_PY_COMMENT_CH2_SEC2_AS_AGE_PH]\n",
        "  # favorite_pi = 3.14 # [JP_PY_COMMENT_CH2_SEC2_AS_PI_PH]\n",
        "  # has_programming_experience = False # [JP_PY_COMMENT_CH2_SEC2_AS_EXP_PH]\n",
        "  # print(\"[JP_PY_COMMENT_CH2_SEC2_AS_PRINT_LABEL_PH]\", my_name, my_age, favorite_pi, has_programming_experience)\n",
        "  pass\n",
        "# my_profile_data() # [JP_PY_COMMENT_CH2_SEC2_AS_CALL_FUNC_PH]"
      ],
      "outputs": [],
      "execution_count": null
    },
    {
      "cell_type": "code",
      "metadata": {
        "jupyter": {
          "source_hidden": true
        },
        "title": "[JP_CHECK_TITLE_CH2_SEC2_PH]"
      },
      "source": [
        "#@title [JP_CHECK_TITLE_CH2_SEC2_PH] { display-mode: \"form\" }\n",
        "print(\"[JP_CHECK_TEXT_CH2_SEC2_PH]\")"
      ],
      "outputs": [],
      "execution_count": null
    },
    {
      "cell_type": "code",
      "metadata": {
        "jupyter": {
          "source_hidden": true
        }
      },
      "source": [
        "def my_profile_data_solution():\n",
        "  my_name = \"鈴木一郎\"\n",
        "  my_age = 28\n",
        "  favorite_pi = 3.14159\n",
        "  has_programming_experience = True\n",
        "  print(\"名前:\", my_name)\n",
        "  print(\"年齢:\", my_age)\n",
        "  print(\"好きな円周率の近似値:\", favorite_pi)\n",
        "  print(\"プログラミング経験:\", has_programming_experience)\n",
        "my_profile_data_solution()"
      ],
      "outputs": [],
      "execution_count": null
    },
    {
      "cell_type": "markdown",
      "metadata": {},
      "source": [
        "## ## 2.3 変数への値の代入\\n",
        "\\n",
        "変数に値を関連付ける操作を **代入 (Assignment)** といいます。Pythonでは、代入演算子としてイコール記号（`=`）を使います。\\n",
        "\\n",
        "**構文：**\\n",
        "`変数名 = 値`\\n",
        "\\n",
        "例えば、`age` という名前の変数に `30` という値を代入するには、以下のように書きます。\\n",
        "```python\\n",
        "age = 30\\n",
        "```\\n",
        "これにより、`age` という名前の箱の中に `30` という整数データが格納されたイメージになります。一度変数に値が代入されると、プログラムの他の場所でその変数名を使うことで、格納されている値を参照できます。\\n",
        "```python\\n",
        "score = 85\\n",
        "print(score) # # 出力: 85\\n",
        "```\\n",
        "\\n",
        "**値の再代入：**\\n",
        "変数の値は、後から別の値を代入することで変更（上書き）できます。これを **再代入** といいます。\\n",
        "```python\\n",
        "message = \"おはよう\"\\n",
        "print(message) # # 出力: おはよう\\n",
        "message = \"こんにちは\" # # 同じ変数 message に別の文字列を再代入\\n",
        "print(message) # # 出力: こんにちは\\n",
        "```\\n",
        "このように、変数はプログラムの実行中にその値を変化させることができるため、「変数」と呼ばれます。"
      ]
    },
    {
      "cell_type": "markdown",
      "metadata": {},
      "source": [
        "### ### 練習問題 2.3\\n",
        "\\n",
        "以下のステップで変数操作を練習しましょう。\\n",
        "1. `favorite_language` という名前の変数に、あなたの好きなプログラミング言語名（文字列）を代入してください（例: \"Python\")。\\n",
        "2. その変数の値を `print()` 関数で表示してください。\\n",
        "3. 次に、同じ `favorite_language` 変数に、別のプログラミング言語名（文字列、例: \"JavaScript\") を再代入してください。\\n",
        "4. 再度、その変数の値を `print()` 関数で表示してください。"
      ]
    },
    {
      "cell_type": "code",
      "metadata": {},
      "source": [
        "def reassign_language_variable():\n",
        "  # [JP_PY_COMMENT_CH2_SEC3_AS_STEP1_PH]\n",
        "  # favorite_language = \"Python\"\n",
        "  # [JP_PY_COMMENT_CH2_SEC3_AS_STEP2_PH]\n",
        "  # print(favorite_language)\n",
        "  # [JP_PY_COMMENT_CH2_SEC3_AS_STEP3_PH]\n",
        "  # favorite_language = \"JavaScript\"\n",
        "  # [JP_PY_COMMENT_CH2_SEC3_AS_STEP4_PH]\n",
        "  # print(favorite_language)\n",
        "  pass\n",
        "# reassign_language_variable() # [JP_PY_COMMENT_CH2_SEC3_AS_CALL_FUNC_PH]"
      ],
      "outputs": [],
      "execution_count": null
    },
    {
      "cell_type": "code",
      "metadata": {
        "jupyter": {
          "source_hidden": true
        },
        "title": "[JP_CHECK_TITLE_CH2_SEC3_PH]"
      },
      "source": [
        "#@title [JP_CHECK_TITLE_CH2_SEC3_PH] { display-mode: \"form\" }\n",
        "print(\"[JP_CHECK_TEXT_CH2_SEC3_PH]\")"
      ],
      "outputs": [],
      "execution_count": null
    },
    {
      "cell_type": "code",
      "metadata": {
        "jupyter": {
          "source_hidden": true
        }
      },
      "source": [
        "def reassign_language_variable_solution():\n",
        "  favorite_language = \"Python\"\n",
        "  print(favorite_language)\n",
        "  favorite_language = \"JavaScript\"\n",
        "  print(favorite_language)\n",
        "reassign_language_variable_solution()"
      ],
      "outputs": [],
      "execution_count": null
    },
    {
      "cell_type": "markdown",
      "metadata": {},
      "source": [
        "## ## 2.4 型の確認と変換\\n",
        "\\n",
        "プログラムを書いていると、変数が現在どのデータ型を持っているか確認したい場面や、あるデータ型から別のデータ型へ変換したい場面が出てきます。\\n",
        "\\n",
        "**型の確認： `type()` 関数**\\n",
        "変数がどのデータ型か調べるには、組み込み関数の `type()` を使います。\\n",
        "```python\\n",
        "age = 30\\n",
        "print(type(age)) # # 出力: <class 'int'>\\n",
        "name = \"Alice\"\\n",
        "print(type(name)) # # 出力: <class 'str'>\\n",
        "```\\n",
        "出力結果の `<class 'int'>` は、「`int` というクラス（型）のオブジェクトですよ」という意味です。\\n",
        "\\n",
        "**型の変換 (Type Conversion / Casting)：**\\n",
        "あるデータ型の値を別のデータ型に変換することもできます。これを型変換（またはキャスティング）といいます。\\n",
        "*   `int(value)`: 値を整数型に変換します。\\n",
        "*   `float(value)`: 値を浮動小数点数型に変換します。\\n",
        "*   `str(value)`: 値を文字列型に変換します。\\n",
        "*   `bool(value)`: 値をブール値型に変換します。\\n",
        "\\n",
        "```python\\n",
        "num_string = \"123\"\\n",
        "num_int = int(num_string)\\n",
        "print(num_int + 100) # # 出力: 223\\n",
        "```\\n",
        "**注意点：** 全ての型変換が成功するわけではありません。例えば、`int(\"Hello\")` のように、数値として解釈できない文字列を `int()` で変換しようとすると `ValueError` というエラーが発生します。"
      ]
    },
    {
      "cell_type": "markdown",
      "metadata": {},
      "source": [
        "### ### 練習問題 2.4\\n",
        "\\n",
        "以下のステップで型変換と計算を練習しましょう。\\n",
        "1. 変数 `price_string = \"1980.5\"` があります（これは文字列型です）。この変数を浮動小数点数型（`float`）に変換し、変換後の型と値を表示してください。\\n",
        "2. 整数 `quantity = 3` があります。この変数を文字列型（`str`）に変換し、変換後の型と値を表示してください。\\n",
        "3. 変換した浮動小数点数の価格と整数（変換前の`quantity`でOK）を使って、合計金額（価格 × 量）を計算し、表示してください。"
      ]
    },
    {
      "cell_type": "code",
      "metadata": {},
      "source": [
        "def type_conversion_calculation():\n",
        "  price_string = \"1980.5\"\n",
        "  quantity = 3\n",
        "  # [JP_PY_COMMENT_CH2_SEC4_AS_STEP1_PH]\n",
        "  # price_float = float(price_string)\n",
        "  # print(type(price_float), price_float)\n",
        "  # [JP_PY_COMMENT_CH2_SEC4_AS_STEP2_PH]\n",
        "  # quantity_str = str(quantity)\n",
        "  # print(type(quantity_str), quantity_str)\n",
        "  # [JP_PY_COMMENT_CH2_SEC4_AS_STEP3_PH]\n",
        "  # total_amount = price_float * quantity\n",
        "  # print(\"[JP_PY_COMMENT_CH2_SEC4_AS_TOTAL_LABEL_PH]\", total_amount)\n",
        "  pass\n",
        "# type_conversion_calculation() # [JP_PY_COMMENT_CH2_SEC4_AS_CALL_FUNC_PH]"
      ],
      "outputs": [],
      "execution_count": null
    },
    {
      "cell_type": "code",
      "metadata": {
        "jupyter": {
          "source_hidden": true
        },
        "title": "[JP_CHECK_TITLE_CH2_SEC4_PH]"
      },
      "source": [
        "#@title [JP_CHECK_TITLE_CH2_SEC4_PH] { display-mode: \"form\" }\n",
        "print(\"[JP_CHECK_TEXT_CH2_SEC4_PH]\")"
      ],
      "outputs": [],
      "execution_count": null
    },
    {
      "cell_type": "code",
      "metadata": {
        "jupyter": {
          "source_hidden": true
        }
      },
      "source": [
        "def type_conversion_calculation_solution():\n",
        "  price_string = \"1980.5\"\n",
        "  quantity = 3\n",
        "  price_float = float(price_string)\n",
        "  print(\"price_float の型:\", type(price_float), \"値:\", price_float)\n",
        "  quantity_str = str(quantity)\n",
        "  print(\"quantity_str の型:\", type(quantity_str), \"値:\", quantity_str)\n",
        "  total_amount = price_float * quantity\n",
        "  print(\"合計金額:\", total_amount)\n",
        "type_conversion_calculation_solution()"
      ],
      "outputs": [],
      "execution_count": null
    },
    {
      "cell_type": "markdown",
      "metadata": {},
      "source": [
        "# # 第3章：演算子\\n",
        "\\n",
        "プログラミングにおける **演算子 (Operator)** とは、特定の値（オペランドと呼ばれます）に対して、足し算、比較、論理演算などの操作を行うための記号やキーワードです。Pythonには様々な種類の演算子がありますが、ここでは基本的なものを学んでいきましょう。\\n",
        "\\n",
        "## ## 3.1 算術演算子\\n",
        "\\n",
        "算術演算子は、数値データに対して四則演算（足し算、引き算、掛け算、割り算）や、それに関連する計算を行うための演算子です。\\n",
        "\\n",
        "| 演算子 | 名称         | 例 (`a=7`, `b=2`) | 結果 | 説明                               |\\n",
        "| :----- | :----------- | :---------------- | :--- | :--------------------------------- |\\n",
        "| `+`    | 足し算（加算） | `a + b`           | `9`  | 2つの値を足します。                  |\\n",
        "| `-`    | 引き算（減算） | `a - b`           | `5`  | 左の値から右の値を引きます。           |\\n",
        "| `*`    | 掛け算（乗算） | `a * b`           | `14` | 2つの値を掛け合わせます。              |\\n",
        "| `/`    | 割り算（除算） | `a / b`           | `3.5`| 左の値を右の値で割ります（結果は浮動小数点数）。 |\\n",
        "| `//`   | 床除算       | `a // b`          | `3`  | 左の値を右の値で割り、小数点以下を切り捨てた整数部分を返します。 |\\n",
        "| `%`    | 剰余（余り）   | `a % b`           | `1`  | 左の値を右の値で割った余りを返します。   |\\n",
        "| `**`   | べき乗       | `a ** b`          | `49` | 左の値を右の値だけ累乗します（例：`a`の`b`乗）。 |\\n",
        "\\n",
        "これらの演算子は、計算結果を新しい変数に代入したり、`print()`関数で直接表示したりするのに使えます。\\n",
        "```python\\n",
        "x = 10\\n",
        "y = 3\\n",
        "addition_result = x + y\\n",
        "print(f\"{x} + {y} = {addition_result}\") # [JP_PY_COMMENT_CH3_SEC1_FSTRING_EXPLAIN_PH]\\n",
        "power_result = 2 ** 4  # [JP_PY_COMMENT_CH3_SEC1_POWER_EXPLAIN_PH]\\n",
        "print(f\"[JP_PY_STRING_CH3_SEC1_POWER_RESULT_PH] {power_result} [JP_PY_STRING_CH3_SEC1_IS_PH]\")\\n",
        "```"
      ]
    },
    {
      "cell_type": "markdown",
      "metadata": {},
      "source": [
        "### ### 練習問題 3.1\\n",
        "\\n",
        "変数 `a = 7` と `b = 2` があります。これらの変数を使って、以下の計算結果をそれぞれ `print()` 関数で表示してください。\\n",
        "1. 1.  `a` と `b` の和 (足し算)\\n",
        "2. 2.  `a` から `b` を引いた差 (引き算)\\n",
        "3. 3.  `a` と `b` の積 (掛け算)\\n",
        "4. 4.  `a` を `b` で割った商 (通常の割り算 `/`)\\n",
        "5. 5.  `a` を `b` で割った商 (床除算 `//`)\\n",
        "6. 6.  `a` を `b` で割った余り (剰余 `%`)\\n",
        "7. 7.  `a` の `b` 乗 (べき乗 `**`)"
      ]
    },
    {
      "cell_type": "code",
      "metadata": {},
      "source": [
        "def all_arithmetic_ops_updated():\n",
        "  a = 7\n",
        "  b = 2\n",
        "  # [JP_PY_COMMENT_CH3_SEC1_AS_SUM_PH]\n",
        "  # print(\"[JP_PY_STRING_CH3_SEC1_AS_SUM_LABEL_PH]\", a + b)\n",
        "  # [JP_PY_COMMENT_CH3_SEC1_AS_DIFF_PH]\n",
        "  # print(\"[JP_PY_STRING_CH3_SEC1_AS_DIFF_LABEL_PH]\", a - b)\n",
        "  # [JP_PY_COMMENT_CH3_SEC1_AS_PROD_PH]\n",
        "  # print(\"[JP_PY_STRING_CH3_SEC1_AS_PROD_LABEL_PH]\", a * b)\n",
        "  # [JP_PY_COMMENT_CH3_SEC1_AS_DIV_FLOAT_PH]\n",
        "  # print(\"[JP_PY_STRING_CH3_SEC1_AS_DIV_FLOAT_LABEL_PH]\", a / b)\n",
        "  # [JP_PY_COMMENT_CH3_SEC1_AS_DIV_FLOOR_PH]\n",
        "  # print(\"[JP_PY_STRING_CH3_SEC1_AS_DIV_FLOOR_LABEL_PH]\", a // b)\n",
        "  # [JP_PY_COMMENT_CH3_SEC1_AS_MODULO_PH]\n",
        "  # print(\"[JP_PY_STRING_CH3_SEC1_AS_MODULO_LABEL_PH]\", a % b)\n",
        "  # [JP_PY_COMMENT_CH3_SEC1_AS_POWER_PH]\n",
        "  # print(\"[JP_PY_STRING_CH3_SEC1_AS_POWER_LABEL_PH]\", a ** b)\n",
        "  pass\n",
        "# all_arithmetic_ops_updated() # [JP_PY_COMMENT_CH3_SEC1_AS_CALL_FUNC_PH]"
      ],
      "outputs": [],
      "execution_count": null
    },
    {
      "cell_type": "code",
      "metadata": {
        "jupyter": {
          "source_hidden": true
        },
        "title": "[JP_CHECK_TITLE_CH3_SEC1_PH]"
      },
      "source": [
        "#@title [JP_CHECK_TITLE_CH3_SEC1_PH] { display-mode: \"form\" }\n",
        "print(\"[JP_CHECK_TEXT_CH3_SEC1_PH]\")"
      ],
      "outputs": [],
      "execution_count": null
    },
    {
      "cell_type": "code",
      "metadata": {
        "jupyter": {
          "source_hidden": true
        }
      },
      "source": [
        "def all_arithmetic_ops_updated_solution():\n",
        "  a = 7\n",
        "  b = 2\n",
        "  print(\"和:\", a + b)\n",
        "  print(\"差:\", a - b)\n",
        "  print(\"積:\", a * b)\n",
        "  print(\"商 (/):\", a / b)\n",
        "  print(\"商 (//):\", a // b)\n",
        "  print(\"余り:\", a % b)\n",
        "  print(\"べき乗:\", a ** b)\n",
        "all_arithmetic_ops_updated_solution()"
      ],
      "outputs": [],
      "execution_count": null
    },
    {
      "cell_type": "markdown",
      "metadata": {},
      "source": [
        "## ## 3.2 比較演算子\\n",
        "\\n",
        "比較演算子は、2つの値（オペランド）を比較し、その比較結果をブール値（`True` または `False`）として返します。条件分岐（`if`文など、後で学びます）で非常によく使われます。\\n",
        "\\n",
        "| 演算子 | 名称             | 例 (`x=5`, `y=10`) | 結果    | 説明                                       |\\n",
        "| :----- | :--------------- | :----------------- | :------ | :----------------------------------------- |\\n",
        "| `==`   | 等しい           | `x == y`           | `False` | 2つの値が等しければ `True`。                |\\n",
        "| `!=`   | 等しくない       | `x != y`           | `True`  | 2つの値が等しくなければ `True`。            |\\n",
        "| `>`    | より大きい       | `x > y`            | `False` | 左の値が右の値より大きければ `True`。        |\\n",
        "| `<`    | より小さい       | `x < y`            | `True`  | 左の値が右の値より小さければ `True`。        |\\n",
        "| `>=`   | 以上（より大きいか等しい） | `x >= 5`           | `True`  | 左の値が右の値以上であれば `True`。          |\\n",
        "| `<=`   | 以下（より小さいか等しい） | `y <= 10`          | `True`  | 左の値が右の値以下であれば `True`。          |\\n",
        "\\n",
        "これらの演算子は、数値だけでなく、文字列に対しても使うことができます（文字列の場合は辞書順で比較されますが、ここでは数値の比較に焦点を当てます）。\\n",
        "```python\\n",
        "age = 20\\n",
        "is_adult = age >= 18\\n",
        "print(f\"[JP_PY_STRING_CH3_SEC2_IS_ADULT_PH] {is_adult}\")\\n",
        "```"
      ]
    },
    {
      "cell_type": "markdown",
      "metadata": {},
      "source": [
        "### ### 練習問題 3.2\\n",
        "\\n",
        "変数 `score = 85` があります。以下の3つの条件をそれぞれ比較演算子を使って評価し、結果のブール値（`True` または `False`）を `print()` 関数で表示してください。\\n",
        "1. 1.  `score` が80点以上である。\\n",
        "2. 2.  `score` が50点未満である。\\n",
        "3. 3.  `score` が100点と等しい。"
      ]
    },
    {
      "cell_type": "code",
      "metadata": {},
      "source": [
        "def check_score_conditions():\n",
        "  score = 85\n",
        "  # [JP_PY_COMMENT_CH3_SEC2_AS_COND1_PH]\n",
        "  # condition1 = score >= 80\n",
        "  # print(\"[JP_PY_STRING_CH3_SEC2_AS_COND1_LABEL_PH]\", condition1)\n",
        "  # [JP_PY_COMMENT_CH3_SEC2_AS_COND2_PH]\n",
        "  # condition2 = score < 50\n",
        "  # print(\"[JP_PY_STRING_CH3_SEC2_AS_COND2_LABEL_PH]\", condition2)\n",
        "  # [JP_PY_COMMENT_CH3_SEC2_AS_COND3_PH]\n",
        "  # condition3 = score == 100\n",
        "  # print(\"[JP_PY_STRING_CH3_SEC2_AS_COND3_LABEL_PH]\", condition3)\n",
        "  pass\n",
        "# check_score_conditions() # [JP_PY_COMMENT_CH3_SEC2_AS_CALL_FUNC_PH]"
      ],
      "outputs": [],
      "execution_count": null
    },
    {
      "cell_type": "code",
      "metadata": {
        "jupyter": {
          "source_hidden": true
        },
        "title": "[JP_CHECK_TITLE_CH3_SEC2_PH]"
      },
      "source": [
        "#@title [JP_CHECK_TITLE_CH3_SEC2_PH] { display-mode: \"form\" }\n",
        "print(\"[JP_CHECK_TEXT_CH3_SEC2_PH]\")"
      ],
      "outputs": [],
      "execution_count": null
    },
    {
      "cell_type": "code",
      "metadata": {
        "jupyter": {
          "source_hidden": true
        }
      },
      "source": [
        "def check_score_conditions_solution():\n",
        "  score = 85\n",
        "  condition1 = score >= 80\n",
        "  print(\"80点以上:\", condition1)\n",
        "  condition2 = score < 50\n",
        "  print(\"50点未満:\", condition2)\n",
        "  condition3 = score == 100\n",
        "  print(\"100点と等しい:\", condition3)\n",
        "check_score_conditions_solution()"
      ],
      "outputs": [],
      "execution_count": null
    },
    {
      "cell_type": "markdown",
      "metadata": {},
      "source": [
        "## ## 3.3 論理演算子\\n",
        "\\n",
        "論理演算子は、ブール値（`True` または `False`）に対して論理的な操作を行い、結果としてブール値を返します。複数の条件を組み合わせる際に使われます。\\n",
        "\\n",
        "| 演算子 | 名称     | 説明                                                                 |\\n",
        "| :----- | :------- | :------------------------------------------------------------------- |\\n",
        "| `and`  | 論理積   | 左右両方のオペランドが `True` の場合にのみ `True` を返します。それ以外は `False`。   |\\n",
        "| `or`   | 論理和   | 左右どちらかのオペランドが `True` であれば `True` を返します。両方 `False` の場合のみ `False`。 |\\n",
        "| `not`  | 論理否定 | オペランドが `True` なら `False` を、`False` なら `True` を返します（真偽を反転）。 |\\n",
        "\\n",
        "**真理値表 (Truth Table):**\\n",
        "`A` と `B` をブール値とすると、\\n",
        "\\n",
        "| A     | B     | `A and B` | `A or B` | `not A` |\\n",
        "| :---- | :---- | :-------- | :------- | :------ |\\n",
        "| `True`  | `True`  | `True`    | `True`   | `False` |\\n",
        "| `True`  | `False` | `False`   | `True`   | `False` |\\n",
        "| `False` | `True`  | `False`   | `True`   | `True`  |\\n",
        "| `False` | `False` | `False`   | `False`  | `True`  |\\n",
        "\\n",
        "例：\\n",
        "```python\\n",
        "age = 25\\n",
        "has_license = True\\n",
        "can_drive_legally = (age >= 20) and has_license\\n",
        "print(f\"[JP_PY_STRING_CH3_SEC3_CAN_DRIVE_PH] {can_drive_legally}\")\\n",
        "```"
      ]
    },
    {
      "cell_type": "markdown",
      "metadata": {},
      "source": [
        "### ### 練習問題 3.3\\n",
        "\\n",
        "変数 `is_sunny = True`（晴れているか）と `is_weekend = False`（週末か）があります。以下の3つの条件を論理演算子を使って評価し、結果のブール値（`True` または `False`）を `print()` 関数で表示してください。\\n",
        "1. 1.  晴れていて、かつ、週末である。（`and` を使用）\\n",
        "2. 2.  晴れている、または、週末である。（`or` を使用）\\n",
        "3. 3.  晴れていない。（`not` を使用）"
      ]
    },
    {
      "cell_type": "code",
      "metadata": {},
      "source": [
        "def weather_weekend_logic_evaluation():\n",
        "  is_sunny = True\n",
        "  is_weekend = False\n",
        "  # [JP_PY_COMMENT_CH3_SEC3_AS_COND_AND_PH]\n",
        "  # condition_and = is_sunny and is_weekend\n",
        "  # print(\"[JP_PY_STRING_CH3_SEC3_AS_COND_AND_LABEL_PH]\", condition_and)\n",
        "  # [JP_PY_COMMENT_CH3_SEC3_AS_COND_OR_PH]\n",
        "  # condition_or = is_sunny or is_weekend\n",
        "  # print(\"[JP_PY_STRING_CH3_SEC3_AS_COND_OR_LABEL_PH]\", condition_or)\n",
        "  # [JP_PY_COMMENT_CH3_SEC3_AS_COND_NOT_PH]\n",
        "  # condition_not_sunny = not is_sunny\n",
        "  # print(\"[JP_PY_STRING_CH3_SEC3_AS_COND_NOT_LABEL_PH]\", condition_not_sunny)\n",
        "  pass\n",
        "# weather_weekend_logic_evaluation() # [JP_PY_COMMENT_CH3_SEC3_AS_CALL_FUNC_PH]"
      ],
      "outputs": [],
      "execution_count": null
    },
    {
      "cell_type": "code",
      "metadata": {
        "jupyter": {
          "source_hidden": true
        },
        "title": "[JP_CHECK_TITLE_CH3_SEC3_PH]"
      },
      "source": [
        "#@title [JP_CHECK_TITLE_CH3_SEC3_PH] { display-mode: \"form\" }\n",
        "print(\"[JP_CHECK_TEXT_CH3_SEC3_PH]\")"
      ],
      "outputs": [],
      "execution_count": null
    },
    {
      "cell_type": "code",
      "metadata": {
        "jupyter": {
          "source_hidden": true
        }
      },
      "source": [
        "def weather_weekend_logic_evaluation_solution():\n",
        "  is_sunny = True\n",
        "  is_weekend = False\n",
        "  condition_and = is_sunny and is_weekend\n",
        "  print(\"晴れで週末:\", condition_and)\n",
        "  condition_or = is_sunny or is_weekend\n",
        "  print(\"晴れまたは週末:\", condition_or)\n",
        "  condition_not_sunny = not is_sunny\n",
        "  print(\"晴れていない:\", condition_not_sunny)\n",
        "weather_weekend_logic_evaluation_solution()"
      ],
      "outputs": [],
      "execution_count": null
    },
    {
      "cell_type": "markdown",
      "metadata": {},
      "source": [
        "## ## 3.4 演算子の優先順位\\n",
        "\\n",
        "一つの式の中に複数の異なる種類の演算子が含まれている場合、Pythonはどの演算子から順に評価（計算）していくかというルールを持っています。これを **演算子の優先順位 (Operator Precedence)** といいます。\\n",
        "\\n",
        "[JP_MD_CH3_SEC4_TABLE_PH_NOTE: Placeholder for assignment operators table]\\n",
        "\\n",
        "一般的な優先順位（高いものから低いものへ）：\\n",
        "1.  `**` (べき乗)\\n",
        "2.  `*`, `/`, `//`, `%` (乗算、除算、床除算、剰余) - これらは同じ優先順位で、左から右へ評価\\n",
        "3.  `+`, `-` (加算、減算) - これらも同じ優先順位で、左から右へ評価\\n",
        "4.  `>`, `<`, `>=`, `<=`, `==`, `!=` (比較演算子)\\n",
        "5.  `not` (論理否定)\\n",
        "6.  `and` (論理積)\\n",
        "7.  `or` (論理和)\\n",
        "```python\\n",
        "count = 5\\n",
        "count += 2  # [JP_PY_COMMENT_CH3_SEC4_ADD_ASSIGN_PH]\\n",
        "print(f\"[JP_PY_STRING_CH3_SEC4_COUNT_VALUE_PH] {count}\")\\n",
        "```"
      ]
    },
    {
      "cell_type": "markdown",
      "metadata": {},
      "source": [
        "### ### 練習問題 3.4\\n",
        "\\n",
        "[JP_MD_CH3_SEC4_EX_PROMPT_PH]"
      ]
    },
    {
      "cell_type": "code",
      "metadata": {},
      "source": [
        "def operator_precedence_evaluation():\n",
        "  a = 5\n",
        "  b = 10\n",
        "  c = True\n",
        "  # [JP_PY_COMMENT_CH3_SEC4_AS_EXPR1_PH]\n",
        "  # result1 = a + b / 2 == 10.0 and not c\n",
        "  # print(\"[JP_PY_STRING_CH3_SEC4_AS_RESULT1_LABEL_PH]\", result1)\n",
        "  \n",
        "  # [JP_PY_COMMENT_CH3_SEC4_AS_EXPR2_PH]\n",
        "  # result2 = (a + b) / 2 == 10.0 and (not c)\n",
        "  # print(\"[JP_PY_STRING_CH3_SEC4_AS_RESULT2_LABEL_PH]\", result2)\n",
        "  pass\n",
        "# operator_precedence_evaluation() # [JP_PY_COMMENT_CH3_SEC4_AS_CALL_FUNC_PH]"
      ],
      "outputs": [],
      "execution_count": null
    },
    {
      "cell_type": "code",
      "metadata": {
        "jupyter": {
          "source_hidden": true
        },
        "title": "[JP_CHECK_TITLE_CH3_SEC4_PH]"
      },
      "source": [
        "#@title [JP_CHECK_TITLE_CH3_SEC4_PH] { display-mode: \"form\" }\n",
        "print(\"[JP_CHECK_TEXT_CH3_SEC4_PH]\")"
      ],
      "outputs": [],
      "execution_count": null
    },
    {
      "cell_type": "code",
      "metadata": {
        "jupyter": {
          "source_hidden": true
        }
      },
      "source": [
        "def operator_precedence_evaluation_solution():\n",
        "  a = 5\n",
        "  b = 10\n",
        "  c = True\n",
        "  result1 = a + b / 2 == 10.0 and not c\n",
        "  print(\"result1 の評価結果:\", result1) # False\n",
        "  result2 = (a + b) / 2 == 10.0 and (not c)\n",
        "  print(\"result2 の評価結果:\", result2) # False\n",
        "operator_precedence_evaluation_solution()"
      ],
      "outputs": [],
      "execution_count": null
    },
    {
      "cell_type": "markdown",
      "metadata": {},
      "source": [
        "# # 第4章：制御フロー\\n",
        "\\n",
        "これまでの章では、プログラムは基本的に上から下へ順番に実行されてきました。しかし、実際のプログラムでは、特定の条件に基づいて処理を変えたり、同じ処理を何度も繰り返したりする必要があります。このようなプログラムの実行の流れを制御する仕組みを **制御フロー (Control Flow)** といいます。この章では、条件分岐のための `if` 文と、繰り返しのための `for` ループおよび `while` ループについて学びます。\\n",
        "\\n",
        "## ## 4.1 `if`文（条件分岐）\\n",
        "\\n",
        "`if`文は、指定された条件が「真（`True`）」である場合にのみ、特定のコードブロックを実行するための構文です。日常生活で「もし（if）雨が降っていたら、傘を持っていく」と考えるのに似ています。\\n",
        "\\n",
        "**基本的な構文：**\\n",
        "```python\\n",
        "if condition_placeholder:\\n",
        "    # [JP_PY_COMMENT_CH4_SEC1_IF_TRUE_PH]\\n",
        "    pass\\n",
        "```\\n",
        "*   `if`：Pythonのキーワードです。\\n",
        "*   `条件式`：評価すると `True` または `False` のブール値になる式（例：比較演算子を使った `age >= 18`）。\\n",
        "*   `:`（コロン）：条件式の後には必ずコロンが必要です。\\n",
        "*   **インデントされたコードブロック**：コロンの次の行から、インデント（通常は半角スペース4つ、またはタブ1つ）された部分が、条件式が `True` の場合に実行される処理の範囲を示します。インデントが元に戻ると、`if`文のブロックは終了です。インデントはPythonにおいて非常に重要なので、正確に記述しましょう。\\n",
        "\\n",
        "**例：**\\n",
        "```python\\n",
        "temperature = 30\\n",
        "if temperature > 28:\\n",
        "    print(\"[JP_PY_STRING_CH4_SEC1_HOT_TODAY_PH]\")\\n",
        "print(\"[JP_PY_STRING_CH4_SEC1_REST_OF_PROGRAM_PH]\")\\n",
        "```"
      ]
    },
    {
      "cell_type": "markdown",
      "metadata": {},
      "source": [
        "### ### 練習問題 4.1\\n",
        "\\n",
        "変数 `user_age = 17` があります。もし `user_age` が `18` 未満の場合に、「あなたは未成年です。」と表示する `if`文を作成してください。\\n",
        "`user_age` の値を `20` に変えてみて、表示が変わる（または何も表示されなくなる）ことも確認しましょう。"
      ]
    },
    {
      "cell_type": "code",
      "metadata": {},
      "source": [
        "def check_if_minor():\n",
        "  user_age = 17 # [JP_PY_COMMENT_CH4_SEC1_AS_CHANGE_AGE_PH]\n",
        "  # [JP_PY_COMMENT_CH4_SEC1_AS_IF_STATEMENT_PH]\n",
        "  # if user_age < 18:\n",
        "  #   print(\"[JP_PY_STRING_CH4_SEC1_AS_IS_MINOR_PH]\")\n",
        "  pass\n",
        "# check_if_minor() # [JP_PY_COMMENT_CH4_SEC1_AS_CALL_FUNC_PH]"
      ],
      "outputs": [],
      "execution_count": null
    },
    {
      "cell_type": "code",
      "metadata": {
        "jupyter": {
          "source_hidden": true
        },
        "title": "[JP_CHECK_TITLE_CH4_SEC1_PH]"
      },
      "source": [
        "#@title [JP_CHECK_TITLE_CH4_SEC1_PH] { display-mode: \"form\" }\n",
        "print(\"[JP_CHECK_TEXT_CH4_SEC1_PH]\")"
      ],
      "outputs": [],
      "execution_count": null
    },
    {
      "cell_type": "code",
      "metadata": {
        "jupyter": {
          "source_hidden": true
        }
      },
      "source": [
        "def check_if_minor_solution():\n",
        "  user_age = 17\n",
        "  if user_age < 18:\n",
        "    print(\"あなたは未成年です。\")\n",
        "  \n",
        "  user_age = 20\n",
        "  if user_age < 18:\n",
        "    print(\"あなたは未成年です。\") #実行されない\n",
        "  else:\n",
        "    print(f\"{user_age}歳は未成年ではありません。\")\n",
        "check_if_minor_solution()"
      ],
      "outputs": [],
      "execution_count": null
    },
    {
      "cell_type": "markdown",
      "metadata": {},
      "source": [
        "## ## 4.2 `else`と`elif`\\n",
        "\\n",
        "`if`文だけでは、「条件が真の場合」の処理しか書けませんでした。「条件が偽（`False`）の場合」の処理や、「複数の条件を順番に試したい」場合には、`else` や `elif` を使います。\\n",
        "\\n",
        "**`else`：条件が偽の場合**\\n",
        "`if` の条件式が `False` だった場合に実行される処理を記述するには、`else` ブロックを使います。\\n",
        "\\n",
        "**構文：**\\n",
        "```python\\n",
        "if condition_placeholder:\\n",
        "    # [JP_PY_COMMENT_CH4_SEC2_IF_COND1_TRUE_PH]\\n",
        "    pass\\n",
        "else:\\n",
        "    # [JP_PY_COMMENT_CH4_SEC2_IF_COND1_FALSE_PH]\\n",
        "    pass\\n",
        "```\\n",
        "**例：**\\n",
        "```python\\n",
        "score = 75\\n",
        "if score >= 60:\\n",
        "    print(\"[JP_PY_STRING_CH4_SEC2_PASS_PH]\")\\n",
        "else:\\n",
        "    print(\"[JP_PY_STRING_CH4_SEC2_FAIL_PH]\")\\n",
        "```\\n",
        "\\n",
        "**`elif`：複数の条件を試す**\\n",
        "`elif` は \"else if\" の略で、最初の `if` の条件が `False` だった場合に、さらに別の条件を試すために使います。複数の `elif` をつなげることができます。`if`, `elif` のどの条件にも当てはまらなかった場合の処理を `else` で記述することも可能です。\\n",
        "\\n",
        "**構文：**\\n",
        "```python\\n",
        "if condition1_placeholder:\\n",
        "    # [JP_PY_COMMENT_CH4_SEC2_ELIF_COND1_TRUE_PH]\\n",
        "    pass\\n",
        "elif condition2_placeholder:\\n",
        "    # [JP_PY_COMMENT_CH4_SEC2_ELIF_COND2_TRUE_PH]\\n",
        "    pass\\n",
        "else:\\n",
        "    # [JP_PY_COMMENT_CH4_SEC2_ELIF_ALL_FALSE_PH]\\n",
        "    pass\\n",
        "```\\n",
        "**例：**\\n",
        "```python\\n",
        "score = 85\\n",
        "if score >= 90:\\n",
        "    print(\"[JP_PY_STRING_CH4_SEC2_ELIF_GRADE_A_PH]\")\\n",
        "elif score >= 80:\\n",
        "    print(\"[JP_PY_STRING_CH4_SEC2_ELIF_GRADE_B_PH]\")\\n",
        "else:\\n",
        "    print(\"[JP_PY_STRING_CH4_SEC2_ELIF_GRADE_C_PH]\")\\n",
        "```\\n",
        "`if`, `elif`, `else` は上から順番に評価され、いずれかの条件が `True` になってそのブロックが実行されると、それ以降の `elif` や `else` は評価されずに `if`文全体が終了します。"
      ]
    },
    {
      "cell_type": "markdown",
      "metadata": {},
      "source": [
        "### ### 練習問題 4.2\\n",
        "\\n",
        "変数 `num = 0` があります。\\n",
        "- もし `num` が正の数（0より大きい）なら、「正の数です。」\\n",
        "- そうでなく、もし `num` が負の数（0より小さい）なら、「負の数です。」\\n",
        "- それ以外（つまり0）の場合は、「ゼロです。」\\n",
        "と表示するプログラムを `if`, `elif`, `else` を使って作成してください。`num` の値を `10` や `-5` に変えてみて、表示が正しく変わるか確認しましょう。"
      ]
    },
    {
      "cell_type": "code",
      "metadata": {},
      "source": [
        "def check_number_sign(number):\n",
        "  # [JP_PY_COMMENT_CH4_SEC2_AS_NUM_INPUT_PH]\n",
        "  # if number > 0:\n",
        "  #   print(f\"{number}[JP_PY_STRING_CH4_SEC2_AS_IS_POSITIVE_PH]\")\n",
        "  # elif number < 0:\n",
        "  #   print(f\"{number}[JP_PY_STRING_CH4_SEC2_AS_IS_NEGATIVE_PH]\")\n",
        "  # else:\n",
        "  #   print(f\"{number}[JP_PY_STRING_CH4_SEC2_AS_IS_ZERO_PH]\")\n",
        "  pass\n",
        "# check_number_sign(0)\n",
        "# check_number_sign(10)\n",
        "# check_number_sign(-5) # [JP_PY_COMMENT_CH4_SEC2_AS_CALL_FUNC_PH]"
      ],
      "outputs": [],
      "execution_count": null
    },
    {
      "cell_type": "code",
      "metadata": {
        "jupyter": {
          "source_hidden": true
        },
        "title": "[JP_CHECK_TITLE_CH4_SEC2_PH]"
      },
      "source": [
        "#@title [JP_CHECK_TITLE_CH4_SEC2_PH] { display-mode: \"form\" }\n",
        "print(\"[JP_CHECK_TEXT_CH4_SEC2_PH]\")"
      ],
      "outputs": [],
      "execution_count": null
    },
    {
      "cell_type": "code",
      "metadata": {
        "jupyter": {
          "source_hidden": true
        }
      },
      "source": [
        "def check_number_sign_solution(number):\n",
        "  if number > 0:\n",
        "    print(f\"{number} は正の数です。\")\n",
        "  elif number < 0:\n",
        "    print(f\"{number} は負の数です。\")\n",
        "  else:\n",
        "    print(f\"{number} はゼロです。\")\n",
        "\n",
        "check_number_sign_solution(0)\n",
        "check_number_sign_solution(10)\n",
        "check_number_sign_solution(-5)"
      ],
      "outputs": [],
      "execution_count": null
    },
    {
      "cell_type": "markdown",
      "metadata": {},
      "source": [
        "## ## 4.3 `for`ループ（繰り返し）\\n",
        "\\n",
        "`for`ループは、リスト、文字列、タプルなどの「シーケンス（順序のあるデータの集まり）」や、その他の反復可能なオブジェクト（イテラブルオブジェクト）の各要素に対して、順番に処理を繰り返すための構文です。\\n",
        "\\n",
        "**基本的な構文：**\\n",
        "```python\\n",
        "for item_variable_placeholder in iterable_placeholder:\\n",
        "    # [JP_PY_COMMENT_CH4_SEC3_LOOP_BODY_PH]\\n",
        "    pass\\n",
        "```\\n",
        "*   `for`, `in`：Pythonのキーワードです。\\n",
        "*   `変数`：ループの各イテレーション（繰り返し）で、イテラブルオブジェクトから取り出された要素が一時的に格納される変数です。任意の名前を付けられます。\\n",
        "*   `イテラブルオブジェクト`：リスト（例：`[1, 2, 3]`）、文字列（例：`\"abc\"`）、`range()`関数が生成するオブジェクトなど。\\n",
        "\\n",
        "**例1：リストの要素を順番に表示**\\n",
        "```python\\n",
        "fruits = [\"りんご\", \"バナナ\", \"みかん\"]\\n",
        "for fruit in fruits:\\n",
        "    print(fruit)\\n",
        "```\\n",
        "**例2：文字列の各文字を順番に表示**\\n",
        "```python\\n",
        "for char_placeholder in \"Python\":\\n",
        "    print(char_placeholder)\\n",
        "```\\n",
        "\\n",
        "**`range()`関数との組み合わせ**\\n",
        "特定の回数だけ処理を繰り返したい場合や、連続した数値を使いたい場合には `range()`関数がよく使われます。\\n",
        "*   `range(終了値)`：`0` から `終了値-1` までの連続した整数を生成します。\\n",
        "*   `range(開始値, 終了値)`：`開始値` から `終了値-1` までの連続した整数を生成します。\\n",
        "*   `range(開始値, 終了値, ステップ)`：`開始値` から `終了値-1` まで、`ステップ`ごとの整数を生成します。\\n",
        "\\n",
        "**例3：0から4まで表示**\\n",
        "```python\\n",
        "for i in range(5):\\n",
        "    print(i)\\n",
        "```"
      ]
    },
    {
      "cell_type": "markdown",
      "metadata": {},
      "source": [
        "### ### 練習問題 4.3\\n",
        "\\n",
        "1. 1.  `range()` 関数を使って、1から5までの整数（5を含む）を順番に表示する `for` ループを作成してください。\\n",
        "2. 2.  `colors = [\"赤\", \"青\", \"黄\", \"緑\"]` というリストがあります。このリストの各色を `for` ループを使って、「好きな色：[色名]」という形式で表示してください。"
      ]
    },
    {
      "cell_type": "code",
      "metadata": {},
      "source": [
        "def for_loop_practices():\n",
        "  # [JP_PY_COMMENT_CH4_SEC3_AS_STEP1_DESC_PH]\n",
        "  # for i in range(1, 6):\n",
        "  #   print(i)\n",
        "  \n",
        "  # [JP_PY_COMMENT_CH4_SEC3_AS_STEP2_DESC_PH]\n",
        "  # colors = [\"赤\", \"青\", \"黄\", \"緑\"]\n",
        "  # for color in colors:\n",
        "  #   print(f\"[JP_PY_STRING_CH4_SEC3_AS_FAVORITE_COLOR_PH]{color}\")\n",
        "  pass\n",
        "# for_loop_practices() # [JP_PY_COMMENT_CH4_SEC3_AS_CALL_FUNC_PH]"
      ],
      "outputs": [],
      "execution_count": null
    },
    {
      "cell_type": "code",
      "metadata": {
        "jupyter": {
          "source_hidden": true
        },
        "title": "[JP_CHECK_TITLE_CH4_SEC3_PH]"
      },
      "source": [
        "#@title [JP_CHECK_TITLE_CH4_SEC3_PH] { display-mode: \"form\" }\n",
        "print(\"[JP_CHECK_TEXT_CH4_SEC3_PH]\")"
      ],
      "outputs": [],
      "execution_count": null
    },
    {
      "cell_type": "code",
      "metadata": {
        "jupyter": {
          "source_hidden": true
        }
      },
      "source": [
        "def for_loop_practices_solution():\n",
        "  print(\"1から5までの数値:\")\n",
        "  for i in range(1, 6):\n",
        "    print(i)\n",
        "  \n",
        "  print(\"\\n好きな色リスト:\")\n",
        "  colors = [\"赤\", \"青\", \"黄\", \"緑\"]\n",
        "  for color in colors:\n",
        "    print(f\"好きな色：{color}\")\n",
        "for_loop_practices_solution()"
      ],
      "outputs": [],
      "execution_count": null
    },
    {
      "cell_type": "markdown",
      "metadata": {},
      "source": [
        "## ## 4.4 `while`ループ（条件に基づく繰り返し）\\n",
        "\\n",
        "`while`ループは、指定された条件式が `True` である間、ブロック内の処理を繰り返し実行します。`for`ループが主にシーケンスの要素数だけ繰り返すのに対し、`while`ループは条件が満たされなくなるまで（または明示的にループを抜けるまで）繰り返します。\\n",
        "\\n",
        "**基本的な構文：**\\n",
        "```python\\n",
        "while condition_placeholder:\\n",
        "    # [JP_PY_COMMENT_CH4_SEC4_LOOP_BODY_PH]\\n",
        "    pass\\n",
        "```\\n",
        "*   `while`：Pythonのキーワードです。\\n",
        "*   `条件式`：評価すると `True` または `False` のブール値になる式。この式が `True` である限りループが継続します。\\n",
        "*   `:`（コロン）：条件式の後には必ずコロンが必要です。\\n",
        "*   **インデントされたコードブロック**：条件が `True` の場合に繰り返される処理。\\n",
        "\\n",
        "**注意：無限ループ**\\n",
        "`while`ループでは、ループ内の処理で条件式がいつか `False` になるように変更を加えないと、ループが永遠に終わらない「無限ループ」に陥ってしまう可能性があります。無限ループを防ぐためには、ループカウンタ変数を用意してループ内で増減させたり、特定の条件でループを抜ける処理（後述の `break`）を入れたりする必要があります。\\n",
        "\\n",
        "**例：1から3まで表示**\\n",
        "```python\\n",
        "count = 1\\n",
        "while count <= 3:\\n",
        "    print(f\"[JP_PY_STRING_CH4_SEC4_COUNT_LABEL_PH]{count}\")\\n",
        "    count += 1\\n",
        "```"
      ]
    },
    {
      "cell_type": "markdown",
      "metadata": {},
      "source": [
        "### ### 練習問題 4.4\\n",
        "\\n",
        "`while`ループを使って、5から1までの整数（5, 4, 3, 2, 1）を大きい順に表示するプログラムを作成してください。\\n",
        "（ヒント：カウンタ変数を5で初期化し、ループ内で1ずつ減らし、1以上である間繰り返します。）"
      ]
    },
    {
      "cell_type": "code",
      "metadata": {},
      "source": [
        "def while_loop_countdown():\n",
        "  # [JP_PY_COMMENT_CH4_SEC4_AS_COUNTER_INIT_PH]\n",
        "  # count = 5\n",
        "  # [JP_PY_COMMENT_CH4_SEC4_AS_WHILE_LOOP_PH]\n",
        "  # while count >= 1:\n",
        "  #   print(count)\n",
        "  #   count -= 1\n",
        "  pass\n",
        "# while_loop_countdown() # [JP_PY_COMMENT_CH4_SEC4_AS_CALL_FUNC_PH]"
      ],
      "outputs": [],
      "execution_count": null
    },
    {
      "cell_type": "code",
      "metadata": {
        "jupyter": {
          "source_hidden": true
        },
        "title": "[JP_CHECK_TITLE_CH4_SEC4_PH]"
      },
      "source": [
        "#@title [JP_CHECK_TITLE_CH4_SEC4_PH] { display-mode: \"form\" }\n",
        "print(\"[JP_CHECK_TEXT_CH4_SEC4_PH]\")"
      ],
      "outputs": [],
      "execution_count": null
    },
    {
      "cell_type": "code",
      "metadata": {
        "jupyter": {
          "source_hidden": true
        }
      },
      "source": [
        "def while_loop_countdown_solution():\n",
        "  count = 5\n",
        "  while count >= 1:\n",
        "    print(count)\n",
        "    count -= 1\n",
        "while_loop_countdown_solution()"
      ],
      "outputs": [],
      "execution_count": null
    },
    {
      "cell_type": "markdown",
      "metadata": {},
      "source": [
        "## ## 4.5 `break`と`continue`\\n",
        "\\n",
        "`for`ループや`while`ループの実行中に、ループの通常の流れを制御したい場合があります。そのために `break` 文と `continue` 文が用意されています。\\n",
        "\\n",
        "**`break`文：ループの即時終了**\\n",
        "`break`文は、それを含む最も内側のループ（`for`または`while`）を即座に終了させます。ループの条件がまだ満たされていても、`break`が実行されるとループはそこで終わります。\\n",
        "\\n",
        "**例 (`for`ループで `break`):**\\n",
        "```python\\n",
        "for i in range(1, 10):\\n",
        "    if i == 5:\\n",
        "        print(\"[JP_PY_STRING_CH4_SEC5_FOUND_5_BREAK_PH]\")\\n",
        "        break\\n",
        "    print(f\"[JP_PY_STRING_CH4_SEC5_CURRENT_NUM_PH]{i}\")\\n",
        "```\\n",
        "\\n",
        "**`continue`文：現在のイテレーションをスキップ**\\n",
        "`continue`文は、ループ内の現在のイテレーション（繰り返し処理）の残りの部分をスキップし、次のイテレーションを開始します。ループ自体は終了しません。\\n",
        "\\n",
        "**例 (`for`ループで `continue`):**\\n",
        "```python\\n",
        "for i in range(1, 6):\\n",
        "    if i == 3:\\n",
        "        print(\"[JP_PY_STRING_CH4_SEC5_SKIPPING_3_PH]\")\\n",
        "        continue\\n",
        "    print(f\"[JP_PY_STRING_CH4_SEC5_PROCESSED_NUM_PH]{i}\")\\n",
        "```\\n",
        "`break` と `continue` は、特定の条件に基づいてループの挙動を細かく制御したい場合に役立ちます。"
      ]
    },
    {
      "cell_type": "markdown",
      "metadata": {},
      "source": [
        "### ### 練習問題 4.5\\n",
        "\\n",
        "1.  **`break` の練習：**\\n",
        "    `for` ループを使って、1から10までの数値を順番に表示します。ただし、数値が `7` になったら、「ラッキーセブン！ループを終了します。」と表示してループを即座に終了するプログラムを作成してください。\\n",
        "\\n",
        "2.  **`continue` の練習：**\\n",
        "    `for` ループを使って、1から10までの数値を順番に処理します。ただし、数値が `3` の倍数の場合はその数値を表示せず（スキップし）、「[数値]は3の倍数なのでスキップします。」と表示し、それ以外の数値の場合は「現在の数値：[数値]」と表示するプログラムを作成してください。"
      ]
    },
    {
      "cell_type": "code",
      "metadata": {},
      "source": [
        "def loop_control_break_continue():\n",
        "  # [JP_PY_COMMENT_CH4_SEC5_AS_BREAK_PRACTICE_PH]\n",
        "  # print(\"--- break の練習 ---\")\n",
        "  # for i in range(1, 11):\n",
        "  #   if i == 7:\n",
        "  #     print(\"[JP_PY_STRING_CH4_SEC5_AS_LUCKY7_BREAK_PH]\")\n",
        "  #     break\n",
        "  #   print(i)\n",
        "  \n",
        "  # [JP_PY_COMMENT_CH4_SEC5_AS_CONTINUE_PRACTICE_PH]\n",
        "  # print(\"\\n--- continue の練習 ---\")\n",
        "  # for i in range(1, 11):\n",
        "  #   if i % 3 == 0:\n",
        "  #     print(f\"{i}[JP_PY_STRING_CH4_SEC5_AS_MULTIPLE_OF_3_SKIP_PH]\")\n",
        "  #     continue\n",
        "  #   print(f\"[JP_PY_STRING_CH4_SEC5_AS_CURRENT_NUM_PH]{i}\")\n",
        "  pass\n",
        "# loop_control_break_continue() # [JP_PY_COMMENT_CH4_SEC5_AS_CALL_FUNC_PH]"
      ],
      "outputs": [],
      "execution_count": null
    },
    {
      "cell_type": "code",
      "metadata": {
        "jupyter": {
          "source_hidden": true
        },
        "title": "[JP_CHECK_TITLE_CH4_SEC5_PH]"
      },
      "source": [
        "#@title [JP_CHECK_TITLE_CH4_SEC5_PH] { display-mode: \"form\" }\n",
        "print(\"[JP_CHECK_TEXT_CH4_SEC5_PH]\")"
      ],
      "outputs": [],
      "execution_count": null
    },
    {
      "cell_type": "code",
      "metadata": {
        "jupyter": {
          "source_hidden": true
        }
      },
      "source": [
        "def loop_control_break_continue_solution():\n",
        "  print(\"--- break の練習 ---\")\n",
        "  for i in range(1, 11):\n",
        "    if i == 7:\n",
        "      print(\"ラッキーセブン！ループを終了します。\")\n",
        "      break\n",
        "    print(i)\n",
        "  \n",
        "  print(\"\\n--- continue の練習 ---\")\n",
        "  for i in range(1, 11):\n",
        "    if i % 3 == 0:\n",
        "      print(f\"{i}は3の倍数なのでスキップします。\")\n",
        "      continue\n",
        "    print(f\"現在の数値：{i}\")\n",
        "loop_control_break_continue_solution()"
      ],
      "outputs": [],
      "execution_count": null
    },
    {
      "cell_type": "markdown",
      "metadata": {},
      "source": [
        "# # 第5章：関数\\n",
        "\\n",
        "これまでの章で、私たちは様々な処理を行うコードを書いてきました。プログラムが大きくなってくると、同じような処理を何度も書いたり、特定のまとまった処理に名前を付けて管理したりしたくなります。そのような場合に役立つのが **関数 (Function)** です。関数を使うことで、コードの再利用性が高まり、プログラム全体の見通しが良くなります。\\n",
        "\\n",
        "## ## 5.1 関数とは？\\n",
        "\\n",
        "**関数**とは、特定のタスク（仕事）を実行するための一連の処理をまとめたもので、名前を付けて何度でも呼び出して使うことができるコードのブロックです。\\n",
        "\\n",
        "****関数のメリット：****\\n",
        "*   **再利用性：** 同じ処理を何度も書く必要がなくなり、一度定義した関数を必要な場所で呼び出すだけで済みます。これにより、コードの量が減り、タイプミスも防げます。\\n",
        "*   **モジュール性（部品化）：** プログラムを小さな機能単位（関数）に分割することで、各部分が何をしているのか理解しやすくなります。大きなプログラムを小さな部品の組み合わせとして捉えることができます。\\n",
        "*   **可読性：** 関数に適切な名前を付けることで、その関数が何をするのかが一目で分かり、プログラム全体の流れが追いやすくなります。\\n",
        "*   **保守性：** 特定の処理に変更が必要になった場合、その関数の中だけを修正すれば済むため、修正箇所が限定され、バグの修正や機能改善が容易になります。\\n",
        "\\n",
        "****実世界の例：****\\n",
        "日常生活で考えてみましょう。例えば、「コーヒーを淹れる」という一連の作業（豆を挽く、フィルターをセットする、お湯を沸かす、お湯を注ぐなど）は、一つの「関数」と見なすことができます。「コーヒーを淹れる」という名前でこの手順を覚えておけば、コーヒーが飲みたいときにいつでもこの「関数」を呼び出してコーヒーを淹れることができます。\\n",
        "プログラミングにおける関数も、このような「決まった手順の処理のまとまり」に名前を付けたものと考えると分かりやすいでしょう。"
      ]
    },
    {
      "cell_type": "markdown",
      "metadata": {},
      "source": [
        "### ### 練習問題 5.1\\n",
        "\\n",
        "あなたが日常で行うことで、関数に例えられるような一連の決まった手順の作業を2つ挙げてください。それぞれの作業について、どのような手順が含まれるか簡単に説明してください。\\n",
        "(例: ：朝食を作る手順 → 1. 材料を用意する、2. 目玉焼きを焼く、3. パンをトーストする、4. コーヒーを淹れる、5. 盛り付ける)"
      ]
    },
    {
      "cell_type": "markdown",
      "metadata": {},
      "source": [
        "ここに回答を記述してください。\\n",
        "\\n",
        "**作業1：**\\n",
        "*   手順：\\n",
        "\\n",
        "**作業2：**\\n",
        "*   手順："
      ]
    },
    {
      "cell_type": "markdown",
      "metadata": {
        "jupyter": {
          "source_hidden": true
        }
      },
      "source": [
        "---<details><summary>解答例 5.1</summary>\\n",
        "\\n",
        "**作業1：洗濯をする**\\n",
        "*   手順：\\n",
        "    1.  洗濯物を洗濯槽に入れる。\\n",
        "    2.  洗剤と柔軟剤を指定の場所に入れる。\\n",
        "    3.  洗濯機のコースを選んでスタートボタンを押す。\\n",
        "    4.  洗濯が終わったら洗濯物を取り出し、干す。\\n",
        "\\n",
        "**作業2：駅まで歩く**\\n",
        "*   手順：\\n",
        "    1.  家を出る準備をする（鍵、財布を持つなど）。\\n",
        "    2.  玄関のドアを開けて外に出る。\\n",
        "    3.  いつもの道を駅に向かって歩く。\\n",
        "    4.  駅の改札に到着する。\\n",
        "</details>"
      ]
    },
    {
      "cell_type": "markdown",
      "metadata": {},
      "source": [
        "## ## 5.2 関数の定義と呼び出し\\n",
        "\\n",
        "Pythonで関数を使うには、まず関数を **定義 (Define)** し、その後に定義した関数を **呼び出す (Call)** という手順を踏みます。\\n",
        "\\n",
        "****関数の定義：****\\n",
        "関数を定義するには `def` というキーワードを使います。\\n",
        "\\n",
        "****基本的な構文：****\\n",
        "```python\\n",
        "def function_name_placeholder():\\n",
        "    # [JP_PY_COMMENT_CH5_SEC2_PROCESS_HERE_PH]\\n",
        "    pass\\n",
        "```\\n",
        "*   `def`：関数を定義することを示すキーワード。\\n",
        "*   `関数名`：あなたが自由に付けられる関数の名前です。変数名と同じ命名規則に従います（英字、数字、アンダースコアを使い、先頭は英字かアンダースコア。予約語は不可）。関数が何をするのか分かりやすい名前にしましょう。\\n",
        "*   `()`：関数名の後には必ず丸括弧 `()` を付けます。この括弧の中に、後述する「引数（ひきすう）」を指定することもできます。\\n",
        "*   `:`（コロン）：丸括弧の後には必ずコロンが必要です。\\n",
        "*   **インデントされたコードブロック**：コロンの次の行からインデントされた部分が、この関数が実行する処理内容（関数の本体）です。\\n",
        "\\n",
        "****例：挨拶を表示する関数の定義****\\n",
        "```python\\n",
        "def say_hello_placeholder():\\n",
        "    print(\"[JP_PY_STRING_CH5_SEC2_HELLO_EVERYONE_PH]\")\\n",
        "    print(\"[JP_PY_STRING_CH5_SEC2_WELCOME_PYTHON_PH]\")\\n",
        "```\\n",
        "このコードは `say_hello_placeholder` という名前の関数を定義しただけで、まだ何も実行されません。`print`文はまだ呼び出されていません。\\n",
        "\\n",
        "****関数の呼び出し：****\\n",
        "定義した関数を実行するには、関数名の後に丸括弧 `()` を付けて記述します。\\n",
        "\\n",
        "****構文：****\\n",
        "`function_name_placeholder()`\\n",
        "\\n",
        "****例：`say_hello_placeholder` 関数の呼び出し****\\n",
        "```python\\n",
        "# [JP_PY_COMMENT_CH5_SEC2_ASSUME_DEFINED_PH]\\n",
        "say_hello_placeholder() # [JP_PY_COMMENT_CH5_SEC2_EXECUTES_BODY_PH]\\n",
        "```\\n",
        "これを実行すると、`say_hello_placeholder` 関数の中の `print` 文が実行され、コンソールにメッセージが表示されます。"
      ]
    },
    {
      "cell_type": "markdown",
      "metadata": {},
      "source": [
        "### ### 練習問題 5.2\\n",
        "\\n",
        "「今日の天気は晴れです。」と表示する `display_weather` という名前の関数を定義し、その関数を定義した後に呼び出して、メッセージが表示されることを確認してください。"
      ]
    },
    {
      "cell_type": "code",
      "metadata": {},
      "source": [
        "def define_and_call_display_weather():\n",
        "  # [JP_PY_COMMENT_CH5_SEC2_AS_DEFINE_PH]\n",
        "  # def display_weather():\n",
        "  #   print(\"今日の天気は晴れです。\")\n",
        "  \n",
        "  # [JP_PY_COMMENT_CH5_SEC2_AS_CALL_PH]\n",
        "  # display_weather()\n",
        "  pass\n",
        "\n",
        "# [JP_PY_COMMENT_CH5_SEC2_AS_CALL_MAIN_PH]\n",
        "# define_and_call_display_weather()"
      ],
      "outputs": [],
      "execution_count": null
    },
    {
      "cell_type": "code",
      "metadata": {
        "jupyter": {
          "source_hidden": true
        },
        "title": "[JP_CHECK_TITLE_CH5_SEC2_PH]"
      },
      "source": [
        "#@title [JP_CHECK_TITLE_CH5_SEC2_PH] { display-mode: \"form\" }\n",
        "print(\"[JP_CHECK_TEXT_CH5_SEC2_PH]\")"
      ],
      "outputs": [],
      "execution_count": null
    },
    {
      "cell_type": "code",
      "metadata": {
        "jupyter": {
          "source_hidden": true
        }
      },
      "source": [
        "def define_and_call_display_weather_solution():\n",
        "  def display_weather():\n",
        "    print(\"今日の天気は快晴です！素晴らしい一日になりそうですね。\")\n",
        "  display_weather()\n",
        "define_and_call_display_weather_solution()"
      ],
      "outputs": [],
      "execution_count": null
    },
    {
      "cell_type": "markdown",
      "metadata": {},
      "source": [
        "<!-- Placeholder for full skeleton of Chapter 5 Section 3 (Arguments) with MD placeholders & JP code -->"
      ]
    },
    {
      "cell_type": "markdown",
      "metadata": {},
      "source": [
        "<!-- Placeholder for full skeleton of Chapter 5 Section 4 (Return values) with MD placeholders & JP code -->"
      ]
    },
    {
      "cell_type": "markdown",
      "metadata": {},
      "source": [
        "<!-- Placeholder for full skeleton of Chapter 5 Section 5 (Scope) with MD placeholders & JP code -->"
      ]
    },
    {
      "cell_type": "markdown",
      "metadata": {},
      "source": [
        "## ## 5.6 Docstring(ドキュメンテーション文字列)\\n",
        "\\n",
        "**Docstring (ドックストリング)** とは Documentation String の略です。関数、モジュール、クラスなどの定義の直下に書かれ、その機能や使い方を説明します。トリプルクォート `'''` または `\"\"\"` で囲んで記述します。\\n",
        "\\n",
        "****Docstringの目的：****\\n",
        "*   **ドキュメント化：** 関数が何をするのかを説明します。\\n",
        "*   **`help()`関数での表示：** `help(関数名)` でDocstringを確認できます。\\n",
        "\\n",
        "****書き方の例：****\\n",
        "```python\\n",
        "def simple_greet_placeholder():\\n",
        "    '''[JP_PY_DOCSTRING_CH5_SEC6_SIMPLE_GREET_PH]'''\\n",
        "    print(\"[JP_PY_STRING_CH5_SEC6_HELLO_PH]\")\\n",
        "\\n",
        "help(simple_greet_placeholder) # [JP_PY_COMMENT_CH5_SEC6_SHOWS_DOCSTRING_PH]\\n",
        "```\\n",
        "Docstringは、1行の簡潔な説明で始めるのが一般的で、必要に応じて複数行で詳細な説明、引数 (Args)、返り値 (Returns) などを記述します。まずは「その関数が何をするのか」を明確に記述することを心がけましょう。\\n",
        "良いDocstringを書くことは、他の人にとっても自分にとっても、コードをより使いやすく、保守しやすくするための重要な習慣です。"
      ]
    },
    {
      "cell_type": "markdown",
      "metadata": {},
      "source": [
        "### ### 練習問題 5.6\\n",
        "\\n",
        "練習問題 5.4 で作成した長方形の面積を計算する関数 `calculate_rectangle_area(width, height)` に、適切なDocstringを追加してください。Docstringには、以下の情報を含めるようにしましょう。\\n",
        "- 関数の簡単な説明（例：長方形の面積を計算します。）\\n",
        "- 引数についての説明（`width` と `height` が何を表すか、期待される型など）\\n",
        "- 返り値についての説明（何を返すか、その型など）\\n",
        "\\n",
        "Docstringを追加した後、`help(calculate_rectangle_area)` を実行して、Docstringが正しく表示されることを確認してください。"
      ]
    },
    {
      "cell_type": "code",
      "metadata": {},
      "source": [
        "def docstring_practice():\n",
        "  # [JP_PY_COMMENT_CH5_SEC6_AS_REDEFINE_FUNC_PH]\n",
        "  # def calculate_rectangle_area(width, height):\n",
        "  #   '''[JP_PY_COMMENT_CH5_SEC6_AS_ADD_DOCSTRING_PH]'''\n",
        "  #   area = width * height\n",
        "  #   return area\n",
        "  \n",
        "  # [JP_PY_COMMENT_CH5_SEC6_AS_CALL_HELP_PH]\n",
        "  # help(calculate_rectangle_area)\n",
        "  pass\n",
        "\n",
        "# [JP_PY_COMMENT_CH5_SEC6_AS_CALL_MAIN_PH]\n",
        "# docstring_practice()"
      ],
      "outputs": [],
      "execution_count": null
    },
    {
      "cell_type": "code",
      "metadata": {
        "jupyter": {
          "source_hidden": true
        },
        "title": "[JP_CHECK_TITLE_CH5_SEC6_PH]"
      },
      "source": [
        "#@title [JP_CHECK_TITLE_CH5_SEC6_PH] { display-mode: \"form\" }\n",
        "print(\"[JP_CHECK_TEXT_CH5_SEC6_PH]\")"
      ],
      "outputs": [],
      "execution_count": null
    },
    {
      "cell_type": "code",
      "metadata": {
        "jupyter": {
          "source_hidden": true
        }
      },
      "source": [
        "def docstring_practice_solution():\n",
        "  def calculate_rectangle_area(width, height):\n",
        "    '''長方形の面積を計算して返します。\n",
        "\n",
        "    この関数は、指定された幅と高さに基づいて長方形の面積を求めます。\n",
        "\n",
        "    Args:\n",
        "        width (int or float): 長方形の幅。正の数値を期待します。\n",
        "        height (int or float): 長方形の高さ。正の数値を期待します。\n",
        "\n",
        "    Returns:\n",
        "        int or float: 計算された長方形の面積。\n",
        "    '''\n",
        "    if width < 0 or height < 0:\n",
        "        print(\"エラー：幅と高さは正の数値である必要があります。\")\n",
        "        return None \n",
        "    area = width * height\n",
        "    return area\n",
        "  help(calculate_rectangle_area)\n",
        "docstring_practice_solution()"
      ],
      "outputs": [],
      "execution_count": null
    },
    {
      "cell_type": "markdown",
      "metadata": {},
      "source": [
        "# # 第6章：データ構造\\n",
        "\\n",
        "これまでの章で、数値や文字列、ブール値といった基本的なデータ型と、それらを格納する変数について学んできました。しかし、実際のプログラミングでは、複数のデータをまとめて扱いたい場面がよくあります。例えば、たくさんの生徒の点数を管理したり、買い物リストを作成したりする場合です。\\n",
        "Pythonには、このような複数のデータを効率的に扱うための便利な仕組みとして、いくつかの組み込みの **データ構造 (Data Structures)** が用意されています。この章では、その中でも特によく使われる「リスト」「タプル」「辞書」「セット」について学びます。"
      ]
    },
    {
      "cell_type": "markdown",
      "metadata": {},
      "source": [
        "## ## 6.1 リスト (Lists)\\n",
        "\\n",
        "**リスト** は、複数の要素を順序付けて格納できる、変更可能なデータ構造です。リストの各要素には、0から始まるインデックス（添え字、位置番号）が割り当てられ、このインデックスを使って個々の要素にアクセスしたり、変更したりできます。\\n",
        "リストは角括弧 `[]` で囲み、各要素はカンマ `,` で区切って記述します。リストには、異なるデータ型の要素を混在させることも可能です。\\n",
        "*   *   **順序がある (Ordered):** 要素が格納された順序が保持されます。\\n",
        "*   *   **変更可能 (Mutable):** 作成後に要素を追加、削除、変更することができます。\\n",
        "*   *   **多様な要素:** 数値、文字列、ブール値、さらには他のリストなど、様々なデータ型の値を格納できます。\\n",
        "**主な操作：** (リストの操作に関する説明は、通常、具体的なメソッド名（append, insert, remove, pop, len, スライシングなど）と共に詳細な表や箇条書きで説明されます。ここでは簡略化しています。)\\n",
        "```python\\n",
        "# [JP_PY_COMMENT_CH6_LIST_EXAMPLE_PH]\\n",
        "my_list_placeholder = [1, \"apple_placeholder\", True]\\n",
        "print(my_list_placeholder[1]) # [JP_PY_COMMENT_CH6_ACCESS_APPLE_PH]\\n",
        "my_list_placeholder.append(\"orange_placeholder\")\\n",
        "print(my_list_placeholder)\\n",
        "```"
      ]
    },
    {
      "cell_type": "markdown",
      "metadata": {},
      "source": [
        "### ### 練習問題 6.1\\n",
        "\\n",
        "`colors = [\"赤\", \"青\", \"緑\"]` というリストがあります。\\n",
        "`colors = [\"赤\", \"青\", \"緑\"]` このリストに対して、以下の操作を順番に行い、各操作後のリストの状態と最終的なリストを表示してください。\\n",
        "1.  1.  リストの最後に \"黄色\" を追加する。\\n",
        "2.  2.  リストの2番目の要素（インデックス1）を \"紫\" に変更する。\\n",
        "3.  3.  リストから \"青\" を削除する。（注意：「青」が変更された場合は、その新しい値を削除するか、または「青」がなければ何もしない、という処理を考えてみましょう。ここでは、もし「青」がリストにあれば削除し、なければ何もしない、という方針で進めてください。）\\n",
        "4.  4.  最終的なリストを表示する。"
      ]
    },
    {
      "cell_type": "code",
      "metadata": {},
      "source": [
        "def list_manipulation_practice():\n",
        "  colors = [\"赤\", \"青\", \"緑\"] # [JP_PY_COMMENT_CH6_SEC1_AS_INITIAL_LIST_PH]\n",
        "  # [JP_PY_COMMENT_CH6_SEC1_AS_STEP1_PH]\n",
        "  # colors.append(\"黄色\")\n",
        "  # [JP_PY_COMMENT_CH6_SEC1_AS_STEP2_PH]\n",
        "  # colors[1] = \"紫\"\n",
        "  # [JP_PY_COMMENT_CH6_SEC1_AS_STEP3_PH]\n",
        "  # if \"青\" in colors: colors.remove(\"青\")\n",
        "  # [JP_PY_COMMENT_CH6_SEC1_AS_STEP4_PH]\n",
        "  # print(colors)\n",
        "  pass\n",
        "# list_manipulation_practice() # [JP_PY_COMMENT_CH6_SEC1_AS_CALL_FUNC_PH]"
      ],
      "outputs": [],
      "execution_count": null
    },
    {
      "cell_type": "code",
      "metadata": {
        "jupyter": {
          "source_hidden": true
        },
        "title": "[JP_CHECK_TITLE_CH6_SEC1_PH]"
      },
      "source": [
        "#@title [JP_CHECK_TITLE_CH6_SEC1_PH] { display-mode: \"form\" }\n",
        "print(\"[JP_CHECK_TEXT_CH6_SEC1_PH]\")"
      ],
      "outputs": [],
      "execution_count": null
    },
    {
      "cell_type": "code",
      "metadata": {
        "jupyter": {
          "source_hidden": true
        }
      },
      "source": [
        "def list_manipulation_practice_solution():\n",
        "  colors = [\"赤\", \"青\", \"緑\"]\n",
        "  print(f\"初期リスト: {colors}\")\n",
        "  colors.append(\"黄色\")\n",
        "  print(f\"黄色を追加後: {colors}\")\n",
        "  colors[1] = \"紫\" \n",
        "  print(f\"2番目を紫に変更後: {colors}\")\n",
        "  if \"青\" in colors: \n",
        "    colors.remove(\"青\")\n",
        "    print(f\"青を削除後: {colors}\")\n",
        "  print(f\"最終的なリスト: {colors}\")\n",
        "list_manipulation_practice_solution()"
      ],
      "outputs": [],
      "execution_count": null
    },
    {
      "cell_type": "markdown",
      "metadata": {},
      "source": [
        "## ## 6.2 タプル (Tuples)\\n",
        "\\n",
        "**タプル** は、リストとよく似ていますが、一度作成するとその内容（要素）を変更できないという大きな違いがあります。つまり、**変更不可能 (Immutable)** な順序付けられたデータのコレクションです。\\n",
        "タプルは丸括弧 `()` で囲み、各要素はカンマ `,` で区切って記述します。要素が1つだけのタプルを作成する場合は、要素の後にカンマが必要です（例：`(10,)`）。"
      ]
    },
    {
      "cell_type": "markdown",
      "metadata": {},
      "source": [
        "### ### 練習問題 6.2\\n",
        "\\n",
        "点Pの座標を表すタプル \\n",
        "`point = (30, 50)`\\n",
        "があります。このタプルの最初の要素（x座標）と2番目の要素（y座標）をそれぞれ別の変数に代入し、「X座標： [xの値], Y座標： [yの値]」という形式で表示してください。また、このタプルの値を変更しようとするとエラーになることを、コメントアウトしたコードで試して（エラーメッセージを確認して）みましょう。"
      ]
    },
    {
      "cell_type": "code",
      "metadata": {},
      "source": [
        "def tuple_unpacking_exercise():\n",
        "  # [JP_PY_COMMENT_CH6_SEC2_AS_POINT_TUPLE_PH]\n",
        "  # point = (30, 50)\n",
        "  # [JP_PY_COMMENT_CH6_SEC2_AS_UNPACK_PH]\n",
        "  # x_coord, y_coord = point\n",
        "  # [JP_PY_COMMENT_CH6_SEC2_AS_PRINT_PH]\n",
        "  # print(f\"X座標： {x_coord}, Y座標： {y_coord}\")\n",
        "  # [JP_PY_COMMENT_CH6_SEC2_AS_ERROR_TEST_PH]\n",
        "  # point[0] = 40 # この行はエラーになります\n",
        "  pass\n",
        "# tuple_unpacking_exercise() # [JP_PY_COMMENT_CH6_SEC2_AS_CALL_FUNC_PH]"
      ],
      "outputs": [],
      "execution_count": null
    },
    {
      "cell_type": "code",
      "metadata": {
        "jupyter": {
          "source_hidden": true
        },
        "title": "[JP_CHECK_TITLE_CH6_SEC2_PH]"
      },
      "source": [
        "#@title [JP_CHECK_TITLE_CH6_SEC2_PH] { display-mode: \"form\" }\n",
        "print(\"[JP_CHECK_TEXT_CH6_SEC2_PH]\")"
      ],
      "outputs": [],
      "execution_count": null
    },
    {
      "cell_type": "code",
      "metadata": {
        "jupyter": {
          "source_hidden": true
        }
      },
      "source": [
        "def tuple_unpacking_solution():\n",
        "  point = (30, 50)\n",
        "  x_coord, y_coord = point\n",
        "  print(f\"X座標： {x_coord}, Y座標： {y_coord}\")\n",
        "  # point[0] = 40 # この行を実行しようとすると TypeError が発生します。\n",
        "  print(\"タプルの値を変更しようとするとエラーが発生します (コメントアウトされています)。\")\n",
        "tuple_unpacking_solution()"
      ],
      "outputs": [],
      "execution_count": null
    },
    {
      "cell_type": "markdown",
      "metadata": {},
      "source": [
        "<!-- Placeholder for full skeleton of Chapter 6 Section 3 (Dictionaries) with MD placeholders & JP code -->"
      ]
    },
    {
      "cell_type": "markdown",
      "metadata": {},
      "source": [
        "<!-- Placeholder for full skeleton of Chapter 6 Section 4 (Sets) with MD placeholders & JP code -->"
      ]
    },
    {
      "cell_type": "markdown",
      "metadata": {},
      "source": [
        "## ## 5.3 引数 (Arguments/Parameters)\\n",
        "\\n",
        "関数をより便利にするために、関数を呼び出す際に情報を渡すことができます。この渡される情報を **引数 (Argument)** といいます。関数定義側でこの引数を受け取るために用意する変数を **仮引数 (Parameter)** と呼びます。\\n",
        "\\n",
        "****引数を持つ関数の定義：****\\n",
        "```python\\n",
        "def function_name_placeholder(param1, param2_default_ph='[JP_PY_STRING_DEFAULT_VALUE_PH]'):\\n",
        "    # [JP_PY_COMMENT_CH5_SEC3_FUNCTION_BODY_PH]\\n",
        "    pass\\n",
        "```\\n",
        "仮引数は、関数定義の丸括弧 `()` の中に記述します。複数ある場合はカンマ `,` で区切ります。\\n",
        "```python\\n",
        "def 関数名(仮引数1, 仮引数2, ...):\\n",
        "    # 仮引数を使った処理\\n",
        "    処理1\\n",
        "    # ...\\n",
        "```\\n",
        "**例：名前を受け取って挨拶する関数**\\n",
        "```python\\n",
        "def greet_by_name(name): # 'name' が仮引数\\n",
        "    print(f\"{name}さん、こんにちは！\")\\n",
        "\\n",
        "greet_by_name(\"佐藤\")\\n",
        "greet_by_name(\"鈴木\")\\n",
        "```\\n",
        "\\n",
        "****複数の引数：****\\n",
        "関数は複数の引数を取ることができます。\\n",
        "```python\\n",
        "def add(a, b):\\n",
        "    result = a + b\\n",
        "    print(f\"{a} + {b} = {result}\")\\n",
        "\\n",
        "add(5, 3)\\n",
        "add(100, 200)\\n",
        "```\\n",
        "\\n",
        "****デフォルト引数値：****\\n",
        "仮引数にデフォルトの値（初期値）を設定することができます。関数呼び出し時に対応する引数が省略された場合、このデフォルト値が使われます。デフォルト引数値を持つ仮引数は、持たない仮引数の後に記述する必要があります。\\n",
        "**構文：**\\n",
        "`def 関数名(仮引数1, 仮引数2=デフォルト値2, ...):`\\n",
        "**例：**\\n",
        "```python\\n",
        "def show_info(name, age=20):\\n",
        "    print(f\"名前： {name}, 年齢： {age}\")\\n",
        "\\n",
        "show_info(\"田中\", 30)\\n",
        "show_info(\"山本\")\\n",
        "```"
      ]
    },
    {
      "cell_type": "markdown",
      "metadata": {},
      "source": [
        "### ### 練習問題 5.3\\n",
        "\\n",
        "1.  `item_name`（品名）と `price`（価格）の2つの引数を受け取り、「[item_name]の価格は[price]円です。」と表示する関数 `display_item_price` を定義してください。\\n",
        "2.  この関数を、品名 \"リンゴ\", 価格 150 で呼び出してください。\\n",
        "3.  次に、`display_item_price` 関数を改良し、`price` 引数にデフォルト値として `100` を設定してください。\\n",
        "4.  品名 \"バナナ\"（価格はデフォルト値を使用）で呼び出し、品名 \"オレンジ\", 価格 120 で呼び出してみてください。"
      ]
    },
    {
      "cell_type": "code",
      "metadata": {},
      "source": [
        "def arguments_practice_ch5_sec3():\n",
        "  # [JP_PY_COMMENT_CH5_SEC3_AS_DEFINE_FUNC_PH]\n",
        "  # def display_item_price(item_name, price):\n",
        "  #   print(f\"{item_name}[JP_PY_STRING_CH5_SEC3_PRICE_IS_PH]{price}[JP_PY_STRING_CH5_SEC3_YEN_PH]\")\n",
        "  # display_item_price(\"[JP_PY_STRING_CH5_SEC3_APPLE_PH]\", 150)\n\n",
        "  # [JP_PY_COMMENT_CH5_SEC3_AS_MODIFY_FUNC_PH]\n",
        "  # def display_item_price_default(item_name, price=100):\n",
        "  #   print(f\"{item_name}[JP_PY_STRING_CH5_SEC3_PRICE_IS_PH]{price}[JP_PY_STRING_CH5_SEC3_YEN_PH]\")\n",
        "  # display_item_price_default(\"[JP_PY_STRING_CH5_SEC3_BANANA_PH]\")\n",
        "  # display_item_price_default(\"[JP_PY_STRING_CH5_SEC3_ORANGE_PH]\", 120)\n",
        "  pass\n",
        "# arguments_practice_ch5_sec3()"
      ],
      "outputs": [],
      "execution_count": null
    },
    {
      "cell_type": "code",
      "metadata": {
        "jupyter": {
          "source_hidden": true
        },
        "title": "[JP_CHECK_TITLE_CH5_SEC3_PH]"
      },
      "source": [
        "#@title [JP_CHECK_TITLE_CH5_SEC3_PH] { display-mode: \"form\" }\n",
        "print(\"[JP_CHECK_TEXT_CH5_SEC3_PH]\")"
      ],
      "outputs": [],
      "execution_count": null
    },
    {
      "cell_type": "code",
      "metadata": {
        "jupyter": {
          "source_hidden": true
        }
      },
      "source": [
        "def arguments_practice_ch5_sec3_solution():\n",
        "  def display_item_price(item_name, price):\n",
        "    print(f\"{item_name}の価格は{price}円です。\")\n",
        "  print(\"--- 通常の引数 ---\")\n",
        "  display_item_price(\"リンゴ\", 150)\n",
        "  print(\"\\n--- デフォルト引数値を持つ関数 ---\")\n",
        "  def display_item_price_with_default(item_name, price=100):\n",
        "    print(f\"{item_name}の価格は{price}円です。\")\n",
        "  display_item_price_with_default(\"バナナ\")\n",
        "  display_item_price_with_default(\"オレンジ\", 120)\n",
        "arguments_practice_ch5_sec3_solution()"
      ],
      "outputs": [],
      "execution_count": null
    },
    {
      "cell_type": "markdown",
      "metadata": {},
      "source": [
        "## ## 5.4 `return`文（返り値）\\n",
        "\\n",
        "関数は、処理を実行するだけでなく、その結果（値）を呼び出し元に返すことができます。このために使われるのが `return` 文です。関数が値を返すことを「返り値（かえりち）がある」や「値をリターンする」などといいます。\\n",
        "\\n",
        "****`return`文の構文：****\\n",
        "```python\\n",
        "def function_name_placeholder(params_ph):\\n",
        "    # [JP_PY_COMMENT_CH5_SEC4_PROCESS_PH]\\n",
        "    # result_ph = ... \\n",
        "    return result_ph\\n",
        "```\\n",
        "`return`：Pythonのキーワード。\\n",
        "`計算結果`：呼び出し元に返したい値や式。\\n",
        "関数内で `return` 文が実行されると、関数はその時点で終了し、指定された値が呼び出し元に渡されます。`return` 文の後に処理があっても実行されません。\\n",
        "`return` 文で何も値を指定しない場合（または `return` 文自体がない場合）、関数は特別な値 `None` を返します（`None` は「何もない」ことを示す値です）。\\n",
        "\\n",
        "****例：2つの数値を足し算して結果を返す関数****\\n",
        "```python\\n",
        "def sum_two_numbers(a, b):\\n",
        "    total = a + b\\n",
        "    return total # 計算結果 total を返す\\n",
        "\\n",
        "# 関数の呼び出しと返り値の利用\\n",
        "result1 = sum_two_numbers(10, 5) # sum_two_numbersの返り値(15)がresult1に代入される\\n",
        "print(f\"10 + 5 = {result1}\")     # 出力: 10 + 5 = 15\\n",
        "\\n",
        "result2 = sum_two_numbers(100, -20)\\n",
        "print(f\"100 + (-20) = {result2}\") # 出力: 100 + (-20) = 80\\n",
        "\\n",
        "# 返り値を直接使うこともできる\\n",
        "print(f\"直接使用： {sum_two_numbers(1, 2)}\") # 出力: 直接使用： 3\\n",
        "```\\n",
        "\\n",
        "****複数の値を返す：****\\n",
        "`return` 文でカンマ `,` を使って複数の値を指定すると、それらの値はタプルとしてまとめて返されます。\\n",
        "\\n",
        "```python\\n",
        "def get_point():\\n",
        "    x = 10\\n",
        "    y = 20\\n",
        "    return x, y # xとyをタプル (10, 20) として返す\\n",
        "\\n",
        "my_point = get_point()\\n",
        "print(my_point)        # 出力: (10, 20)\\n",
        "print(type(my_point))  # 出力: <class 'tuple'>\\n",
        "\\n",
        "# タプルはアンパックして受け取れる\\n",
        "coord_x, coord_y = get_point()\\n",
        "print(f\"X座標： {coord_x}, Y座標： {coord_y}\") # 出力: X座標： 10, Y座標： 20\\n",
        "```\\n",
        "返り値を使うことで、関数の計算結果を他の処理で活用できるようになり、プログラムの柔軟性が大きく向上します。"
      ]
    },
    {
      "cell_type": "markdown",
      "metadata": {},
      "source": [
        "### ### 練習問題 5.4\\n",
        "\\n",
        "1.  長方形の幅 `width` と高さ `height` を引数として受け取り、その面積を計算して返す関数 `calculate_rectangle_area(width, height)` を定義してください。\\n",
        "2.  幅が5、高さが3の長方形の面積をこの関数を使って計算し、結果を変数 `area1` に格納して表示してください。\\n",
        "3.  幅が10、高さが7の長方形の面積を計算し、結果を変数 `area2` に格納して表示してください。"
      ]
    },
    {
      "cell_type": "code",
      "metadata": {},
      "source": [
        "def return_value_practice_ch5_sec4():\n  # [JP_PY_COMMENT_CH5_SEC4_AS_DEFINE_FUNC_PH]\n  # def calculate_rectangle_area(width, height):\n  #   # area = width * height\n  #   # return area\n  #   pass\n  # area1 = calculate_rectangle_area(5,3) # [JP_PY_COMMENT_CH5_SEC4_AS_CALL1_PH]\n  # print(\"[JP_PY_STRING_CH5_SEC4_AS_AREA1_LABEL_PH]\", area1)\n  # area2 = calculate_rectangle_area(10,7) # [JP_PY_COMMENT_CH5_SEC4_AS_CALL2_PH]\n  # print(\"[JP_PY_STRING_CH5_SEC4_AS_AREA2_LABEL_PH]\", area2)\n  pass\n# return_value_practice_ch5_sec4()"
      ],
      "outputs": [],
      "execution_count": null
    },
    {
      "cell_type": "code",
      "metadata": {
        "jupyter": {
          "source_hidden": true
        },
        "title": "[JP_CHECK_TITLE_CH5_SEC4_PH]"
      },
      "source": [
        "#@title [JP_CHECK_TITLE_CH5_SEC4_PH] { display-mode: \"form\" }\n",
        "print(\"[JP_CHECK_TEXT_CH5_SEC4_PH]\")"
      ],
      "outputs": [],
      "execution_count": null
    },
    {
      "cell_type": "code",
      "metadata": {
        "jupyter": {
          "source_hidden": true
        }
      },
      "source": [
        "def return_value_practice_ch5_sec4_solution():\n  def calculate_rectangle_area(width, height):\n    area = width * height\n    return area\n  area1 = calculate_rectangle_area(5, 3)\n  print(f\"幅5, 高さ3の長方形の面積: {area1}\")\n  area2 = calculate_rectangle_area(10, 7)\n  print(f\"幅10, 高さ7の長方形の面積: {area2}\")\nreturn_value_practice_ch5_sec4_solution()"
      ],
      "outputs": [],
      "execution_count": null
    },
    {
      "cell_type": "markdown",
      "metadata": {},
      "source": [
        "## ## 5.5 変数のスコープ\\n",
        "\\n",
        "**スコープ (Scope)** とは、プログラム内の変数が参照（アクセス）可能な範囲のことです。Pythonには主に2種類のスコープがあります。\\n",
        "\\n",
        "1.  **ローカルスコープ (Local Scope)：** *   関数の中で定義された変数は、その関数の中でのみ有効です。これをローカル変数といいます。\\n",
        "    *   関数の外からローカル変数を参照しようとするとエラーになります。\\n",
        "    *   関数が終了すると、そのローカル変数は通常破棄されます。\\n",
        "2.  **グローバルスコープ (Global Scope)：** *   関数の外（プログラムの最上位レベル）で定義された変数は、プログラムのどこからでも参照可能です。これをグローバル変数といいます。\\n",
        "\\n",
        "****例：****\\n",
        "```python\\n",
        "global_var = \"私はグローバル変数です\" # グローバルスコープで定義\\n",
        "\\n",
        "def my_function():\\n",
        "    local_var = \"私はローカル変数です\" # my_functionのローカルスコープで定義\\n",
        "    print(f\"関数内からローカル変数を表示： {local_var}\")\\n",
        "    print(f\"関数内からグローバル変数を表示： {global_var}\") # グローバル変数は関数内から参照可能\\n",
        "\\n",
        "my_function() # 関数を呼び出し\\n",
        "\\n",
        "print(f\"関数の外からグローバル変数を表示： {global_var}\")\\n",
        "# print(f\"関数の外からローカル変数を表示： {local_var}\") # この行はエラーになります (NameError)\\n",
        "                                                            # local_var は my_function の中だけで有効だからです。\\n",
        "```\\n",
        "\\n",
        "****なぜスコープが重要か？****\\n",
        "*   **名前の衝突を避ける：** 異なる関数内で同じ名前のローカル変数を使っても、互いに影響しません。これにより、大規模なプログラムでも変数名を管理しやすくなります。\\n",
        "*   **意図しない変更を防ぐ：** 変数の有効範囲を限定することで、プログラムの特定の部分が他の部分に予期せぬ影響を与えるのを防ぎます。\\n",
        "\\n",
        "****注意点：****\\n",
        "関数内でグローバル変数と同じ名前の変数に値を代入すると、Pythonはその名前で新しいローカル変数を作成します（グローバル変数が上書きされるわけではありません）。もし関数内でグローバル変数の値を変更したい場合は `global` キーワードを使う必要がありますが、これは多用するとプログラムが複雑になりやすいため、初心者のうちはグローバル変数の変更は避けるのが無難です。関数は引数でデータを受け取り、`return` で結果を返す設計を基本としましょう。"
      ]
    },
    {
      "cell_type": "markdown",
      "metadata": {},
      "source": [
        "### ### 練習問題 5.5\\n",
        "\\n",
        "1.  グローバル変数として `x = 10` を定義します。\\n",
        "2.  `print_variables` という関数を定義します。\\n",
        "    *   この関数の中で、ローカル変数として `y = 20` を定義します。\\n",
        "    *   関数の中で、`x` の値と `y` の値をそれぞれ表示してください。\\n",
        "3.  `print_variables` 関数を呼び出してください。\\n",
        "4.  関数の呼び出し後、グローバル変数 `x` の値を表示してください。\\n",
        "5.  （コメントアウトして試す）関数の呼び出し後、ローカル変数 `y` の値を表示しようとするとどうなるか確認してください。"
      ]
    },
    {
      "cell_type": "code",
      "metadata": {},
      "source": [
        "# [JP_PY_COMMENT_CH5_SEC5_AS_GLOBAL_X_PH]\n# x_ch5_s5 = 10\n# [JP_PY_COMMENT_CH5_SEC5_AS_DEFINE_FUNC_PH]\n# def print_variables_ch5_s5():\n#   y_ch5_s5 = 20\n#   print(f\"[JP_PY_STRING_CH5_SEC5_AS_X_IN_FUNC_PH] {x_ch5_s5}\")\n#   print(f\"[JP_PY_STRING_CH5_SEC5_AS_Y_IN_FUNC_PH] {y_ch5_s5}\")\n# [JP_PY_COMMENT_CH5_SEC5_AS_CALL_FUNC_PH]\n# print_variables_ch5_s5()\n# [JP_PY_COMMENT_CH5_SEC5_AS_PRINT_GLOBAL_X_PH]\n# print(f\"[JP_PY_STRING_CH5_SEC5_AS_X_OUTSIDE_PH] {x_ch5_s5}\")\n# [JP_PY_COMMENT_CH5_SEC5_AS_TRY_PRINT_Y_PH]\n# # print(f\"[JP_PY_STRING_CH5_SEC5_AS_Y_OUTSIDE_PH] {y_ch5_s5}\")\npass"
      ],
      "outputs": [],
      "execution_count": null
    },
    {
      "cell_type": "code",
      "metadata": {
        "jupyter": {
          "source_hidden": true
        },
        "title": "[JP_CHECK_TITLE_CH5_SEC5_PH]"
      },
      "source": [
        "#@title [JP_CHECK_TITLE_CH5_SEC5_PH] { display-mode: \"form\" }\n",
        "print(\"[JP_CHECK_TEXT_CH5_SEC5_PH]\")"
      ],
      "outputs": [],
      "execution_count": null
    },
    {
      "cell_type": "code",
      "metadata": {
        "jupyter": {
          "source_hidden": true
        }
      },
      "source": [
        "x_ch5_s5_solution = 10\ndef print_variables_ch5_s5_solution():\n  y_ch5_s5_solution = 20\n  print(f\"関数内のx: {x_ch5_s5_solution}\")\n  print(f\"関数内のy: {y_ch5_s5_solution}\")\nprint(\"--- 関数の実行 ---\")\nprint_variables_ch5_s5_solution()\nprint(\"--- 関数実行後 ---\")\nprint(f\"関数外のx: {x_ch5_s5_solution}\")\nprint(\"\\n--- ローカル変数yへのアクセス試行 ---\")\ntry:\n    print(f\"関数外のy: {y_ch5_s5_solution}\") # This would cause NameError\nexcept NameError as e:\n    print(f\"エラーが発生しました（期待通り）: {e}\")"
      ],
      "outputs": [],
      "execution_count": null
    },
    {
      "cell_type": "markdown",
      "metadata": {},
      "source": [
        "## ## 6.3 辞書 (Dictionaries)\\n",
        "\\n",
        "**辞書 (Dictionary)** は、キー (Key) と値 (Value) のペアでデータを格納する、変更可能なデータ構造です。リストやタプルがインデックス（数値の位置）で要素を管理するのに対し、辞書は一意なキーを使って値にアクセスします。\\n",
        "辞書は波括弧 `{}` で囲み、各ペアは `キー: 値` の形式で記述し、ペア同士はカンマ `,` で区切ります。キーには通常、変更不可能なデータ型（文字列や数値など）が使われます。\\n",
        "*   *   **キーと値のペア:** 各要素はキーとそれに対応する値から成ります。\\n",
        "*   *   **キーの一意性:** 辞書内のキーは一意でなければなりません（重複できません）。値は重複しても構いません。\\n",
        "*   *   **変更可能 (Mutable):** 作成後にペアを追加、削除、変更することができます。\\n",
        "```python\\n",
        "# [JP_PY_COMMENT_CH6_DICT_EXAMPLE_PH]\\n",
        "my_dict_placeholder = {\"name_ph\": \"Alice_ph\", \"age_ph\": 30}\\n",
        "print(my_dict_placeholder[\"name_ph\"])\\n",
        "my_dict_placeholder[\"city_ph\"] = \"New York_ph\"\\n",
        "print(my_dict_placeholder.get(\"age_ph\"))\\n",
        "```"
      ]
    },
    {
      "cell_type": "markdown",
      "metadata": {},
      "source": [
        "### ### 練習問題 6.3\\n",
        "\\n",
        "ある学生の情報を格納する辞書 `student = {\"name\": \"山田\", \"age\": 20}`\\n",
        "`student = {\"name\": \"山田\", \"age\": 20}` があります。この辞書に対して以下の操作を順番に行い、各操作後の辞書の状態と最終的な辞書を表示してください。\\n",
        "1. 1.  キー \"grade\", 値 3 を追加する。\\n",
        "2. 2.  \"age\" の値を 21 に更新する。\\n",
        "3. 3.  キー \"name\" とその値を削除する。\\n",
        "4. 4.  最終的な辞書を表示する。"
      ]
    },
    {
      "cell_type": "code",
      "metadata": {},
      "source": [
        "def dictionary_manipulation_practice_ch6_sec3():\n  student = {\"name\": \"山田\", \"age\": 20} # [JP_PY_COMMENT_CH6_SEC3_AS_INITIAL_DICT_PH]\n  # [JP_PY_COMMENT_CH6_SEC3_AS_STEP1_PH]\n  # student[\"grade\"] = 3\n  # [JP_PY_COMMENT_CH6_SEC3_AS_STEP2_PH]\n  # student[\"age\"] = 21\n  # [JP_PY_COMMENT_CH6_SEC3_AS_STEP3_PH]\n  # # del student[\"name\"]\n  # [JP_PY_COMMENT_CH6_SEC3_AS_STEP4_PH]\n  # # print(student)\n  pass\n# dictionary_manipulation_practice_ch6_sec3()"
      ],
      "outputs": [],
      "execution_count": null
    },
    {
      "cell_type": "code",
      "metadata": {
        "jupyter": {
          "source_hidden": true
        },
        "title": "[JP_CHECK_TITLE_CH6_SEC3_PH]"
      },
      "source": [
        "#@title [JP_CHECK_TITLE_CH6_SEC3_PH] { display-mode: \"form\" }\n",
        "print(\"[JP_CHECK_TEXT_CH6_SEC3_PH]\")"
      ],
      "outputs": [],
      "execution_count": null
    },
    {
      "cell_type": "code",
      "metadata": {
        "jupyter": {
          "source_hidden": true
        }
      },
      "source": [
        "def dictionary_manipulation_practice_ch6_sec3_solution():\n  student = {\"name\": \"山田\", \"age\": 20}\n  print(f\"初期辞書: {student}\")\n  student[\"grade\"] = 3\n  print(f\"grade追加後: {student}\")\n  student[\"age\"] = 21\n  print(f\"age更新後: {student}\")\n  del student[\"name\"]\n  print(f\"name削除後: {student}\")\n  print(f\"最終的な辞書: {student}\")\ndictionary_manipulation_practice_ch6_sec3_solution()"
      ],
      "outputs": [],
      "execution_count": null
    },
    {
      "cell_type": "markdown",
      "metadata": {},
      "source": [
        "## ## 6.4 セット (Sets)\\n",
        "\\n",
        "**セット (Set)** は、順序がなく、重複する要素を持たない変更可能なデータのコレクションです。数学の集合と似た概念です。\\n",
        "セットは波括弧 `{}` で囲んで作成しますが、辞書と区別するため、空のセットを作成する場合は `set()` 関数を使います。要素同士はカンマ `,` で区切ります。\\n",
        "主な用途は、要素の存在確認（メンバーシップテスト）や、リストなどから重複する要素を削除すること、そして集合演算（和集合、積集合、差集合など）です。\\n",
        "```python\\n",
        "# [JP_PY_COMMENT_CH6_SET_EXAMPLE_PH]\\n",
        "my_set_placeholder = {1, 2, 2, 3, \"hello_ph\"}\\n",
        "print(my_set_placeholder)\\n",
        "set1_ph = {1, 2, 3}\\n",
        "set2_ph = {3, 4, 5}\\n",
        "print(set1_ph | set2_ph) # [JP_PY_COMMENT_CH6_UNION_PH]\\n",
        "```"
      ]
    },
    {
      "cell_type": "markdown",
      "metadata": {},
      "source": [
        "### ### 練習問題 6.4\\n",
        "\\n",
        "2つのセット `numbers1 = {1, 2, 3, 4, 5}`\\n",
        "`numbers1 = {1, 2, 3, 4, 5}` と `numbers2 = {4, 5, 6, 7, 8}` `numbers2 = {4, 5, 6, 7, 8}` があります。これらのセットを使って、以下の集合演算の結果をそれぞれ表示してください。\\n",
        "1. 1.  numbers1 と numbers2 の和集合（両方のセットに含まれる全てのユニークな要素）。\\n",
        "2. 2.  numbers1 と numbers2 の積集合（両方のセットに共通して含まれる要素）。\\n",
        "3. 3.  numbers1 から numbers2 を引いた差集合（numbers1 には含まれるが numbers2 には含まれない要素）。"
      ]
    },
    {
      "cell_type": "code",
      "metadata": {},
      "source": [
        "def set_operations_practice_ch6_sec4():\n  numbers1 = {1, 2, 3, 4, 5}\n  numbers2 = {4, 5, 6, 7, 8}\n  # [JP_PY_COMMENT_CH6_SEC4_AS_UNION_PH]\n  # # union_set = numbers1 | numbers2\n  # # print(\"[JP_PY_STRING_CH6_SEC4_AS_UNION_LABEL_PH]\", union_set)\n  # [JP_PY_COMMENT_CH6_SEC4_AS_INTERSECTION_PH]\n  # # intersection_set = numbers1 & numbers2\n  # # print(\"[JP_PY_STRING_CH6_SEC4_AS_INTERSECTION_LABEL_PH]\", intersection_set)\n  # [JP_PY_COMMENT_CH6_SEC4_AS_DIFFERENCE_PH]\n  # # difference_set = numbers1 - numbers2\n  # # print(\"[JP_PY_STRING_CH6_SEC4_AS_DIFFERENCE_LABEL_PH]\", difference_set)\n  pass\n# set_operations_practice_ch6_sec4()"
      ],
      "outputs": [],
      "execution_count": null
    },
    {
      "cell_type": "code",
      "metadata": {
        "jupyter": {
          "source_hidden": true
        },
        "title": "[JP_CHECK_TITLE_CH6_SEC4_PH]"
      },
      "source": [
        "#@title [JP_CHECK_TITLE_CH6_SEC4_PH] { display-mode: \"form\" }\n",
        "print(\"[JP_CHECK_TEXT_CH6_SEC4_PH]\")"
      ],
      "outputs": [],
      "execution_count": null
    },
    {
      "cell_type": "code",
      "metadata": {
        "jupyter": {
          "source_hidden": true
        }
      },
      "source": [
        "def set_operations_practice_ch6_sec4_solution():\n  numbers1 = {1, 2, 3, 4, 5}\n  numbers2 = {4, 5, 6, 7, 8}\n  union_set = numbers1 | numbers2\n  print(f\"和集合: {union_set}\")\n  intersection_set = numbers1 & numbers2\n  print(f\"積集合: {intersection_set}\")\n  difference_set = numbers1 - numbers2\n  print(f\"差集合 (numbers1 - numbers2): {difference_set}\")\nset_operations_practice_ch6_sec4_solution()"
      ],
      "outputs": [],
      "execution_count": null
    },
    {
      "cell_type": "markdown",
      "metadata": {},
      "source": [
        "# # 第7章：ファイルI/O (ファイル入出力)\\n",
        "\\n",
        "プログラムを実行している間、作成した変数やデータはメモリ上に一時的に保存されます。しかし、プログラムが終了するとこれらのデータは失われてしまいます。データを永続的に保存し、後で再利用したり、他のプログラムと共有したりするためには、ファイルへの保存が必要になります。\\n",
        "ファイルI/O（アイオー、Input/Outputの略）とは、プログラムがファイルからデータを読み込んだり（入力）、ファイルへデータを書き込んだり（出力）する操作のことです。この章では、Pythonでテキストファイルを扱う基本的な方法を学びます。"
      ]
    },
    {
      "cell_type": "markdown",
      "metadata": {},
      "source": [
        "## ## 7.1 ファイルの読み込み (Reading from files)\\n",
        "\\n",
        "ファイルからデータを読み込むには、まず対象のファイルを「開く（open）」必要があります。Pythonでは組み込みの `open()` 関数を使います。\\n",
        "`open()` 関数の基本的な構文は `open(ファイル名, モード, encoding=文字コード)` です。\\n",
        "*   **ファイル名:** 読み込みたいファイルの名前（パスを含むこともあります）。\\n",
        "*   **モード:** ファイルをどのような目的で開くかを指定します。読み込みの場合は `'r'` (read) を指定します。\\n",
        "*   **encoding:** ファイルの文字コードを指定します。日本語のテキストファイルを扱う場合は `'utf-8'` を指定するのが一般的です。これを指定しないと、環境によっては文字化けが発生することがあります。\\n",
        "*   `'r'` (読み込みモード。ファイルが存在しない場合はエラーになります。)\\n",
        "ファイルを開いた後、ファイルオブジェクトのメソッドを使って内容を読み込みます。主な読み込みメソッドには以下があります。\\n",
        "*   `read()` (`read()`: ファイルの内容全体を一つの文字列として読み込みます。)\\n",
        "*   `readline()` (`readline()`: ファイルから1行だけを読み込み、文字列として返します。ファイルポインタ（読み込み位置）が次の行に移動します。)\\n",
        "*   `readlines()` (`readlines()`: ファイルの内容を全て読み込み、各行を要素とするリストとして返します。各行の末尾には改行文字 `\\n` が含まれることが多いです。)\\n",
        "ファイルを使い終わったら、必ず `close()` メソッドでファイルを「閉じる」必要があります。しかし、より安全で推奨されるのは `with` 文を使う方法です（詳しくは後述します）。`with` 文を使うと、ブロックを抜ける際に自動的にファイルが閉じられます。\\n",
        "```python\\n",
        "# [JP_PY_COMMENT_CH7_FILE_READ_EXAMPLE_PH]\\n",
        "# [JP_PY_COMMENT_CH7_ASSUME_SAMPLE_TXT_EXISTS_PH]\\n",
        "# with open(\"sample_placeholder.txt\", \"r\", encoding=\"utf-8\") as f:\\n",
        "#     content = f.read()\\n",
        "#     print(content)\\n",
        "```\\n",
        "# 何かテキストが書かれたファイルを作成しておいてください。"
      ]
    },
    {
      "cell_type": "markdown",
      "metadata": {},
      "source": [
        "### ### 練習問題 7.1\\n",
        "\\n",
        "カレントディレクトリ（このノートブックファイルがある場所と同じ場所）に `poem.txt` という名前のファイルを作成し、以下の内容を書き込んでください（Colabの左側のファイルブラウザから新規ファイルを作成してコピペするのが簡単です）。\\n",
        "```text\\n",
        "ふるいけや\\n",
        "かわずとびこむ\\n",
        "みずのおと\\n",
        "```\\n",
        "次に、この `poem.txt` をPythonで読み込み、ファイルの内容全体を `print()` 関数で表示するプログラムを作成してください。ファイルエンコーディングは `'utf-8'` を使用し、`with` 文を使ってファイルを扱ってください。"
      ]
    },
    {
      "cell_type": "code",
      "metadata": {},
      "source": [
        "def read_sample_file_exercise_ch7_sec1():\n",
        "  # [JP_PY_COMMENT_CH7_SEC1_AS_ENSURE_FILE_EXISTS_PH]\n",
        "  file_name_placeholder = \"poem_placeholder.txt\" \n",
        "  # [JP_PY_COMMENT_CH7_SEC1_AS_CREATE_SAMPLE_FILE_PH]\n",
        "  # try:\n",
        "  #   with open(file_name_placeholder, \"w\", encoding=\"utf-8\") as f_create:\n",
        "  #     f_create.write(\"[JP_PY_STRING_CH7_SEC1_AS_LINE1]\\n\")\n",
        "  #     f_create.write(\"[JP_PY_STRING_CH7_SEC1_AS_LINE2]\\n\")\n",
        "  #     f_create.write(\"[JP_PY_STRING_CH7_SEC1_AS_LINE3]\")\n",
        "  # except IOError:\n",
        "  #   print(f\"[JP_PY_STRING_CH7_SEC1_AS_FILE_CREATE_ERROR_PH] {file_name_placeholder}\")\n",
        "  #   return\n",
        "\n",
        "  # [JP_PY_COMMENT_CH7_SEC1_AS_READ_AND_PRINT_PH]\n",
        "  # try:\n",
        "  #   with open(file_name_placeholder, \"r\", encoding=\"utf-8\") as f_read:\n",
        "  #     # [JP_PY_COMMENT_CH7_SEC1_AS_YOUR_CODE_HERE_PH]\n",
        "  #     pass \n",
        "  # except FileNotFoundError:\n",
        "  #   print(f\"[JP_PY_STRING_CH7_SEC1_AS_FILE_NOT_FOUND_PH] {file_name_placeholder}\")\n",
        "  # except IOError:\n",
        "  #   print(f\"[JP_PY_STRING_CH7_SEC1_AS_FILE_READ_ERROR_PH] {file_name_placeholder}\")\n",
        "  pass\n",
        "# read_sample_file_exercise_ch7_sec1()"
      ],
      "outputs": [],
      "execution_count": null
    },
    {
      "cell_type": "code",
      "metadata": {
        "jupyter": {
          "source_hidden": true
        },
        "title": "[JP_CHECK_TITLE_CH7_SEC1_PH]"
      },
      "source": [
        "#@title [JP_CHECK_TITLE_CH7_SEC1_PH] { display-mode: \"form\" }\n",
        "print(\"[JP_CHECK_TEXT_CH7_SEC1_PH]\")"
      ],
      "outputs": [],
      "execution_count": null
    },
    {
      "cell_type": "code",
      "metadata": {
        "jupyter": {
          "source_hidden": true
        }
      },
      "source": [
        "def read_sample_file_exercise_ch7_sec1_solution():\n",
        "  file_name = \"poem.txt\"\n",
        "  file_content = \"ふるいけや\\nかわずとびこむ\\nみずのおと\"\n",
        "  try:\n",
        "    with open(file_name, \"w\", encoding=\"utf-8\") as f:\n",
        "      f.write(file_content)\n",
        "    print(f\"'{file_name}' を準備しました。\")\n",
        "  except IOError as e:\n",
        "    print(f\"ファイル準備中にエラーが発生しました: {e}\")\n",
        "    return\n",
        "\n",
        "  print(f\"--- '{file_name}' の内容 ---\")\n",
        "  try:\n",
        "    with open(file_name, \"r\", encoding=\"utf-8\") as f:\n",
        "      content = f.read()\n",
        "      print(content)\n",
        "  except FileNotFoundError:\n",
        "    print(f\"エラー: ファイル '{file_name}' が見つかりません。\")\n",
        "  except IOError as e:\n",
        "    print(f\"ファイル読み込み中にエラーが発生しました: {e}\")\n",
        "\n",
        "read_sample_file_exercise_ch7_sec1_solution()"
      ],
      "outputs": [],
      "execution_count": null
    },
    {
      "cell_type": "markdown",
      "metadata": {},
      "source": [
        "## ## 7.2 ファイルへの書き込み (Writing to files)\\n",
        "\\n",
        "ファイルにデータを書き込むには、`open()`関数でファイルを書き込みモード (`'w'`) または追記モード (`'a'`) で開きます。\\n",
        "- **`'w'` (書き込みモード):** ファイルが存在しない場合は新規作成します。存在する場合は、既存の内容は全て上書きされます。\\n",
        "- **`'a'` (追記モード):** ファイルが存在しない場合は新規作成します。存在する場合は、既存の内容の末尾に新しいデータを追加します。\\n",
        "\\n",
        "書き込みには `write()` メソッドを使います。"
      ]
    },
    {
      "cell_type": "markdown",
      "metadata": {},
      "source": [
        "### ### 練習問題 7.2\\n",
        "\\n",
        "1. `shopping_list.txt` という名前のファイルに、あなたが買いたいものを3つ、各行に1つずつ書き込むプログラムを作成してください（書き込みモード `'w'` を使用）。\\n",
        "2. 作成したプログラムを実行した後、さらに2つの買いたいものを `shopping_list.txt` に追記するプログラムを作成してください（追記モード `'a'` を使用）。\\n",
        "3. 最後に、`shopping_list.txt` の内容を読み込んで表示し、全ての買い物がリストアップされていることを確認してください。"
      ]
    },
    {
      "cell_type": "code",
      "metadata": {},
      "source": [
        "# [JP_PY_COMMENT_CH7_SEC2_AS_PH]"
      ],
      "outputs": [],
      "execution_count": null
    },
    {
      "cell_type": "code",
      "metadata": {
        "jupyter": {
          "source_hidden": true
        },
        "title": "[JP_CHECK_TITLE_CH7_SEC2_PH]"
      },
      "source": [
        "#@title [JP_CHECK_TITLE_CH7_SEC2_PH] { display-mode: \"form\" }\nprint(\"[JP_CHECK_TEXT_CH7_SEC2_PH]\")"
      ],
      "outputs": [],
      "execution_count": null
    },
    {
      "cell_type": "code",
      "metadata": {
        "jupyter": {
          "source_hidden": true
        }
      },
      "source": [
        "# [JP_PY_COMMENT_CH7_SEC2_SOL_PH]\nprint(\"第7章2節の解答例です。\")"
      ],
      "outputs": [],
      "execution_count": null
    },
    {
      "cell_type": "markdown",
      "metadata": {},
      "source": [
        "## ## 7.3 `with`文による自動クローズ\\n",
        "\\n",
        "`with open(...) as file_variable:` の構文を使うと、`with`ブロックの処理が終わった後（エラーが発生した場合でも）、ファイルが自動的にクローズされます。これにより、`file.close()` の呼び出し忘れを防ぐことができ、より安全で簡潔なコードになります。"
      ]
    },
    {
      "cell_type": "markdown",
      "metadata": {},
      "source": [
        "### ### 練習問題 7.3\\n",
        "\\n",
        "`with` 文の主な利点と、`with` 文を使わなかった場合に発生しうる問題点をそれぞれ説明してください。"
      ]
    },
    {
      "cell_type": "code",
      "metadata": {},
      "source": [
        "# [JP_PY_COMMENT_CH7_SEC3_AS_PH]"
      ],
      "outputs": [],
      "execution_count": null
    },
    {
      "cell_type": "code",
      "metadata": {
        "jupyter": {
          "source_hidden": true
        },
        "title": "[JP_CHECK_TITLE_CH7_SEC3_PH]"
      },
      "source": [
        "#@title [JP_CHECK_TITLE_CH7_SEC3_PH] { display-mode: \"form\" }\nprint(\"[JP_CHECK_TEXT_CH7_SEC3_PH]\")"
      ],
      "outputs": [],
      "execution_count": null
    },
    {
      "cell_type": "code",
      "metadata": {
        "jupyter": {
          "source_hidden": true
        }
      },
      "source": [
        "import csv\n",
        "def write_and_read_csv_ch7_sec3_solution():\n",
        "  product_data = [\n",
        "      [\"商品名\", \"価格\", \"在庫数\"],\n",
        "      [\"リンゴ\", 150, 30],\n",
        "      [\"バナナ\", 100, 50],\n",
        "      [\"みかん\", 120, 40]\n",
        "  ]\n",
        "  csv_file_name = \"products_solution.csv\"\n",
        "  try:\n",
        "      with open(csv_file_name, \"w\", newline='', encoding=\"utf-8\") as f:\n",
        "          writer = csv.writer(f)\n",
        "          writer.writerows(product_data)\n",
        "      print(f\"'{csv_file_name}' に商品データを書き出しました。\")\n",
        "  except Exception as e:\n",
        "      print(f\"CSV書き出しエラー: {e}\")\n",
        "\n",
        "  print(f\"\\n--- '{csv_file_name}' の内容 --- \")\n",
        "  try:\n",
        "      with open(csv_file_name, \"r\", encoding=\"utf-8\") as f:\n",
        "          reader = csv.reader(f)\n",
        "          header = next(reader)\n",
        "          print(f\"ヘッダー: {header}\")\n",
        "          print(\"\\n商品詳細：\")\n",
        "          for row in reader:\n",
        "              if len(row) == 3:\n",
        "                  print(f\"{row[0]}：{row[1]}円、在庫：{row[2]}個\")\n",
        "  except Exception as e:\n",
        "      print(f\"CSV読み込みエラー: {e}\")\n",
        "write_and_read_csv_ch7_sec3_solution()"
      ],
      "outputs": [],
      "execution_count": null
    },
    {
      "cell_type": "markdown",
      "metadata": {},
      "source": [
        "# # 第8章：エラー処理 (Exception Handling)\\n",
        "\\n",
        "プログラムを書いていると、予期せぬ問題や誤りによってプログラムが途中で停止してしまうことがあります。これらの問題は「エラー」や「例外」と呼ばれます。\\n",
        "適切にエラー処理を行うことで、プログラムが突然クラッシュするのを防いだり、ユーザーに分かりやすいメッセージを伝えたり、問題の原因を特定しやすくしたりすることができます。この章では、Pythonにおけるエラーの種類と、それらを扱うための基本的な方法（例外処理）について学びます。"
      ]
    },
    {
      "cell_type": "markdown",
      "metadata": {},
      "source": [
        "## ## 8.1 エラーとは？\\n",
        "\\n",
        "Pythonにおけるエラーは、大きく分けて2つの種類があります。\\n",
        "*   ***   **シンタックスエラー (SyntaxError)：**** 文法的な誤りです。Pythonのルールに従っていないコードを書いた場合に発生します。プログラムが実行される前にPythonインタープリタによって検出されます。例えば、括弧の閉じ忘れ、コロンの付け忘れなどです。\\n",
        "*   ***   **例外 (Exception)：**** プログラムの文法は正しいものの、実行中に何らかの問題が発生した場合に起こります。例えば、0で割り算をしようとした場合 (ZeroDivisionError)、存在しないファイルを開こうとした場合 (FileNotFoundError)、異なるデータ型同士で不適切な演算をしようとした場合 (TypeError) などがあります。\\n",
        "例外が発生すると、プログラムはその時点で処理を中断し、エラーメッセージ（トレースバックといいます）を表示します。このトレースバックには、エラーの種類、発生場所、原因に関する情報が含まれています。"
      ]
    },
    {
      "cell_type": "markdown",
      "metadata": {},
      "source": [
        "### ### 練習問題 8.1\\n",
        "\\n",
        "以下のコードをそれぞれ別のコードセルに入力し、実行してみてください。\\n",
        "1. 1.  シンタックスエラーが発生する例：\\n",
        "2. 2.  実行時エラー（例外）が発生する例：\\n",
        "それぞれどのような種類のエラーメッセージが表示されるか確認し、エラーメッセージが何を示しているか（例：どの行で、どのような問題が起きたか）を読み取ってみましょう。"
      ]
    },
    {
      "cell_type": "code",
      "metadata": {},
      "source": [
        "# [JP_PY_COMMENT_CH8_SEC1_AS_SYNTAX_ERROR_PH]\n# print(\"Hello\"\n\n# [JP_PY_COMMENT_CH8_SEC1_AS_RUNTIME_ERROR_PH]\n# result = 10 / 0"
      ],
      "outputs": [],
      "execution_count": null
    },
    {
      "cell_type": "code",
      "metadata": {
        "jupyter": {
          "source_hidden": true
        },
        "title": "[JP_CHECK_TITLE_CH8_SEC1_PH]"
      },
      "source": [
        "#@title [JP_CHECK_TITLE_CH8_SEC1_PH] { display-mode: \"form\" }\nprint(\"[JP_CHECK_TEXT_CH8_SEC1_PH]\")"
      ],
      "outputs": [],
      "execution_count": null
    },
    {
      "cell_type": "code",
      "metadata": {
        "jupyter": {
          "source_hidden": true
        }
      },
      "source": [
        "print(\"シンタックスエラーの例は、コメントを外すとPythonインタープリタがエラーを出します。\")\nprint(\"実行時エラーの例は、コメントを外して実行すると ZeroDivisionError が発生します。\")"
      ],
      "outputs": [],
      "execution_count": null
    },
    {
      "cell_type": "markdown",
      "metadata": {},
      "source": [
        "## ## 8.2 `try...except`ブロック\\n",
        "\\n",
        "プログラム実行中に発生する可能性のある例外を捕捉し、それに対して適切な処理を行う仕組みを「例外処理 (Exception Handling)」といいます。Pythonでは、主に `try...except` ブロックを使って例外処理を記述します。"
      ]
    },
    {
      "cell_type": "markdown",
      "metadata": {},
      "source": [
        "## ## 8.3 `else`と`finally`\\n",
        "\\n",
        "`try...except` ブロックには、さらに `else` 句と `finally` 句を追加することができます。"
      ]
    },
    {
      "cell_type": "markdown",
      "metadata": {},
      "source": [
        "## ## 8.4 例外を発生させる (`raise`)\\n",
        "\\n",
        "プログラムの中で、特定の条件が満たされたときに意図的に例外を発生させたい場合があります。このような場合には `raise` キーワードを使います。\\n",
        "\\n",
        "`raise 例外クラス(エラーメッセージ)` のようにして、指定した例外クラスのインスタンスを発生させることができます。"
      ]
    },
    {
      "cell_type": "markdown",
      "metadata": {},
      "source": [
        "### ### 練習問題 8.4\\n",
        "\\n",
        "学生の点数（0から100点）を評価する関数 `evaluate_student_score(score)` を作成します。\\n",
        "- 点数が数値でない場合（例：文字列）は `TypeError` を発生させ、「点数は数値でなければなりません。」というメッセージを持たせます。\\n",
        "- 点数が0未満または100を超える場合は `ValueError` を発生させ、「点数は0から100の間でなければなりません。」というメッセージを持たせます。\\n",
        "- 点数が60点未満の場合は文字列「不可」を返します。\\n",
        "- 点数が60点以上の場合は文字列「合格」を返します。\\n",
        "\\n",
        "作成した関数を、有効な点数、無効な点数（範囲外）、数値でない入力のそれぞれで呼び出し、`try...except` を使って適切にエラーメッセージを表示するか、結果を表示するようにしてください。"
      ]
    },
    {
      "cell_type": "code",
      "execution_count": null,
      "metadata": {},
      "outputs": [],
      "source": [
        "def evaluate_student_score_ch8_sec4(score):\n",
        "    # [JP_PY_COMMENT_CH8_SEC4_AS_TYPE_CHECK_PH]\n",
        "    # if not isinstance(score, (int, float)):\n",
        "    #     raise TypeError(\"[JP_PY_STRING_CH8_SEC4_AS_TYPE_ERROR_MSG_PH]\")\n",
        "    # [JP_PY_COMMENT_CH8_SEC4_AS_VALUE_CHECK_PH]\n",
        "    # if not (0 <= score <= 100):\n",
        "    #     raise ValueError(\"[JP_PY_STRING_CH8_SEC4_AS_VALUE_ERROR_MSG_PH]\")\n",
        "    # \n",
        "    # [JP_PY_COMMENT_CH8_SEC4_AS_GRADE_PH]\n",
        "    # if score < 60:\n",
        "    #     return \"[JP_PY_STRING_CH8_SEC4_AS_FAIL_PH]\"\n",
        "    # else:\n",
        "    #     return \"[JP_PY_STRING_CH8_SEC4_AS_PASS_PH]\"\n",
        "    pass\n",
        "\n",
        "def check_score_and_raise_exercise_ch8_sec4():\n",
        "    # [JP_PY_COMMENT_CH8_SEC4_AS_TEST_CASES_PH]\n",
        "    # scores_to_test = [85, 55, 105, -10, \"abc\", 95.5]\n",
        "    # for s in scores_to_test:\n",
        "    #     try:\n",
        "    #         result = evaluate_student_score_ch8_sec4(s)\n",
        "    #         print(f\"[JP_PY_STRING_CH8_SEC4_AS_SCORE_LABEL_PH] {s}: {result}\")\n",
        "    #     except TypeError as te:\n",
        "    #         print(f\"[JP_PY_STRING_CH8_SEC4_AS_SCORE_LABEL_PH] {s}: [JP_PY_STRING_CH8_SEC4_AS_ERROR_LABEL_PH] - {te}\")\n",
        "    #     except ValueError as ve:\n",
        "    #         print(f\"[JP_PY_STRING_CH8_SEC4_AS_SCORE_LABEL_PH] {s}: [JP_PY_STRING_CH8_SEC4_AS_ERROR_LABEL_PH] - {ve}\")\n",
        "    pass\n",
        "# check_score_and_raise_exercise_ch8_sec4() # [JP_PY_COMMENT_CH8_SEC4_AS_CALL_FUNC_PH]"
      ]
    },
    {
      "cell_type": "code",
      "execution_count": null,
      "metadata": {
        "jupyter": {
          "source_hidden": true
        },
        "title": "[JP_CHECK_TITLE_CH8_SEC4_PH]"
      },
      "outputs": [],
      "source": [
        "#@title [JP_CHECK_TITLE_CH8_SEC4_PH] { display-mode: \"form\" }\n",
        "print(\"[JP_CHECK_TEXT_CH8_SEC4_PH]\")"
      ]
    },
    {
      "cell_type": "code",
      "metadata": {
        "jupyter": {
          "source_hidden": true
        }
      },
      "source": [
        "def check_score_and_raise_exercise_ch8_sec4_solution():\n",
        "  def evaluate_student_score(score):\n",
        "    if not isinstance(score, (int, float)): \n",
        "        raise TypeError(\"点数は数値でなければなりません。\")\n",
        "    if score < 0 or score > 100:\n",
        "      raise ValueError(\"点数は0から100の間でなければなりません。\")\n",
        "    elif score < 60:\n",
        "      return \"不可\"\n",
        "    else:\n",
        "      return \"合格\"\n",
        "\n",
        "  scores_to_test = [85, 55, 105, -10, \"abc\"] \n",
        "  for s_val in scores_to_test:\n",
        "    print(f\"\\nテストする点数: {s_val}\")\n",
        "    try:\n",
        "      result = evaluate_student_score(s_val)\n",
        "      print(f\"結果: {result}\")\n",
        "    except ValueError as e_val:\n",
        "      print(f\"値エラー: {e_val}\")\n",
        "    except TypeError as e_type:\n",
        "      print(f\"型エラー: {e_type}\")\n",
        "\n",
        "check_score_and_raise_exercise_ch8_sec4_solution()"
      ],
      "outputs": [],
      "execution_count": null
    },
    {
      "cell_type": "markdown",
      "metadata": {},
      "source": [
        "# # 第9章：オブジェクト指向プログラミング(OOP) Part 1: クラスとオブジェクト\\n",
        "\\n",
        "これまでの章では、手続き型プログラミングの考え方に基づいて、上から順に実行される命令や、関数を使った処理のまとまりとしてプログラムを作成してきました。\\n",
        "この章からは、Pythonの強力な機能の一つである **オブジェクト指向プログラミング (Object-Oriented Programming, OOP)** について学び始めます。OOPは、現実世界の「モノ」や「概念」をプログラム内で「オブジェクト」として表現し、それらのオブジェクトが互いに連携しあって動作する、という考え方に基づいたプログラミングのパラダイム（考え方の枠組み）です。OOPを学ぶことで、より大規模で複雑なプログラムを、整理された、再利用しやすく、保守しやすい形で構築できるようになります。まずはOOPの基本的な構成要素である「クラス」と「オブジェクト」から理解していきましょう。"
      ]
    },
    {
      "cell_type": "markdown",
      "metadata": {},
      "source": [
        "## ## 9.1 OOPの基本概念\\n",
        "\\n",
        "オブジェクト指向プログラミングを理解する上で中心となるのが、「クラス」と「オブジェクト」という2つの概念です。\\n",
        "*   ***   **オブジェクト (Object)：**** 現実世界の具体的な「モノ」（例：一台の車、一冊の本、一人の人間）や、抽象的な「概念」（例：一つの注文、一つの図形）をプログラム内で表現したものです。オブジェクトは、固有の **データ（属性や状態とも呼ばれます）** と、そのデータを操作するための **手続き（メソッドや振る舞いとも呼ばれます）** を持っています。\\n",
        "*   ***   **クラス (Class)：**** オブジェクトの設計図やテンプレート（雛形）です。同じ種類のオブジェクトが共通して持つべき属性やメソッドを定義します。例えば、「犬」というクラスを定義すれば、そのクラスから「ポチ」や「ハチ公」といった具体的な犬のオブジェクトを作成できます。クラスは、オブジェクトを量産するための「型」と考えることもできます。\\n",
        "OOPの主な利点には、コードの再利用性（継承）、保守性（カプセル化）、柔軟性（ポリモーフィズム）などがありますが、これらは後の章で詳しく学びます。\\n",
        "まずは、「クラスは設計図、オブジェクトはその設計図から作られた実体」というイメージを掴みましょう。"
      ]
    },
    {
      "cell_type": "markdown",
      "metadata": {},
      "source": [
        "### ### 練習問題 9.1\\n",
        "\\n",
        "あなたの身の回りにあるものや、よく知っている概念の中から、「クラス」と、そのクラスから作成できる具体的な「オブジェクト」の例を2つ挙げてください。"
      ]
    },
    {
      "cell_type": "markdown",
      "metadata": {},
      "source": [
        "ここに回答を記述してください。\\n",
        "1. 例1\\n",
        "    *   クラス名：\\n",
        "    *   オブジェクトの例：\\n",
        "2. 例2\\n",
        "    *   クラス名：\\n",
        "    *   オブジェクトの例："
      ]
    },
    {
      "cell_type": "markdown",
      "metadata": {
        "jupyter": {
          "source_hidden": true
        }
      },
      "source": [
        "---<details><summary>解答例 9.1</summary>\\n",
        "\\n",
        "**例1**\\n",
        "*   クラス名： スマートフォン\\n",
        "*   オブジェクトの例： 私のiPhone 15, 友人のPixel 8, 店頭に展示されているGalaxy S23\\n",
        "\\n",
        "**例2**\\n",
        "*   クラス名： 飲料\\n",
        "*   オブジェクトの例： ペットボトルの緑茶, カップに入ったコーヒー, 缶のコーラ\\n",
        "</details>"
      ]
    },
    {
      "cell_type": "markdown",
      "metadata": {},
      "source": [
        "## ## 9.2 クラスの定義 (`class`)\\n",
        "\\n",
        "Pythonでクラスを定義するには、`class` キーワードを使います。クラス名は、慣習として各単語の先頭を大文字にするパスカルケース（またはキャメルケース）で記述します（例：`MyClass`, `StudentData`）。\\n",
        "```python\\n",
        "class ClassNamePlaceholder:\\n",
        "    pass # [JP_PY_COMMENT_CH9_SEC2_EMPTY_CLASS_PH]\\n",
        "```\\n",
        "`pass` は、文法的には何かが必要だが、まだ何も書くことがない場合に使われるプレースホルダーです。上記は最も単純なクラス定義で、まだ属性もメソッドも持っていません。"
      ]
    },
    {
      "cell_type": "markdown",
      "metadata": {},
      "source": [
        "### ### 練習問題 9.2\\n",
        "\\n",
        "`Vehicle` という名前の空のクラスを定義してください。その後、`my_car = Vehicle()` のようにして `Vehicle` クラスのオブジェクト（インスタンス）を作成し、`type(my_car)` を使ってその型が表示されることを確認してみましょう。"
      ]
    },
    {
      "cell_type": "code",
      "metadata": {},
      "source": [
        "def define_empty_vehicle_class_exercise():\n",
        "  # [JP_PY_COMMENT_CH9_SEC2_DEFINE_HERE_PH]\n",
        "  pass\n",
        "# [JP_PY_COMMENT_CH9_SEC2_TEST_CODE_PH]\n",
        "# my_car = VehiclePlaceholder()\n",
        "# print(type(my_car))"
      ],
      "outputs": [],
      "execution_count": null
    },
    {
      "cell_type": "code",
      "metadata": {
        "jupyter": {
          "source_hidden": true
        },
        "title": "[JP_CHECK_TITLE_CH9_SEC2_PH]"
      },
      "source": [
        "#@title [JP_CHECK_TITLE_CH9_SEC2_PH] { display-mode: \"form\" }\n",
        "# [JP_CHECK_CODE_9_2_CONTENT_PH]\n",
        "print(\"[JP_CHECK_TEXT_CH9_SEC2_PH]\")"
      ],
      "outputs": [],
      "execution_count": null
    },
    {
      "cell_type": "code",
      "metadata": {
        "jupyter": {
          "source_hidden": true
        }
      },
      "source": [
        "def define_empty_vehicle_class_solution():\n",
        "  class Vehicle: # クラス名は通常大文字で始める (パスカルケース)\n",
        "    pass\n",
        "  \n",
        "  # 確認用\n",
        "  my_vehicle = Vehicle()\n",
        "  print(f\"作成されたオブジェクトの型: {type(my_vehicle)}\")\n",
        "  if isinstance(my_vehicle, Vehicle):\n",
        "    print(\"Vehicleクラスのオブジェクトが正しく作成されました。\")\n",
        "\n",
        "# define_empty_vehicle_class_solution()"
      ],
      "outputs": [],
      "execution_count": null
    },
    {
      "cell_type": "markdown",
      "metadata": {},
      "source": [
        "## ## 9.3 コンストラクタ (`__init__`) と属性\\n",
        "\\n",
        "クラスからオブジェクトが作成（インスタンス化）される際に、そのオブジェクトの初期設定を行うための特別なメソッドが **コンストラクタ (Constructor)** です。Pythonでは、コンストラクタは `__init__` という名前のメソッドとして定義します（アンダースコア2つで始まり、アンダースコア2つで終わる）。\\n",
        "`__init__` メソッドの最初の引数は必ず `self` でなければなりません。この `self` は、作成されるオブジェクト自身を指します。`self` を通じて、オブジェクト固有のデータである **属性 (Attribute)** を設定します。\\n",
        "```python\\n",
        "# class ClassNamePlaceholder:\\n",
        "#     def __init__(self, param1_ph, param2_ph): # [JP_PY_COMMENT_CONSTRUCTOR_PH]\\n",
        "#         self.attribute1_ph = param1_ph # [JP_PY_COMMENT_INSTANCE_ATTR_PH]\\n",
        "#         self.attribute2_ph = param2_ph\\n",
        "#         print(\"[JP_PY_STRING_OBJECT_CREATED_PH]\")\\n",
        "```\\n",
        "オブジェクトを作成する際に `ClassName(引数1, 引数2)` のように渡された引数は、`__init__` メソッドの `self` に続く仮引数（上の例では `param1_ph`, `param2_ph`）に渡されます。"
      ]
    },
    {
      "cell_type": "markdown",
      "metadata": {},
      "source": [
        "### ### 練習問題 9.3\\n",
        "\\n",
        "`Book` というクラスを定義します。\\n",
        "1.   コンストラクタ `__init__` を持ち、本のタイトル(`title`)と著者(`author`)を引数として受け取ります。\\n",
        "2.   受け取ったタイトルと著者を、それぞれインスタンス属性 `self.title` と `self.author` に設定します。\\n",
        "3.   コンストラクタの中で、「本「[タイトル名]」のオブジェクトが作成されました。」と表示します。\\n",
        "\\n",
        "その後、この `Book` クラスから、あなたの好きな本で2つの異なるオブジェクトを作成し、それぞれのオブジェクトの `title` 属性と `author` 属性を表示して確認してください。"
      ]
    },
    {
      "cell_type": "code",
      "metadata": {},
      "source": [
        "# [JP_PY_COMMENT_CH9_SEC3_CLASS_DEF_PH]\n",
        "# class Book:\n",
        "    # [JP_PY_COMMENT_CH9_SEC3_INIT_METHOD_PH]\n",
        "    # def __init__(self, title_param, author_param):\n",
        "        # self.title = title_param\n",
        "        # self.author = author_param\n",
        "        # print(f\"[JP_PY_STRING_BOOK_CREATED_PH]: {self.title}\")\n",
        "\n",
        "# [JP_PY_COMMENT_CH9_SEC3_CREATE_OBJECTS_PH]\n",
        "# book1 = Book(\"[JP_PY_STRING_DUMMY_TITLE1_PH]\", \"[JP_PY_STRING_DUMMY_AUTHOR1_PH]\")\n",
        "# book2 = Book(\"[JP_PY_STRING_DUMMY_TITLE2_PH]\", \"[JP_PY_STRING_DUMMY_AUTHOR2_PH]\")\n",
        "\n",
        "# [JP_PY_COMMENT_CH9_SEC3_PRINT_ATTRS_PH]\n",
        "# print(f\"[JP_PY_STRING_BOOK1_TITLE_PH] {book1.title}, [JP_PY_STRING_AUTHOR_LABEL_PH] {book1.author}\")\n",
        "# print(f\"[JP_PY_STRING_BOOK2_TITLE_PH] {book2.title}, [JP_PY_STRING_AUTHOR_LABEL_PH] {book2.author}\")"
      ],
      "outputs": [],
      "execution_count": null
    },
    {
      "cell_type": "code",
      "metadata": {
        "jupyter": {
          "source_hidden": true
        },
        "title": "[JP_CHECK_TITLE_CH9_SEC3_PH]"
      },
      "source": [
        "#@title [JP_CHECK_TITLE_CH9_SEC3_PH] { display-mode: \"form\" }\n",
        "# [JP_CHECK_CODE_9_3_CONTENT_PH]\n",
        "print(\"[JP_CHECK_TEXT_CH9_SEC3_PH]\")"
      ],
      "outputs": [],
      "execution_count": null
    },
    {
      "cell_type": "code",
      "metadata": {
        "jupyter": {
          "source_hidden": true
        }
      },
      "source": [
        "class BookSolutionCh9Sec3: \n",
        "    def __init__(self, title, author):\n",
        "        self.title = title\n",
        "        self.author = author\n",
        "        print(f\"本「{self.title}」のオブジェクトが作成されました。\")\n",
        "\n",
        "book_sol1_ch9_s3 = BookSolutionCh9Sec3(\"こころ\", \"夏目漱石\")\n",
        "book_sol2_ch9_s3 = BookSolutionCh9Sec3(\"人間失格\", \"太宰治\")\n",
        "\n",
        "print(f\"1冊目のタイトル: {book_sol1_ch9_s3.title}, 著者: {book_sol1_ch9_s3.author}\")\n",
        "print(f\"2冊目のタイトル: {book_sol2_ch9_s3.title}, 著者: {book_sol2_ch9_s3.author}\")"
      ],
      "outputs": [],
      "execution_count": null
    },
    {
      "cell_type": "markdown",
      "metadata": {},
      "source": [
        "## ## 9.4 メソッド (Methods)\\n",
        "\\n",
        "**メソッド (Method)** とは、クラス内で定義された関数のことです。メソッドは、そのクラスのオブジェクトの属性を操作したり、オブジェクトに関連する特定の振る舞い（アクション）を定義したりします。インスタンスメソッドの最初の引数は、常にそのメソッドを呼び出したオブジェクト自身を指す `self` です。\\n",
        "```python\\n",
        "# class ClassNamePlaceholder:\\n",
        "#     def __init__(self, attribute_ph):\\n",
        "#         self.attribute_ph = attribute_ph\\n",
        "# \\n",
        "#     def method_name_placeholder(self, param_ph): # [JP_PY_COMMENT_INSTANCE_METHOD_PH]\\n",
        "#         # [JP_PY_COMMENT_METHOD_BODY_PH]\\n",
        "#         print(f\"[JP_PY_STRING_ATTR_VALUE_PH] {self.attribute_ph}, [JP_PY_STRING_PARAM_VALUE_PH] {param_ph}\")\\n",
        "```\\n",
        "メソッドを呼び出すには、`オブジェクト.メソッド名(引数)` のように記述します。"
      ]
    },
    {
      "cell_type": "markdown",
      "metadata": {},
      "source": [
        "### ### 練習問題 9.4\\n",
        "\\n",
        "`Dog` というクラスを定義します。\\n",
        "1.   コンストラクタ `__init__` で犬の名前(`name`)を引数として受け取り、インスタンス属性 `self.name` に設定します。また、犬が覚えた芸を格納するための空のリストをインスタンス属性 `self.tricks` として初期化します。\\n",
        "2.   `add_trick(self, trick)` というメソッドを定義します。このメソッドは、新しい芸(`trick`)を引数として受け取り、`self.tricks` リストに追加し、「[犬の名前]は新しい芸「[芸の名前]」を覚えた！」と表示します。\\n",
        "3.   `bark(self)` というメソッドを定義します。このメソッドは、「[犬の名前]: ワンワン！」と表示します。\\n",
        "\\n",
        "`Dog` クラスから \"ポチ\" という名前の犬オブジェクトを作成し、\"お手\" と \"伏せ\" の芸を覚えさせてから吠えさせてみましょう。最後に、ポチができる芸のリストを表示してください。"
      ]
    },
    {
      "cell_type": "code",
      "metadata": {},
      "source": [
        "# class Dog:\n",
        "    # def __init__(self, name_param):\n",
        "        # self.name = name_param\n",
        "        # self.tricks = [] # [JP_PY_COMMENT_CH9_SEC4_TRICKS_LIST_PH]\n",
        "\n",
        "    # def add_trick(self, trick_param):\n",
        "        # [JP_PY_COMMENT_CH9_SEC4_ADD_TRICK_BODY_PH]\n",
        "        # pass\n",
        "        \n",
        "    # def bark(self):\n",
        "        # [JP_PY_COMMENT_CH9_SEC4_BARK_BODY_PH]\n",
        "        # print(f\"{self.name}: [JP_PY_STRING_WOOF_PH]\")\n",
        "\n",
        "# [JP_PY_COMMENT_CH9_SEC4_CREATE_DOG_PH]\n",
        "# dog1 = Dog(\"[JP_PY_STRING_DOG_NAME_POCHI_PH]\")\n",
        "# dog1.add_trick(\"[JP_PY_STRING_TRICK_SIT_PH]\")\n",
        "# dog1.add_trick(\"[JP_PY_STRING_TRICK_ROLLOVER_PH]\")\n",
        "# dog1.bark()\n",
        "# print(f\"{dog1.name}[JP_PY_STRING_CAN_DO_TRICKS_PH] {dog1.tricks}\")"
      ],
      "outputs": [],
      "execution_count": null
    },
    {
      "cell_type": "code",
      "metadata": {
        "jupyter": {
          "source_hidden": true
        },
        "title": "[JP_CHECK_TITLE_CH9_SEC4_PH]"
      },
      "source": [
        "#@title [JP_CHECK_TITLE_CH9_SEC4_PH] { display-mode: \"form\" }\n",
        "# [JP_CHECK_CODE_9_4_CONTENT_PH]\n",
        "print(\"[JP_CHECK_TEXT_CH9_SEC4_PH]\")"
      ],
      "outputs": [],
      "execution_count": null
    },
    {
      "cell_type": "code",
      "metadata": {
        "jupyter": {
          "source_hidden": true
        }
      },
      "source": [
        "class DogSolutionCh9Sec4:\n",
        "    def __init__(self, name):\n",
        "        self.name = name\n",
        "        self.tricks = [] # 芸を保存するリスト\n",
        "\n",
        "    def add_trick(self, trick):\n",
        "        self.tricks.append(trick)\n",
        "        print(f\"{self.name}は新しい芸「{trick}」を覚えた！\")\n",
        "        \n",
        "    def bark(self):\n",
        "        print(f\"{self.name}: ワンワン！\")\n",
        "\n",
        "dog_sol1_ch9_s4 = DogSolutionCh9Sec4(\"ポチ\")\n",
        "dog_sol1_ch9_s4.add_trick(\"お手\")\n",
        "dog_sol1_ch9_s4.add_trick(\"伏せ\")\n",
        "dog_sol1_ch9_s4.bark()\n",
        "print(f\"{dog_sol1_ch9_s4.name}ができる芸: {dog_sol1_ch9_s4.tricks}\")\n",
        "\n",
        "dog_sol2_ch9_s4 = DogSolutionCh9Sec4(\"ハチ\")\n",
        "dog_sol2_ch9_s4.add_trick(\"待て\")\n",
        "dog_sol2_ch9_s4.bark()\n",
        "print(f\"{dog_sol2_ch9_s4.name}ができる芸: {dog_sol2_ch9_s4.tricks}\")"
      ],
      "outputs": [],
      "execution_count": null
    },
    {
      "cell_type": "markdown",
      "metadata": {},
      "source": [
        "## ## 9.5 オブジェクトの作成と使用\\n",
        "\\n",
        "クラスを定義したら、そのクラスからオブジェクト（インスタンスとも呼ばれます）を作成して使用します。オブジェクトを作成するには、クラス名の後に丸括弧 `()` を付けて呼び出します（コンストラクタに引数が必要な場合は、括弧内に引数を指定します）。\\n",
        "作成したオブジェクトの属性にアクセスしたり、メソッドを呼び出したりするには、ドット `.` 演算子を使います。\\n",
        "\\n",
        "**クラス属性：** クラス全体で共有される属性です。クラス変数とも呼ばれます。`クラス名.クラス属性名` でアクセスできます。\\n",
        "**インスタンス属性：** 各オブジェクトが個別に持つ属性です。`self.属性名` で定義され、`オブジェクト名.属性名` でアクセスします。\\n",
        "```python\\n",
        "# class MyClassPlaceholder:\\n",
        "#     class_attribute_placeholder = \"[JP_PY_STRING_CLASS_ATTR_VALUE_PH]\" # [JP_PY_COMMENT_CLASS_ATTR_PH]\\n",
        "# \\n",
        "#     def __init__(self, instance_attr_val_ph):\\n",
        "#         self.instance_attribute_ph = instance_attr_val_ph\\n",
        "# \\n",
        "#     def display(self):\\n",
        "#         print(f\"[JP_PY_STRING_INSTANCE_ATTR_DISPLAY_PH] {self.instance_attribute_ph}\")\\n",
        "#         print(f\"[JP_PY_STRING_CLASS_ATTR_DISPLAY_PH] {MyClassPlaceholder.class_attribute_placeholder}\")\\n",
        "# \\n",
        "# # [JP_PY_COMMENT_OBJECT_CREATION_PH]\\n",
        "# obj1_ph = MyClassPlaceholder(\"[JP_PY_STRING_OBJ1_VALUE_PH]\")\\n",
        "# obj2_ph = MyClassPlaceholder(\"[JP_PY_STRING_OBJ2_VALUE_PH]\")\\n",
        "# \\n",
        "# obj1_ph.display()\\n",
        "# obj2_ph.display()\\n",
        "# print(MyClassPlaceholder.class_attribute_placeholder) # [JP_PY_COMMENT_ACCESS_CLASS_ATTR_DIRECTLY_PH]\\n",
        "```"
      ]
    },
    {
      "cell_type": "markdown",
      "metadata": {},
      "source": [
        "### ### 練習問題 9.5\\n",
        "\\n",
        "`Car` というクラスを定義して、車のオブジェクトを作成し操作してみましょう。\\n",
        "1.  1.  コンストラクタ `__init__(self, color, brand)` を持ち、色(`color`)とメーカー名(`brand`)をインスタンス属性として設定します。また、エンジンの状態を表すインスタンス属性 `self.is_engine_on` を `False` (停止状態) で初期化します。\\n",
        "2.  2.  `start_engine(self)` メソッド：エンジンが停止していれば `self.is_engine_on` を `True` にし、「[メーカー名]の[色]の車がエンジンをかけました。ブルルン！」と表示します。既にエンジンがかかっていれば、「[メーカー名]の[色]の車のエンジンは既にかかっています。」と表示します。\\n",
        "3.  3.  `stop_engine(self)` メソッド：エンジンがかかっていれば `self.is_engine_on` を `False` にし、「[メーカー名]の[色]の車のエンジンを停止しました。シーン。」と表示します。既にエンジンが停止していれば、「[メーカー名]の[色]の車のエンジンは既に停止しています。」と表示します。\\n",
        "4.  4.  「赤」の「トヨタ」車オブジェクトと、「青」の「ホンダ」車オブジェクトをそれぞれ作成し、エンジンをかけたり停止したりする操作を何度か試して、メッセージが正しく表示されるか確認してください。"
      ]
    },
    {
      "cell_type": "code",
      "metadata": {},
      "source": [
        "# [JP_PY_COMMENT_CH9_SEC5_DEFINE_CAR_CLASS_PH]\n",
        "# class Car:\n",
        "    # [JP_PY_COMMENT_CH9_SEC5_INIT_METHOD_PH]\n",
        "    # def __init__(self, color_param, brand_param):\n",
        "        # self.color = color_param\n",
        "        # self.brand = brand_param\n",
        "        # self.is_engine_on = False # [JP_PY_COMMENT_CH9_SEC5_ENGINE_STATUS_PH]\n",
        "\n",
        "    # [JP_PY_COMMENT_CH9_SEC5_START_ENGINE_METHOD_PH]\n",
        "    # def start_engine(self):\n",
        "        # [JP_PY_COMMENT_CH9_SEC5_START_ENGINE_LOGIC_PH]\n",
        "        # pass\n",
        "\n",
        "    # [JP_PY_COMMENT_CH9_SEC5_STOP_ENGINE_METHOD_PH]\n",
        "    # def stop_engine(self):\n",
        "        # [JP_PY_COMMENT_CH9_SEC5_STOP_ENGINE_LOGIC_PH]\n",
        "        # pass\n",
        "\n",
        "# [JP_PY_COMMENT_CH9_SEC5_CREATE_CARS_PH]\n",
        "# car1 = Car(\"[JP_PY_STRING_CAR_COLOR_RED_PH]\", \"[JP_PY_STRING_CAR_BRAND_TOYOTA_PH]\")\n",
        "# car2 = Car(\"[JP_PY_STRING_CAR_COLOR_BLUE_PH]\", \"[JP_PY_STRING_CAR_BRAND_HONDA_PH]\")\n",
        "\n",
        "# [JP_PY_COMMENT_CH9_SEC5_OPERATE_CAR1_PH]\n",
        "# car1.start_engine()\n",
        "# car1.start_engine() # [JP_PY_COMMENT_CH9_SEC5_TRY_START_AGAIN_PH]\n",
        "# car1.stop_engine()\n",
        "\n",
        "# [JP_PY_COMMENT_CH9_SEC5_OPERATE_CAR2_PH]\n",
        "# car2.stop_engine()  # [JP_PY_COMMENT_CH9_SEC5_TRY_STOP_WHEN_OFF_PH]\n",
        "# car2.start_engine()"
      ],
      "outputs": [],
      "execution_count": null
    },
    {
      "cell_type": "code",
      "metadata": {
        "jupyter": {
          "source_hidden": true
        },
        "title": "[JP_CHECK_TITLE_CH9_SEC5_PH]"
      },
      "source": [
        "#@title [JP_CHECK_TITLE_CH9_SEC5_PH] { display-mode: \"form\" }\n",
        "# [JP_CHECK_CODE_9_5_CONTENT_PH]\n",
        "print(\"[JP_CHECK_TEXT_CH9_SEC5_PH]\")"
      ],
      "outputs": [],
      "execution_count": null
    },
    {
      "cell_type": "code",
      "metadata": {
        "jupyter": {
          "source_hidden": true
        }
      },
      "source": [
        "class CarSolutionCh9Sec5:\n",
        "    def __init__(self, color, brand):\n",
        "        self.color = color\n",
        "        self.brand = brand\n",
        "        self.is_engine_on = False # エンジンの状態を管理する属性\n",
        "\n",
        "    def start_engine(self):\n",
        "        if not self.is_engine_on:\n",
        "            self.is_engine_on = True\n",
        "            print(f\"{self.brand}の{self.color}の車がエンジンをかけました。ブルルン！\")\n",
        "        else:\n",
        "            print(f\"{self.brand}の{self.color}の車のエンジンは既にかかっています。\")\n",
        "\n",
        "    def stop_engine(self):\n",
        "        if self.is_engine_on:\n",
        "            self.is_engine_on = False\n",
        "            print(f\"{self.brand}の{self.color}の車のエンジンを停止しました。シーン。\")\n",
        "        else:\n",
        "            print(f\"{self.brand}の{self.color}の車のエンジンは既に停止しています。\")\n",
        "\n",
        "my_car1_ch9_s5_sol = CarSolutionCh9Sec5(\"赤\", \"トヨタ\")\n",
        "my_car2_ch9_s5_sol = CarSolutionCh9Sec5(\"青\", \"ホンダ\")\n",
        "\n",
        "print(\"--- my_car1 の操作 ---\")\n",
        "my_car1_ch9_s5_sol.start_engine()\n",
        "my_car1_ch9_s5_sol.start_engine()\n",
        "my_car1_ch9_s5_sol.stop_engine()\n",
        "my_car1_ch9_s5_sol.stop_engine()\n",
        "\n",
        "print(\"\\n--- my_car2 の操作 ---\")\n",
        "my_car2_ch9_s5_sol.stop_engine()\n",
        "my_car2_ch9_s5_sol.start_engine()\n",
        "my_car2_ch9_s5_sol.stop_engine()"
      ],
      "outputs": [],
      "execution_count": null
    },
    {
      "cell_type": "markdown",
      "metadata": {},
      "source": [
        "# # 第10章：オブジェクト指向プログラミング(OOP) Part 2: 継承\\n",
        "\\n",
        "前の章では、オブジェクト指向プログラミングの基本的な要素であるクラスとオブジェクトについて学び、独自のデータ型を設計する方法を見ました。\\n",
        "この章では、OOPのもう一つの重要な柱である **継承 (Inheritance)** について掘り下げます。継承は、既存のクラスの特性（属性やメソッド）を引き継いで新しいクラスを作成する仕組みで、コードの再利用性を高め、クラス間の関係性を体系的に構築するのに役立ちます。"
      ]
    },
    {
      "cell_type": "markdown",
      "metadata": {},
      "source": [
        "## ## 10.1 継承とは？\\n",
        "\\n",
        "**継承 (Inheritance)** とは、あるクラス（**親クラス**、**スーパークラス**、または**基底クラス**と呼びます）が持つ属性やメソッドを、別の新しいクラス（**子クラス**、**サブクラス**、または**派生クラス**と呼びます）が引き継ぐことができる仕組みです。\\n",
        "子クラスは、親クラスの機能を全て受け継ぎつつ、独自の新しい機能を追加したり、親クラスの機能を変更（オーバーライド）したりすることができます。\\n",
        "継承の主な利点は以下の通りです：\\n",
        "*   ****コードの再利用性：** 親クラスで定義された共通の属性やメソッドを、複数の子クラスで再利用できます。これにより、同じコードを何度も書く手間が省けます。**\\n",
        "*   ****階層的なクラス構造：** 現実世界の「IS-A関係」（例：犬は動物である、車は乗り物である）をプログラム内で自然に表現でき、クラス間の関係が明確になります。**\\n",
        "例えば、「動物」という親クラスがあり、それには「食べる」「寝る」といった基本的なメソッドがあるとします。「犬」クラスや「猫」クラスは「動物」クラスを継承することで、これらの基本メソッドを自動的に持つことができ、さらに「吠える」（犬クラス）や「ニャーと鳴く」（猫クラス）といった独自のメソッドを追加できます。"
      ]
    },
    {
      "cell_type": "markdown",
      "metadata": {},
      "source": [
        "### ### 練習問題 10.1\\n",
        "\\n",
        "「乗り物 (Vehicle)」という親クラスを考えます。この親クラスから継承して作成できる子クラスの例を3つ挙げてください。また、それぞれの子クラスが「乗り物」クラスからどのような共通の特性（属性やメソッド）を継承し、どのような独自の特性を持つ可能性があるか簡単に説明してください。"
      ]
    },
    {
      "cell_type": "markdown",
      "metadata": {},
      "source": [
        "ここに回答を記述してください。\\n",
        "1. **親クラス：乗り物 (Vehicle)**\\n",
        "    *   1.  子クラスの例：\\n",
        "    *   2.  子クラスの例：\\n",
        "    *   3.  子クラスの例：\\n",
        "    *      共通の特性と独自の特性："
      ]
    },
    {
      "cell_type": "markdown",
      "metadata": {
        "jupyter": {
          "source_hidden": true
        }
      },
      "source": [
        "---<details><summary>解答例 10.1</summary>\\n",
        "\\n",
        "**親クラス：乗り物 (Vehicle)**\\n",
        "   共通の特性（例）：移動速度、乗員定員、`move()` メソッド、`stop()` メソッド\\n",
        "\\n",
        "1.  **子クラスの例：車 (Car)**\\n",
        "    *   独自の特性（例）：タイヤの数、ドアの数、`accelerate()` メソッド、`brake()` メソッド\\n",
        "2.  **子クラスの例：自転車 (Bicycle)**\\n",
        "    *   独自の特性（例）：ギアの段数、ベルの有無、`pedal()` メソッド、`ring_bell()` メソッド\\n",
        "3.  **子クラスの例：飛行機 (Airplane)**\\n",
        "    *   独自の特性（例）：翼長、エンジン数、`take_off()` メソッド、`land()` メソッド\\n",
        "</details>"
      ]
    },
    {
      "cell_type": "markdown",
      "metadata": {},
      "source": [
        "## ## 10.2 サブクラスの定義\\n",
        "\\n",
        "Pythonで子クラス（サブクラス）を定義するには、クラス名の後の丸括弧 `()` の中に親クラス（スーパークラス）の名前を記述します。\\n",
        "```python\\n",
        "# class ParentClassPlaceholder:\\n",
        "#     def __init__(self, name_ph):\\n",
        "#         self.name_ph = name_ph\\n",
        "#     def parent_method_placeholder(self):\\n",
        "#         print(f\"[JP_PY_STRING_PARENT_METHOD_MSG_PH] {self.name_ph}\")\\n",
        "# \\n",
        "# class ChildClassPlaceholder(ParentClassPlaceholder): # [JP_PY_COMMENT_INHERITANCE_SYNTAX_PH]\\n",
        "#     pass # [JP_PY_COMMENT_CHILD_CAN_HAVE_OWN_METHODS_PH]\\n",
        "# \\n",
        "# # child_obj_placeholder = ChildClassPlaceholder(\"[JP_PY_STRING_CHILD_NAME_PH]\")\\n",
        "# # child_obj_placeholder.parent_method_placeholder() # [JP_PY_COMMENT_CHILD_USES_PARENT_METHOD_PH]\\n",
        "```\\n",
        "子クラスは、親クラスで定義された全ての属性とメソッドを自動的に利用できます。この時点では、`ChildClassPlaceholder` は `ParentClassPlaceholder` と全く同じ機能を持っています。"
      ]
    },
    {
      "cell_type": "code",
      "metadata": {
        "jupyter": {
          "source_hidden": true
        }
      },
      "source": [
        "class AnimalSolutionCh10Sec4:\n",
        "    def __init__(self, name):\n",
        "        self.name = name\n",
        "        print(f\"Animal __init__: 動物「{self.name}」が作成されました。\")\n",
        "\n",
        "    def eat(self):\n",
        "        print(f\"{self.name}は食事をしています。モグモグ。\")\n",
        "\n",
        "class BirdFromAnimalCh10Sec4(AnimalSolutionCh10Sec4):\n",
        "    def __init__(self, name, wingspan):\n",
        "        print(f\"Bird __init__ が呼ばれました (super().__init__ の前)。\")\n",
        "        super().__init__(name) # 親クラスの__init__を呼び出してname属性を設定\n",
        "        self.wingspan = wingspan # Birdクラス独自の属性\n",
        "        print(f\"Bird __init__: 鳥「{self.name}」(翼長: {self.wingspan}cm) が完全に作成されました。\")\n",
        "\n",
        "    def fly(self):\n",
        "        print(f\"{self.name}は、翼長{self.wingspan}cmの美しい翼を広げて空を飛んでいます。\")\n",
        "\n",
        "tsubame_ch10_s4 = BirdFromAnimalCh10Sec4(\"ツバメ\", 30)\n",
        "tsubame_ch10_s4.eat()\n",
        "tsubame_ch10_s4.fly()"
      ],
      "outputs": [],
      "execution_count": null
    },
    {
      "cell_type": "markdown",
      "metadata": {},
      "source": [
        "# # 第9章：オブジェクト指向プログラミング(OOP) Part 1: クラスとオブジェクト\\n",
        "\\n",
        "これまでの章では、手続き型プログラミングの考え方に基づいて、上から順に実行される命令や、関数を使った処理のまとまりとしてプログラムを作成してきました。\\n",
        "この章からは、Pythonの強力な機能の一つである **オブジェクト指向プログラミング (Object-Oriented Programming, OOP)** について学び始めます。OOPは、現実世界の「モノ」や「概念」をプログラム内で「オブジェクト」として表現し、それらのオブジェクトが互いに連携しあって動作する、という考え方に基づいたプログラミングのパラダイム（考え方の枠組み）です。OOPを学ぶことで、より大規模で複雑なプログラムを、整理された、再利用しやすく、保守しやすい形で構築できるようになります。まずはOOPの基本的な構成要素である「クラス」と「オブジェクト」から理解していきましょう。"
      ]
    },
    {
      "cell_type": "markdown",
      "metadata": {},
      "source": [
        "## ## 9.1 OOPの基本概念\\n",
        "\\n",
        "オブジェクト指向プログラミングを理解する上で中心となるのが、「クラス」と「オブジェクト」という2つの概念です。\\n",
        "*   ***   **オブジェクト (Object)：**** 現実世界の具体的な「モノ」（例：一台の車、一冊の本、一人の人間）や、抽象的な「概念」（例：一つの注文、一つの図形）をプログラム内で表現したものです。オブジェクトは、固有の **データ（属性や状態とも呼ばれます）** と、そのデータを操作するための **手続き（メソッドや振る舞いとも呼ばれます）** を持っています。\\n",
        "*   ***   **クラス (Class)：**** オブジェクトの設計図やテンプレート（雛形）です。同じ種類のオブジェクトが共通して持つべき属性やメソッドを定義します。例えば、「犬」というクラスを定義すれば、そのクラスから「ポチ」や「ハチ公」といった具体的な犬のオブジェクトを作成できます。クラスは、オブジェクトを量産するための「型」と考えることもできます。\\n",
        "OOPの主な利点には、コードの再利用性（継承）、保守性（カプセル化）、柔軟性（ポリモーフィズム）などがありますが、これらは後の章で詳しく学びます。\\n",
        "まずは、「クラスは設計図、オブジェクトはその設計図から作られた実体」というイメージを掴みましょう。"
      ]
    },
    {
      "cell_type": "markdown",
      "metadata": {},
      "source": [
        "### ### 練習問題 9.1\\n",
        "\\n",
        "あなたの身の回りにあるものや、よく知っている概念の中から、「クラス」と、そのクラスから作成できる具体的な「オブジェクト」の例を2つ挙げてください。"
      ]
    },
    {
      "cell_type": "markdown",
      "metadata": {},
      "source": [
        "ここに回答を記述してください。\\n",
        "1. 例1\\n",
        "    *   クラス名：\\n",
        "    *   オブジェクトの例：\\n",
        "2. 例2\\n",
        "    *   クラス名：\\n",
        "    *   オブジェクトの例："
      ]
    },
    {
      "cell_type": "markdown",
      "metadata": {
        "jupyter": {
          "source_hidden": true
        }
      },
      "source": [
        "---<details><summary>解答例 9.1</summary>\\n",
        "\\n",
        "**例1**\\n",
        "*   クラス名： スマートフォン\\n",
        "*   オブジェクトの例： 私のiPhone 15, 友人のPixel 8, 店頭に展示されているGalaxy S23\\n",
        "\\n",
        "**例2**\\n",
        "*   クラス名： 飲料\\n",
        "*   オブジェクトの例： ペットボトルの緑茶, カップに入ったコーヒー, 缶のコーラ\\n",
        "</details>"
      ]
    },
    {
      "cell_type": "markdown",
      "metadata": {},
      "source": [
        "## ## 9.2 クラスの定義 (`class`)\\n",
        "\\n",
        "Pythonでクラスを定義するには、`class` キーワードを使います。クラス名は、慣習として各単語の先頭を大文字にするパスカルケース（またはキャメルケース）で記述します（例：`MyClass`, `StudentData`）。\\n",
        "```python\\n",
        "class ClassNamePlaceholder:\\n",
        "    pass # [JP_PY_COMMENT_CH9_SEC2_EMPTY_CLASS_PH]\\n",
        "```\\n",
        "`pass` は、文法的には何かが必要だが、まだ何も書くことがない場合に使われるプレースホルダーです。上記は最も単純なクラス定義で、まだ属性もメソッドも持っていません。"
      ]
    },
    {
      "cell_type": "markdown",
      "metadata": {},
      "source": [
        "### ### 練習問題 9.2\\n",
        "\\n",
        "`Vehicle` という名前の空のクラスを定義してください。その後、`my_car = Vehicle()` のようにして `Vehicle` クラスのオブジェクト（インスタンス）を作成し、`type(my_car)` を使ってその型が表示されることを確認してみましょう。"
      ]
    },
    {
      "cell_type": "code",
      "metadata": {},
      "source": [
        "def define_empty_vehicle_class_exercise():\n",
        "  # [JP_PY_COMMENT_CH9_SEC2_DEFINE_HERE_PH]\n",
        "  pass\n",
        "# [JP_PY_COMMENT_CH9_SEC2_TEST_CODE_PH]\n",
        "# my_car = VehiclePlaceholder()\n",
        "# print(type(my_car))"
      ],
      "outputs": [],
      "execution_count": null
    },
    {
      "cell_type": "code",
      "metadata": {
        "jupyter": {
          "source_hidden": true
        },
        "title": "[JP_CHECK_TITLE_CH9_SEC2_PH]"
      },
      "source": [
        "#@title [JP_CHECK_TITLE_CH9_SEC2_PH] { display-mode: \"form\" }\n",
        "# [JP_CHECK_CODE_9_2_CONTENT_PH]\n",
        "print(\"[JP_CHECK_TEXT_CH9_SEC2_PH]\")"
      ],
      "outputs": [],
      "execution_count": null
    },
    {
      "cell_type": "code",
      "metadata": {
        "jupyter": {
          "source_hidden": true
        }
      },
      "source": [
        "def define_empty_vehicle_class_solution():\n",
        "  class Vehicle: # クラス名は通常大文字で始める (パスカルケース)\n",
        "    pass\n",
        "  \n",
        "  # 確認用\n",
        "  my_vehicle = Vehicle()\n",
        "  print(f\"作成されたオブジェクトの型: {type(my_vehicle)}\")\n",
        "  if isinstance(my_vehicle, Vehicle):\n",
        "    print(\"Vehicleクラスのオブジェクトが正しく作成されました。\")\n",
        "\n",
        "# define_empty_vehicle_class_solution()"
      ],
      "outputs": [],
      "execution_count": null
    },
    {
      "cell_type": "markdown",
      "metadata": {},
      "source": [
        "## ## 9.3 コンストラクタ (`__init__`) と属性\\n",
        "\\n",
        "クラスからオブジェクトが作成（インスタンス化）される際に、そのオブジェクトの初期設定を行うための特別なメソッドが **コンストラクタ (Constructor)** です。Pythonでは、コンストラクタは `__init__` という名前のメソッドとして定義します（アンダースコア2つで始まり、アンダースコア2つで終わる）。\\n",
        "`__init__` メソッドの最初の引数は必ず `self` でなければなりません。この `self` は、作成されるオブジェクト自身を指します。`self` を通じて、オブジェクト固有のデータである **属性 (Attribute)** を設定します。\\n",
        "```python\\n",
        "# class ClassNamePlaceholder:\\n",
        "#     def __init__(self, param1_ph, param2_ph): # [JP_PY_COMMENT_CONSTRUCTOR_PH]\\n",
        "#         self.attribute1_ph = param1_ph # [JP_PY_COMMENT_INSTANCE_ATTR_PH]\\n",
        "#         self.attribute2_ph = param2_ph\\n",
        "#         print(\"[JP_PY_STRING_OBJECT_CREATED_PH]\")\\n",
        "```\\n",
        "オブジェクトを作成する際に `ClassName(引数1, 引数2)` のように渡された引数は、`__init__` メソッドの `self` に続く仮引数（上の例では `param1_ph`, `param2_ph`）に渡されます。"
      ]
    },
    {
      "cell_type": "markdown",
      "metadata": {},
      "source": [
        "### ### 練習問題 9.3\\n",
        "\\n",
        "`Book` というクラスを定義します。\\n",
        "1.   コンストラクタ `__init__` を持ち、本のタイトル(`title`)と著者(`author`)を引数として受け取ります。\\n",
        "2.   受け取ったタイトルと著者を、それぞれインスタンス属性 `self.title` と `self.author` に設定します。\\n",
        "3.   コンストラクタの中で、「本「[タイトル名]」のオブジェクトが作成されました。」と表示します。\\n",
        "\\n",
        "その後、この `Book` クラスから、あなたの好きな本で2つの異なるオブジェクトを作成し、それぞれのオブジェクトの `title` 属性と `author` 属性を表示して確認してください。"
      ]
    },
    {
      "cell_type": "code",
      "metadata": {},
      "source": [
        "# [JP_PY_COMMENT_CH9_SEC3_CLASS_DEF_PH]\n",
        "# class Book:\n",
        "    # [JP_PY_COMMENT_CH9_SEC3_INIT_METHOD_PH]\n",
        "    # def __init__(self, title_param, author_param):\n",
        "        # self.title = title_param\n",
        "        # self.author = author_param\n",
        "        # print(f\"[JP_PY_STRING_BOOK_CREATED_PH]: {self.title}\")\n",
        "\n",
        "# [JP_PY_COMMENT_CH9_SEC3_CREATE_OBJECTS_PH]\n",
        "# book1 = Book(\"[JP_PY_STRING_DUMMY_TITLE1_PH]\", \"[JP_PY_STRING_DUMMY_AUTHOR1_PH]\")\n",
        "# book2 = Book(\"[JP_PY_STRING_DUMMY_TITLE2_PH]\", \"[JP_PY_STRING_DUMMY_AUTHOR2_PH]\")\n",
        "\n",
        "# [JP_PY_COMMENT_CH9_SEC3_PRINT_ATTRS_PH]\n",
        "# print(f\"[JP_PY_STRING_BOOK1_TITLE_PH] {book1.title}, [JP_PY_STRING_AUTHOR_LABEL_PH] {book1.author}\")\n",
        "# print(f\"[JP_PY_STRING_BOOK2_TITLE_PH] {book2.title}, [JP_PY_STRING_AUTHOR_LABEL_PH] {book2.author}\")"
      ],
      "outputs": [],
      "execution_count": null
    },
    {
      "cell_type": "code",
      "metadata": {
        "jupyter": {
          "source_hidden": true
        },
        "title": "[JP_CHECK_TITLE_CH9_SEC3_PH]"
      },
      "source": [
        "#@title [JP_CHECK_TITLE_CH9_SEC3_PH] { display-mode: \"form\" }\n",
        "# [JP_CHECK_CODE_9_3_CONTENT_PH]\n",
        "print(\"[JP_CHECK_TEXT_CH9_SEC3_PH]\")"
      ],
      "outputs": [],
      "execution_count": null
    },
    {
      "cell_type": "code",
      "metadata": {
        "jupyter": {
          "source_hidden": true
        }
      },
      "source": [
        "class BookSolutionCh9Sec3: \n",
        "    def __init__(self, title, author):\n",
        "        self.title = title\n",
        "        self.author = author\n",
        "        print(f\"本「{self.title}」のオブジェクトが作成されました。\")\n",
        "\n",
        "book_sol1_ch9_s3 = BookSolutionCh9Sec3(\"こころ\", \"夏目漱石\")\n",
        "book_sol2_ch9_s3 = BookSolutionCh9Sec3(\"人間失格\", \"太宰治\")\n",
        "\n",
        "print(f\"1冊目のタイトル: {book_sol1_ch9_s3.title}, 著者: {book_sol1_ch9_s3.author}\")\n",
        "print(f\"2冊目のタイトル: {book_sol2_ch9_s3.title}, 著者: {book_sol2_ch9_s3.author}\")"
      ],
      "outputs": [],
      "execution_count": null
    },
    {
      "cell_type": "markdown",
      "metadata": {},
      "source": [
        "## ## 9.4 メソッド (Methods)\\n",
        "\\n",
        "**メソッド (Method)** とは、クラス内で定義された関数のことです。メソッドは、そのクラスのオブジェクトの属性を操作したり、オブジェクトに関連する特定の振る舞い（アクション）を定義したりします。インスタンスメソッドの最初の引数は、常にそのメソッドを呼び出したオブジェクト自身を指す `self` です。\\n",
        "```python\\n",
        "# class ClassNamePlaceholder:\\n",
        "#     def __init__(self, attribute_ph):\\n",
        "#         self.attribute_ph = attribute_ph\\n",
        "# \\n",
        "#     def method_name_placeholder(self, param_ph): # [JP_PY_COMMENT_INSTANCE_METHOD_PH]\\n",
        "#         # [JP_PY_COMMENT_METHOD_BODY_PH]\\n",
        "#         print(f\"[JP_PY_STRING_ATTR_VALUE_PH] {self.attribute_ph}, [JP_PY_STRING_PARAM_VALUE_PH] {param_ph}\")\\n",
        "```\\n",
        "メソッドを呼び出すには、`オブジェクト.メソッド名(引数)` のように記述します。"
      ]
    },
    {
      "cell_type": "markdown",
      "metadata": {},
      "source": [
        "### ### 練習問題 9.4\\n",
        "\\n",
        "`Dog` というクラスを定義します。\\n",
        "1.   コンストラクタ `__init__` で犬の名前(`name`)を引数として受け取り、インスタンス属性 `self.name` に設定します。また、犬が覚えた芸を格納するための空のリストをインスタンス属性 `self.tricks` として初期化します。\\n",
        "2.   `add_trick(self, trick)` というメソッドを定義します。このメソッドは、新しい芸(`trick`)を引数として受け取り、`self.tricks` リストに追加し、「[犬の名前]は新しい芸「[芸の名前]」を覚えた！」と表示します。\\n",
        "3.   `bark(self)` というメソッドを定義します。このメソッドは、「[犬の名前]: ワンワン！」と表示します。\\n",
        "\\n",
        "`Dog` クラスから \"ポチ\" という名前の犬オブジェクトを作成し、\"お手\" と \"伏せ\" の芸を覚えさせてから吠えさせてみましょう。最後に、ポチができる芸のリストを表示してください。"
      ]
    },
    {
      "cell_type": "code",
      "metadata": {},
      "source": [
        "# class Dog:\n",
        "    # def __init__(self, name_param):\n",
        "        # self.name = name_param\n",
        "        # self.tricks = [] # [JP_PY_COMMENT_CH9_SEC4_TRICKS_LIST_PH]\n",
        "\n",
        "    # def add_trick(self, trick_param):\n",
        "        # [JP_PY_COMMENT_CH9_SEC4_ADD_TRICK_BODY_PH]\n",
        "        # pass\n",
        "        \n",
        "    # def bark(self):\n",
        "        # [JP_PY_COMMENT_CH9_SEC4_BARK_BODY_PH]\n",
        "        # print(f\"{self.name}: [JP_PY_STRING_WOOF_PH]\")\n",
        "\n",
        "# [JP_PY_COMMENT_CH9_SEC4_CREATE_DOG_PH]\n",
        "# dog1 = Dog(\"[JP_PY_STRING_DOG_NAME_POCHI_PH]\")\n",
        "# dog1.add_trick(\"[JP_PY_STRING_TRICK_SIT_PH]\")\n",
        "# dog1.add_trick(\"[JP_PY_STRING_TRICK_ROLLOVER_PH]\")\n",
        "# dog1.bark()\n",
        "# print(f\"{dog1.name}[JP_PY_STRING_CAN_DO_TRICKS_PH] {dog1.tricks}\")"
      ],
      "outputs": [],
      "execution_count": null
    },
    {
      "cell_type": "code",
      "metadata": {
        "jupyter": {
          "source_hidden": true
        },
        "title": "[JP_CHECK_TITLE_CH9_SEC4_PH]"
      },
      "source": [
        "#@title [JP_CHECK_TITLE_CH9_SEC4_PH] { display-mode: \"form\" }\n",
        "# [JP_CHECK_CODE_9_4_CONTENT_PH]\n",
        "print(\"[JP_CHECK_TEXT_CH9_SEC4_PH]\")"
      ],
      "outputs": [],
      "execution_count": null
    },
    {
      "cell_type": "code",
      "metadata": {
        "jupyter": {
          "source_hidden": true
        }
      },
      "source": [
        "class DogSolutionCh9Sec4:\n",
        "    def __init__(self, name):\n",
        "        self.name = name\n",
        "        self.tricks = [] # 芸を保存するリスト\n",
        "\n",
        "    def add_trick(self, trick):\n",
        "        self.tricks.append(trick)\n",
        "        print(f\"{self.name}は新しい芸「{trick}」を覚えた！\")\n",
        "        \n",
        "    def bark(self):\n",
        "        print(f\"{self.name}: ワンワン！\")\n",
        "\n",
        "dog_sol1_ch9_s4 = DogSolutionCh9Sec4(\"ポチ\")\n",
        "dog_sol1_ch9_s4.add_trick(\"お手\")\n",
        "dog_sol1_ch9_s4.add_trick(\"伏せ\")\n",
        "dog_sol1_ch9_s4.bark()\n",
        "print(f\"{dog_sol1_ch9_s4.name}ができる芸: {dog_sol1_ch9_s4.tricks}\")\n",
        "\n",
        "dog_sol2_ch9_s4 = DogSolutionCh9Sec4(\"ハチ\")\n",
        "dog_sol2_ch9_s4.add_trick(\"待て\")\n",
        "dog_sol2_ch9_s4.bark()\n",
        "print(f\"{dog_sol2_ch9_s4.name}ができる芸: {dog_sol2_ch9_s4.tricks}\")"
      ],
      "outputs": [],
      "execution_count": null
    },
    {
      "cell_type": "markdown",
      "metadata": {},
      "source": [
        "## ## 9.5 オブジェクトの作成と使用\\n",
        "\\n",
        "クラスを定義したら、そのクラスからオブジェクト（インスタンスとも呼ばれます）を作成して使用します。オブジェクトを作成するには、クラス名の後に丸括弧 `()` を付けて呼び出します（コンストラクタに引数が必要な場合は、括弧内に引数を指定します）。\\n",
        "作成したオブジェクトの属性にアクセスしたり、メソッドを呼び出したりするには、ドット `.` 演算子を使います。\\n",
        "\\n",
        "**クラス属性：** クラス全体で共有される属性です。クラス変数とも呼ばれます。`クラス名.クラス属性名` でアクセスできます。\\n",
        "**インスタンス属性：** 各オブジェクトが個別に持つ属性です。`self.属性名` で定義され、`オブジェクト名.属性名` でアクセスします。\\n",
        "```python\\n",
        "# class MyClassPlaceholder:\\n",
        "#     class_attribute_placeholder = \"[JP_PY_STRING_CLASS_ATTR_VALUE_PH]\" # [JP_PY_COMMENT_CLASS_ATTR_PH]\\n",
        "# \\n",
        "#     def __init__(self, instance_attr_val_ph):\\n",
        "#         self.instance_attribute_ph = instance_attr_val_ph\\n",
        "# \\n",
        "#     def display(self):\\n",
        "#         print(f\"[JP_PY_STRING_INSTANCE_ATTR_DISPLAY_PH] {self.instance_attribute_ph}\")\\n",
        "#         print(f\"[JP_PY_STRING_CLASS_ATTR_DISPLAY_PH] {MyClassPlaceholder.class_attribute_placeholder}\")\\n",
        "# \\n",
        "# # [JP_PY_COMMENT_OBJECT_CREATION_PH]\\n",
        "# obj1_ph = MyClassPlaceholder(\"[JP_PY_STRING_OBJ1_VALUE_PH]\")\\n",
        "# obj2_ph = MyClassPlaceholder(\"[JP_PY_STRING_OBJ2_VALUE_PH]\")\\n",
        "# \\n",
        "# obj1_ph.display()\\n",
        "# obj2_ph.display()\\n",
        "# print(MyClassPlaceholder.class_attribute_placeholder) # [JP_PY_COMMENT_ACCESS_CLASS_ATTR_DIRECTLY_PH]\\n",
        "```"
      ]
    },
    {
      "cell_type": "markdown",
      "metadata": {},
      "source": [
        "### ### 練習問題 9.5\\n",
        "\\n",
        "`Car` というクラスを定義して、車のオブジェクトを作成し操作してみましょう。\\n",
        "1.  1.  コンストラクタ `__init__(self, color, brand)` を持ち、色(`color`)とメーカー名(`brand`)をインスタンス属性として設定します。また、エンジンの状態を表すインスタンス属性 `self.is_engine_on` を `False` (停止状態) で初期化します。\\n",
        "2.  2.  `start_engine(self)` メソッド：エンジンが停止していれば `self.is_engine_on` を `True` にし、「[メーカー名]の[色]の車がエンジンをかけました。ブルルン！」と表示します。既にエンジンがかかっていれば、「[メーカー名]の[色]の車のエンジンは既にかかっています。」と表示します。\\n",
        "3.  3.  `stop_engine(self)` メソッド：エンジンがかかっていれば `self.is_engine_on` を `False` にし、「[メーカー名]の[色]の車のエンジンを停止しました。シーン。」と表示します。既にエンジンが停止していれば、「[メーカー名]の[色]の車のエンジンは既に停止しています。」と表示します。\\n",
        "4.  4.  「赤」の「トヨタ」車オブジェクトと、「青」の「ホンダ」車オブジェクトをそれぞれ作成し、エンジンをかけたり停止したりする操作を何度か試して、メッセージが正しく表示されるか確認してください。"
      ]
    },
    {
      "cell_type": "code",
      "metadata": {},
      "source": [
        "# [JP_PY_COMMENT_CH9_SEC5_DEFINE_CAR_CLASS_PH]\n",
        "# class Car:\n",
        "    # [JP_PY_COMMENT_CH9_SEC5_INIT_METHOD_PH]\n",
        "    # def __init__(self, color_param, brand_param):\n",
        "        # self.color = color_param\n",
        "        # self.brand = brand_param\n",
        "        # self.is_engine_on = False # [JP_PY_COMMENT_CH9_SEC5_ENGINE_STATUS_PH]\n",
        "\n",
        "    # [JP_PY_COMMENT_CH9_SEC5_START_ENGINE_METHOD_PH]\n",
        "    # def start_engine(self):\n",
        "        # [JP_PY_COMMENT_CH9_SEC5_START_ENGINE_LOGIC_PH]\n",
        "        # pass\n",
        "\n",
        "    # [JP_PY_COMMENT_CH9_SEC5_STOP_ENGINE_METHOD_PH]\n",
        "    # def stop_engine(self):\n",
        "        # [JP_PY_COMMENT_CH9_SEC5_STOP_ENGINE_LOGIC_PH]\n",
        "        # pass\n",
        "\n",
        "# [JP_PY_COMMENT_CH9_SEC5_CREATE_CARS_PH]\n",
        "# car1 = Car(\"[JP_PY_STRING_CAR_COLOR_RED_PH]\", \"[JP_PY_STRING_CAR_BRAND_TOYOTA_PH]\")\n",
        "# car2 = Car(\"[JP_PY_STRING_CAR_COLOR_BLUE_PH]\", \"[JP_PY_STRING_CAR_BRAND_HONDA_PH]\")\n",
        "\n",
        "# [JP_PY_COMMENT_CH9_SEC5_OPERATE_CAR1_PH]\n",
        "# car1.start_engine()\n",
        "# car1.start_engine() # [JP_PY_COMMENT_CH9_SEC5_TRY_START_AGAIN_PH]\n",
        "# car1.stop_engine()\n",
        "\n",
        "# [JP_PY_COMMENT_CH9_SEC5_OPERATE_CAR2_PH]\n",
        "# car2.stop_engine()  # [JP_PY_COMMENT_CH9_SEC5_TRY_STOP_WHEN_OFF_PH]\n",
        "# car2.start_engine()"
      ],
      "outputs": [],
      "execution_count": null
    },
    {
      "cell_type": "code",
      "metadata": {
        "jupyter": {
          "source_hidden": true
        },
        "title": "[JP_CHECK_TITLE_CH9_SEC5_PH]"
      },
      "source": [
        "#@title [JP_CHECK_TITLE_CH9_SEC5_PH] { display-mode: \"form\" }\n",
        "# [JP_CHECK_CODE_9_5_CONTENT_PH]\n",
        "print(\"[JP_CHECK_TEXT_CH9_SEC5_PH]\")"
      ],
      "outputs": [],
      "execution_count": null
    },
    {
      "cell_type": "code",
      "metadata": {
        "jupyter": {
          "source_hidden": true
        }
      },
      "source": [
        "class CarSolutionCh9Sec5:\n",
        "    def __init__(self, color, brand):\n",
        "        self.color = color\n",
        "        self.brand = brand\n",
        "        self.is_engine_on = False # エンジンの状態を管理する属性\n",
        "\n",
        "    def start_engine(self):\n",
        "        if not self.is_engine_on:\n",
        "            self.is_engine_on = True\n",
        "            print(f\"{self.brand}の{self.color}の車がエンジンをかけました。ブルルン！\")\n",
        "        else:\n",
        "            print(f\"{self.brand}の{self.color}の車のエンジンは既にかかっています。\")\n",
        "\n",
        "    def stop_engine(self):\n",
        "        if self.is_engine_on:\n",
        "            self.is_engine_on = False\n",
        "            print(f\"{self.brand}の{self.color}の車のエンジンを停止しました。シーン。\")\n",
        "        else:\n",
        "            print(f\"{self.brand}の{self.color}の車のエンジンは既に停止しています。\")\n",
        "\n",
        "my_car1_ch9_s5_sol = CarSolutionCh9Sec5(\"赤\", \"トヨタ\")\n",
        "my_car2_ch9_s5_sol = CarSolutionCh9Sec5(\"青\", \"ホンダ\")\n",
        "\n",
        "print(\"--- my_car1 の操作 ---\")\n",
        "my_car1_ch9_s5_sol.start_engine()\n",
        "my_car1_ch9_s5_sol.start_engine()\n",
        "my_car1_ch9_s5_sol.stop_engine()\n",
        "my_car1_ch9_s5_sol.stop_engine()\n",
        "\n",
        "print(\"\\n--- my_car2 の操作 ---\")\n",
        "my_car2_ch9_s5_sol.stop_engine()\n",
        "my_car2_ch9_s5_sol.start_engine()\n",
        "my_car2_ch9_s5_sol.stop_engine()"
      ],
      "outputs": [],
      "execution_count": null
    },
    {
      "cell_type": "markdown",
      "metadata": {},
      "source": [
        "# # 第10章：オブジェクト指向プログラミング(OOP) Part 2: 継承\\n",
        "\\n",
        "前の章では、オブジェクト指向プログラミングの基本的な要素であるクラスとオブジェクトについて学び、独自のデータ型を設計する方法を見ました。\\n",
        "この章では、OOPのもう一つの重要な柱である **継承 (Inheritance)** について掘り下げます。継承は、既存のクラスの特性（属性やメソッド）を引き継いで新しいクラスを作成する仕組みで、コードの再利用性を高め、クラス間の関係性を体系的に構築するのに役立ちます。"
      ]
    },
    {
      "cell_type": "markdown",
      "metadata": {},
      "source": [
        "## ## 10.1 継承とは？\\n",
        "\\n",
        "**継承 (Inheritance)** とは、あるクラス（**親クラス**、**スーパークラス**、または**基底クラス**と呼びます）が持つ属性やメソッドを、別の新しいクラス（**子クラス**、**サブクラス**、または**派生クラス**と呼びます）が引き継ぐことができる仕組みです。\\n",
        "子クラスは、親クラスの機能を全て受け継ぎつつ、独自の新しい機能を追加したり、親クラスの機能を変更（オーバーライド）したりすることができます。\\n",
        "継承の主な利点は以下の通りです：\\n",
        "*   ****コードの再利用性：** 親クラスで定義された共通の属性やメソッドを、複数の子クラスで再利用できます。これにより、同じコードを何度も書く手間が省けます。**\\n",
        "*   ****階層的なクラス構造：** 現実世界の「IS-A関係」（例：犬は動物である、車は乗り物である）をプログラム内で自然に表現でき、クラス間の関係が明確になります。**\\n",
        "例えば、「動物」という親クラスがあり、それには「食べる」「寝る」といった基本的なメソッドがあるとします。「犬」クラスや「猫」クラスは「動物」クラスを継承することで、これらの基本メソッドを自動的に持つことができ、さらに「吠える」（犬クラス）や「ニャーと鳴く」（猫クラス）といった独自のメソッドを追加できます。"
      ]
    },
    {
      "cell_type": "markdown",
      "metadata": {},
      "source": [
        "### ### 練習問題 10.1\\n",
        "\\n",
        "「乗り物 (Vehicle)」という親クラスを考えます。この親クラスから継承して作成できる子クラスの例を3つ挙げてください。また、それぞれの子クラスが「乗り物」クラスからどのような共通の特性（属性やメソッド）を継承し、どのような独自の特性を持つ可能性があるか簡単に説明してください。"
      ]
    },
    {
      "cell_type": "markdown",
      "metadata": {},
      "source": [
        "ここに回答を記述してください。\\n",
        "1. **親クラス：乗り物 (Vehicle)**\\n",
        "    *   1.  子クラスの例：\\n",
        "    *   2.  子クラスの例：\\n",
        "    *   3.  子クラスの例：\\n",
        "    *      共通の特性と独自の特性："
      ]
    },
    {
      "cell_type": "markdown",
      "metadata": {
        "jupyter": {
          "source_hidden": true
        }
      },
      "source": [
        "---<details><summary>解答例 10.1</summary>\\n",
        "\\n",
        "**親クラス：乗り物 (Vehicle)**\\n",
        "   共通の特性（例）：移動速度、乗員定員、`move()` メソッド、`stop()` メソッド\\n",
        "\\n",
        "1.  **子クラスの例：車 (Car)**\\n",
        "    *   独自の特性（例）：タイヤの数、ドアの数、`accelerate()` メソッド、`brake()` メソッド\\n",
        "2.  **子クラスの例：自転車 (Bicycle)**\\n",
        "    *   独自の特性（例）：ギアの段数、ベルの有無、`pedal()` メソッド、`ring_bell()` メソッド\\n",
        "3.  **子クラスの例：飛行機 (Airplane)**\\n",
        "    *   独自の特性（例）：翼長、エンジン数、`take_off()` メソッド、`land()` メソッド\\n",
        "</details>"
      ]
    },
    {
      "cell_type": "markdown",
      "metadata": {},
      "source": [
        "## ## 10.2 サブクラスの定義\\n",
        "\\n",
        "Pythonで子クラス（サブクラス）を定義するには、クラス名の後の丸括弧 `()` の中に親クラス（スーパークラス）の名前を記述します。\\n",
        "```python\\n",
        "# class ParentClassPlaceholder:\\n",
        "#     def __init__(self, name_ph):\\n",
        "#         self.name_ph = name_ph\\n",
        "#     def parent_method_placeholder(self):\\n",
        "#         print(f\"[JP_PY_STRING_PARENT_METHOD_MSG_PH] {self.name_ph}\")\\n",
        "# \\n",
        "# class ChildClassPlaceholder(ParentClassPlaceholder): # [JP_PY_COMMENT_INHERITANCE_SYNTAX_PH]\\n",
        "#     pass # [JP_PY_COMMENT_CHILD_CAN_HAVE_OWN_METHODS_PH]\\n",
        "# \\n",
        "# # child_obj_placeholder = ChildClassPlaceholder(\"[JP_PY_STRING_CHILD_NAME_PH]\")\\n",
        "# # child_obj_placeholder.parent_method_placeholder() # [JP_PY_COMMENT_CHILD_USES_PARENT_METHOD_PH]\\n",
        "```\\n",
        "子クラスは、親クラスで定義された全ての属性とメソッドを自動的に利用できます。この時点では、`ChildClassPlaceholder` は `ParentClassPlaceholder` と全く同じ機能を持っています。"
      ]
    },
    {
      "cell_type": "code",
      "metadata": {
        "jupyter": {
          "source_hidden": true
        }
      },
      "source": [
        "class AnimalSolutionCh10Sec4:\n",
        "    def __init__(self, name):\n",
        "        self.name = name\n",
        "        print(f\"Animal __init__: 動物「{self.name}」が作成されました。\")\n",
        "\n",
        "    def eat(self):\n",
        "        print(f\"{self.name}は食事をしています。モグモグ。\")\n",
        "\n",
        "class BirdFromAnimalCh10Sec4(AnimalSolutionCh10Sec4):\n",
        "    def __init__(self, name, wingspan):\n",
        "        print(f\"Bird __init__ が呼ばれました (super().__init__ の前)。\")\n",
        "        super().__init__(name) # 親クラスの__init__を呼び出してname属性を設定\n",
        "        self.wingspan = wingspan # Birdクラス独自の属性\n",
        "        print(f\"Bird __init__: 鳥「{self.name}」(翼長: {self.wingspan}cm) が完全に作成されました。\")\n",
        "\n",
        "    def fly(self):\n",
        "        print(f\"{self.name}は、翼長{self.wingspan}cmの美しい翼を広げて空を飛んでいます。\")\n",
        "\n",
        "tsubame_ch10_s4 = BirdFromAnimalCh10Sec4(\"ツバメ\", 30)\n",
        "tsubame_ch10_s4.eat()\n",
        "tsubame_ch10_s4.fly()"
      ],
      "outputs": [],
      "execution_count": null
    },
    {
      "cell_type": "markdown",
      "metadata": {},
      "source": [
        "# # 第11章：モジュールとパッケージ\\n",
        "\\n",
        "Pythonプログラミングの大きな利点の一つは、豊富な「モジュール」と「パッケージ」が利用できることです。これらを活用することで、複雑な機能を自分で一から書くことなく、効率的にプログラムを開発できます。\\n",
        "この章では、モジュールとパッケージの基本的な概念と使い方、そしてPythonに標準で備わっている便利なモジュール（標準ライブラリ）のいくつかについて学びます。"
      ]
    },
    {
      "cell_type": "markdown",
      "metadata": {},
      "source": [
        "## ## 11.1 モジュールとは？\\n",
        "\\n",
        "**モジュール (Module)** とは、Pythonの定義や文（関数、クラス、変数など）が含まれたファイルのことです。通常、拡張子が `.py` のファイルが1つのモジュールに対応します。\\n",
        "モジュールを使う主な目的は以下の通りです：\\n",
        "*   **コードの整理：** 関連する機能やデータを一つのファイルにまとめることで、プログラム全体の構造を分かりやすくします。\\n",
        "*   **名前空間の分割：** モジュールごとに独立した名前空間（変名や関数名を管理する領域）を持つため、異なるモジュールで同じ名前の関数や変数があっても衝突を防げます。\\n",
        "*   **再利用性：** 作成したモジュールは、他のPythonプログラムから簡単に呼び出して再利用できます。これにより、同じようなコードを何度も書く手間を省けます。"
      ]
    },
    {
      "cell_type": "markdown",
      "metadata": {},
      "source": [
        "### ### 練習問題 11.1\\n",
        "\\n",
        "もしあなたが、数学的な計算（例：円の面積を求める、平方根を計算する、三角関数を扱うなど）に関連する自作の関数をいくつか持っているとします。これらの関数を `my_math_tools.py` という名前のモジュールにまとめることの利点を2つ説明してください。"
      ]
    },
    {
      "cell_type": "markdown",
      "metadata": {},
      "source": [
        "ここに回答を記述してください。\\n",
        "1. ...\\n",
        "2. ..."
      ]
    },
    {
      "cell_type": "markdown",
      "metadata": {
        "jupyter": {
          "source_hidden": true
        }
      },
      "source": [
        "---<details><summary>解答例 11.1</summary>\\n",
        "\\n",
        "1.  **整理と管理の容易さ：** 数学関連の関数が一つのファイル (`my_math_tools.py`) に集約されるため、どこに何があるか把握しやすくなり、コードの管理が楽になります。\\n",
        "2.  **再利用性の向上：** 他のプロジェクトやプログラムで同じ数学計算が必要になった場合、`my_math_tools.py` モジュールをインポートするだけで、定義した関数群をすぐに利用できます。同じコードをコピー＆ペーストする必要がありません。\\n",
        "</details>"
      ]
    },
    {
      "cell_type": "markdown",
      "metadata": {},
      "source": [
        "## ## 11.2 モジュールのインポート (`import`)\\n",
        "\\n",
        "他のモジュールで定義された関数やクラスなどを自分のプログラムで利用するには、そのモジュールを **インポート (import)** する必要があります。インポートにはいくつかの方法があります。\\n",
        "****1. モジュール全体をインポートする： `import モジュール名`****\\n",
        "```python\\n",
        "import module_name_placeholder\\n",
        "# module_name_placeholder.function_name_placeholder()\\n",
        "```\\n",
        "****2. モジュールから特定の要素だけをインポートする： `from モジュール名 import 要素名1, 要素名2, ...`****\\n",
        "```python\\n",
        "from module_name_placeholder import specific_function_placeholder\\n",
        "# specific_function_placeholder()\\n",
        "```\\n",
        "****3. モジュールから全ての要素をインポートする： `from モジュール名 import *`****\\n",
        "```python\\n",
        "from module_name_placeholder import *\\n",
        "# function1_placeholder()\\n",
        "# function2_placeholder()\\n",
        "```\\n",
        "この方法は、どの要素がどこから来たのか分かりにくくなるため、通常はあまり推奨されません（特に大きなモジュールの場合）。\\n",
        "****4. モジュールに別名（エイリアス）を付けてインポートする： `import モジュール名 as 別名`****\\n",
        "```python\\n",
        "import module_name_placeholder as alias_placeholder\\n",
        "# alias_placeholder.function_name_placeholder()\\n",
        "```"
      ]
    },
    {
      "cell_type": "markdown",
      "metadata": {},
      "source": [
        "### ### 練習問題 11.2\\n",
        "\\n",
        "Pythonの標準ライブラリである `math` モジュールを使って、以下の操作を行ってください。\\n",
        "1.  `math` モジュールをインポートします。\\n",
        "2.  `math.pi` (円周率) の値を表示します。\\n",
        "3.  `math.sqrt()` 関数を使って16の平方根を計算し、結果を表示します。"
      ]
    },
    {
      "cell_type": "code",
      "metadata": {},
      "source": [
        "def import_math_module_exercise_ch11_sec2():\n",
        "  # [JP_PY_COMMENT_CH11_SEC2_AS_IMPORT_MATH_PH]\n",
        "  # [JP_PY_COMMENT_CH11_SEC2_AS_PRINT_PI_SQRT_PH]\n",
        "  pass\n",
        "# import_math_module_exercise_ch11_sec2()"
      ],
      "outputs": [],
      "execution_count": null
    },
    {
      "cell_type": "code",
      "metadata": {
        "jupyter": {
          "source_hidden": true
        },
        "title": "[JP_CHECK_TITLE_CH11_SEC2_PH]"
      },
      "source": [
        "#@title [JP_CHECK_TITLE_CH11_SEC2_PH] { display-mode: \"form\" }\n",
        "print(\"[JP_CHECK_TEXT_CH11_SEC2_PH]\")"
      ],
      "outputs": [],
      "execution_count": null
    },
    {
      "cell_type": "code",
      "metadata": {
        "jupyter": {
          "source_hidden": true
        }
      },
      "source": [
        "def import_math_module_exercise_ch11_sec2_solution():\n",
        "  import math\n",
        "  print(f\"円周率 (math.pi): {math.pi}\")\n",
        "  print(f\"16の平方根 (math.sqrt(16)): {math.sqrt(16)}\")\n",
        "import_math_module_exercise_ch11_sec2_solution()"
      ],
      "outputs": [],
      "execution_count": null
    },
    {
      "cell_type": "markdown",
      "metadata": {},
      "source": [
        "## ## 11.3 標準ライブラリの便利なモジュール\\n",
        "\\n",
        "Pythonには、インストールしなくてもすぐに使える便利なモジュール群が多数組み込まれています。これらを **標準ライブラリ (Standard Library)** と呼びます。ここではいくつかの代表的なモジュールを紹介します。\\n",
        "*   **`math`**: 円周率(`pi`)、平方根(`sqrt`)、三角関数(`sin`, `cos`)、対数(`log`)など、数学的な計算を行うための関数や定数を提供します。\\n",
        "*   **`random`**: 乱数（ランダムな数）を生成するための関数を提供します。例えば、ランダムな整数(`randint`)、0から1までの一様乱数(`random`)、リストからランダムに要素を選択(`choice`)するなどが可能です。\\n",
        "*   **`datetime`**: 日付や時刻を扱うためのクラスや関数を提供します。現在の日時取得、日付の計算、フォーマット変換などができます。\\n",
        "*   **`os`**: オペレーティングシステムと対話するための機能を提供します。ファイルやディレクトリの操作（存在確認、作成、削除など）、環境変数の取得などができます。（この教材では深入りしませんが、非常に強力なモジュールです）\\n",
        "*   **`json`**: JSON (JavaScript Object Notation) 形式のデータを扱うための機能を提供します。JSONは、ウェブAPIなどでよく使われるデータ交換フォーマットです。"
      ]
    },
    {
      "cell_type": "markdown",
      "metadata": {},
      "source": [
        "### ### 練習問題 11.3\\n",
        "\\n",
        "1. `random` モジュールをインポートしてください。\\n",
        "2. `random.randint(a, b)` 関数を使って、1から100までのランダムな整数を1つ生成し、表示してください。\\n",
        "3. `datetime` モジュールをインポートし、その中の `datetime.now()` を使って現在の正確な日時を取得し、表示してください。"
      ]
    },
    {
      "cell_type": "code",
      "metadata": {},
      "source": [
        "def useful_modules_exercise_ch11_sec3():\n",
        "  # [JP_PY_COMMENT_CH11_SEC3_AS_IMPORT_PH]\n",
        "  # [JP_PY_COMMENT_CH11_SEC3_AS_DICE_ROLL_PH]\n",
        "  # [JP_PY_COMMENT_CH11_SEC3_AS_CURRENT_DATETIME_PH]\n",
        "  pass\n",
        "# useful_modules_exercise_ch11_sec3()"
      ],
      "outputs": [],
      "execution_count": null
    },
    {
      "cell_type": "code",
      "metadata": {
        "jupyter": {
          "source_hidden": true
        },
        "title": "[JP_CHECK_TITLE_CH11_SEC3_PH]"
      },
      "source": [
        "#@title [JP_CHECK_TITLE_CH11_SEC3_PH] { display-mode: \"form\" }\n",
        "print(\"[JP_CHECK_TEXT_CH11_SEC3_PH]\")"
      ],
      "outputs": [],
      "execution_count": null
    },
    {
      "cell_type": "code",
      "metadata": {
        "jupyter": {
          "source_hidden": true
        }
      },
      "source": [
        "def useful_modules_exercise_ch11_sec3_solution():\n",
        "  import random\n",
        "  import datetime\n",
        "  dice_roll = random.randint(1, 6)\n",
        "  print(f\"サイコロの目: {dice_roll}\")\n",
        "  now = datetime.datetime.now()\n",
        "  print(f\"現在の日時: {now}\")\n",
        "useful_modules_exercise_ch11_sec3_solution()"
      ],
      "outputs": [],
      "execution_count": null
    },
    {
      "cell_type": "markdown",
      "metadata": {},
      "source": [
        "## ## 11.4 パッケージとは？\\n",
        "\\n",
        "**パッケージ (Package)** とは、関連する複数のモジュールを一つのディレクトリ（フォルダ）にまとめたものです。これにより、大規模なライブラリやアプリケーションのモジュール群を階層的に整理・管理することができます。\\n",
        "パッケージとして認識されるためには、そのディレクトリ内に `__init__.py` という名前の（中身は空でもよい）ファイルが必要です。パッケージ内のモジュールをインポートする際は、`import パッケージ名.モジュール名` のようにドット `.` で繋いで指定します。"
      ]
    },
    {
      "cell_type": "markdown",
      "metadata": {},
      "source": [
        "### ### 練習問題 11.4\\n",
        "\\n",
        "あなたが開発している大きなウェブアプリケーションがあり、ユーザー認証を担当するモジュール群（例：`login.py`, `registration.py`, `profile.py`）と、商品の表示や検索を担当するモジュール群（例：`display.py`, `search.py`, `categories.py`）があるとします。これらをそれぞれ `auth` パッケージと `products` パッケージとして整理することの利点を1つ説明してください。"
      ]
    },
    {
      "cell_type": "markdown",
      "metadata": {},
      "source": [
        "ここに回答を記述してください。"
      ]
    },
    {
      "cell_type": "markdown",
      "metadata": {
        "jupyter": {
          "source_hidden": true
        }
      },
      "source": [
        "---<details><summary>解答例 11.4</summary>\\n",
        "\\n",
        "利点：関連する機能（ユーザー認証関連、商品関連）ごとにモジュールがディレクトリでグループ化されるため、プロジェクト全体の構造が非常に明確になります。例えば、認証周りの修正が必要な場合は `auth` パッケージ内を探せばよく、商品表示に関する修正なら `products` パッケージ内を探せばよい、というように、目的のコードを見つけやすくなり、開発効率や保守性が向上します。また、異なるパッケージ内で同じ名前のモジュールがあっても（例：`utils.py`）、`auth.utils` と `products.utils` のように区別できるため、名前の衝突を避けることができます。\\n",
        "</details>"
      ]
    }
  ],
  "metadata": {
    "kernelspec": {
      "display_name": "Python 3",
      "language": "python",
      "name": "python3"
    },
    "language_info": {
      "codemirror_mode": {
        "name": "ipython",
        "version": 3
      },
      "file_extension": ".py",
      "mimetype": "text/x-python",
      "name": "python",
      "nbconvert_exporter": "python",
      "pygments_lexer": "ipython3",
      "version": "3.10.12"
    }
  },
  "nbformat": 4,
  "nbformat_minor": 5
}